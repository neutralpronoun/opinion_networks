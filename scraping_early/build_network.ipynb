{
 "cells": [
  {
   "cell_type": "code",
   "execution_count": 10,
   "id": "9b8f82d7-1f57-4436-b392-d3ec3535da3a",
   "metadata": {},
   "outputs": [],
   "source": [
    "import os\n",
    "import numpy as np\n",
    "import pandas as pd\n",
    "import matplotlib.pyplot as plt\n",
    "from bs4 import BeautifulSoup\n",
    "import cython\n",
    "import tweepy\n",
    "import json\n",
    "import requests\n",
    "import inspect\n",
    "import re\n",
    "from tqdm import tqdm"
   ]
  },
  {
   "cell_type": "code",
   "execution_count": 12,
   "id": "193c8a25-faeb-4fb9-8ecf-b1c0dc401cfb",
   "metadata": {},
   "outputs": [
    {
     "name": "stdout",
     "output_type": "stream",
     "text": [
      "          Party                      Name  Branch        Username  \\\n",
      "0    Republican             Pete Sessions   House    PeteSessions   \n",
      "1    Democratic            Debbie Dingell   House   RepDebDingell   \n",
      "2    Democratic           Pramila Jayapal   House      RepJayapal   \n",
      "3    Republican               Rob Wittman   House      RobWittman   \n",
      "4    Democratic           Chellie Pingree   House  chelliepingree   \n",
      "..          ...                       ...     ...             ...   \n",
      "521  Republican               Thom Tillis  Senate   SenThomTillis   \n",
      "522  Republican         Diana Harshbarger   House  RepHarshbarger   \n",
      "523  Republican          Tommy Tuberville  Senate   SenTuberville   \n",
      "524  Democratic  Debbie Wasserman Schultz   House    RepDWStweets   \n",
      "525  Republican              Lisa McClain   House  RepLisaMcClain   \n",
      "\n",
      "                     ids  \n",
      "0               24735461  \n",
      "1             2970279814  \n",
      "2     815733290955112448  \n",
      "3               15356407  \n",
      "4               14984637  \n",
      "..                   ...  \n",
      "521           2964174789  \n",
      "522  1345787285179162624  \n",
      "523  1345739193721487362  \n",
      "524           1140648348  \n",
      "525  1344032292432437248  \n",
      "\n",
      "[526 rows x 5 columns]\n"
     ]
    }
   ],
   "source": [
    "data = pd.read_csv(\"politicians.csv\")\n",
    "print(data)\n",
    "\n",
    "usernames = data[\"Username\"].tolist()\n",
    "ids = data[\"ids\"].tolist()\n",
    "\n"
   ]
  },
  {
   "cell_type": "code",
   "execution_count": 13,
   "id": "86a1df5d-3d95-4e83-ae9d-9f2f9fe7b46b",
   "metadata": {},
   "outputs": [],
   "source": [
    "with open(\"dev_keys_json.json\", \"r\") as f:\n",
    "    keys = json.load(f)\n",
    "client = tweepy.Client(bearer_token=keys[\"Bearer_token\"],\n",
    "                       access_token = keys[\"API_key\"],\n",
    "                       access_token_secret = keys[\"API_secret_key\"],\n",
    "                       wait_on_rate_limit=True)\n",
    "\n"
   ]
  },
  {
   "cell_type": "code",
   "execution_count": null,
   "id": "a87361a1-72b5-493d-a590-90af48c5a3b6",
   "metadata": {},
   "outputs": [
    {
     "name": "stderr",
     "output_type": "stream",
     "text": [
      "chelliepingree:   1%|█▏                                                                                                                                                     | 4/526 [00:11<28:55,  3.33s/it]Rate limit exceeded. Sleeping for 890 seconds.\n",
      "RepSmucker:   2%|███▏                                                                                                                                                    | 11/526 [15:11<4:54:10, 34.27s/it]Rate limit exceeded. Sleeping for 890 seconds.\n",
      "SenDuckworth:   3%|█████▏                                                                                                                                                | 18/526 [30:06<4:54:51, 34.83s/it]Rate limit exceeded. Sleeping for 892 seconds.\n",
      "RepSteveChabot:   5%|███████▎                                                                                                                                            | 26/526 [45:11<3:29:44, 25.17s/it]Rate limit exceeded. Sleeping for 891 seconds.\n",
      "AOC:   6%|█████████▌                                                                                                                                                   | 32/526 [1:00:15<6:50:41, 49.88s/it]Rate limit exceeded. Sleeping for 891 seconds.\n",
      "RepGuthrie:   7%|███████████                                                                                                                                           | 39/526 [1:15:14<4:56:07, 36.48s/it]Rate limit exceeded. Sleeping for 892 seconds.\n",
      "RepDanKildee:   9%|█████████████▊                                                                                                                                      | 49/526 [1:30:15<1:41:56, 12.82s/it]Rate limit exceeded. Sleeping for 894 seconds.\n",
      "SenStabenow:  10%|███████████████▎                                                                                                                                     | 54/526 [1:45:20<9:04:07, 69.17s/it]Rate limit exceeded. Sleeping for 893 seconds.\n"
     ]
    }
   ],
   "source": [
    "following_ids = []\n",
    "following_usernames = []\n",
    "\n",
    "pbar = tqdm(ids)\n",
    "\n",
    "\n",
    "i = 0\n",
    "for id in pbar:\n",
    "    pbar.set_description(f\"{usernames[i]}\")\n",
    "    followings = []\n",
    "\n",
    "    \n",
    "    for follow in tweepy.Paginator(client.get_users_following, id = id,\n",
    "                                  max_results=1000).flatten(limit = 99999):\n",
    "        followings.append(follow)\n",
    "    \n",
    "    these_follow_ids = []\n",
    "    these_follow_names = []\n",
    "    \n",
    "    for f in followings:\n",
    "        #print(f)\n",
    "        f_id = f[\"id\"]\n",
    "        f_username = f[\"username\"]\n",
    "        \n",
    "        these_follow_ids.append(f_id)\n",
    "        these_follow_names.append(f_username)\n",
    "    #print(these_follow_ids)\n",
    "    #print(these_follow_names)\n",
    "    \n",
    "    following_ids.append(these_follow_ids)\n",
    "    following_usernames.append(these_follow_names)\n",
    "    \n",
    "    i += 1\n",
    "        \n",
    "        \n",
    "print(following_ids)\n",
    "print(following_usernames)\n"
   ]
  },
  {
   "cell_type": "code",
   "execution_count": null,
   "id": "8b3043dd-4d84-4bdd-85f8-bdc6dc628865",
   "metadata": {},
   "outputs": [],
   "source": [
    "id_one = data[\"ids\"][0]\n",
    "following = client.get_users_following(id = id_one)\n",
    "print(following[0])\n",
    "print(repr(following[0][0][\"id\"]))"
   ]
  },
  {
   "cell_type": "code",
   "execution_count": null,
   "id": "e429a3dd-9bbf-40ea-bb2f-c0e6a8ebeebb",
   "metadata": {},
   "outputs": [],
   "source": []
  }
 ],
 "metadata": {
  "kernelspec": {
   "display_name": "Python 3 (ipykernel)",
   "language": "python",
   "name": "python3"
  },
  "language_info": {
   "codemirror_mode": {
    "name": "ipython",
    "version": 3
   },
   "file_extension": ".py",
   "mimetype": "text/x-python",
   "name": "python",
   "nbconvert_exporter": "python",
   "pygments_lexer": "ipython3",
   "version": "3.9.6"
  }
 },
 "nbformat": 4,
 "nbformat_minor": 5
}
