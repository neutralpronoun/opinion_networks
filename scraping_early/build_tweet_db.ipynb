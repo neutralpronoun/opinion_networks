{
 "cells": [
  {
   "cell_type": "code",
   "execution_count": 1,
   "id": "9b8f82d7-1f57-4436-b392-d3ec3535da3a",
   "metadata": {},
   "outputs": [],
   "source": [
    "import os\n",
    "import numpy as np\n",
    "import pandas as pd\n",
    "import matplotlib.pyplot as plt\n",
    "from bs4 import BeautifulSoup\n",
    "import tweepy\n",
    "import json\n",
    "import requests\n",
    "import inspect\n",
    "import re\n",
    "from tqdm import tqdm\n",
    "from time import time, sleep"
   ]
  },
  {
   "cell_type": "code",
   "execution_count": 2,
   "id": "193c8a25-faeb-4fb9-8ecf-b1c0dc401cfb",
   "metadata": {},
   "outputs": [],
   "source": [
    "# data = pd.read_csv(\"politicians.csv\")\n",
    "# print(data)\n",
    "\n",
    "# usernames = data[\"Username\"].tolist()\n",
    "# ids = data[\"ids\"].tolist()\n",
    "\n"
   ]
  },
  {
   "cell_type": "code",
   "execution_count": 3,
   "id": "86a1df5d-3d95-4e83-ae9d-9f2f9fe7b46b",
   "metadata": {},
   "outputs": [],
   "source": [
    "with open(\"dev_keys_json.json\", \"r\") as f:\n",
    "    keys = json.load(f)\n",
    "client = tweepy.Client(bearer_token=keys[\"Bearer_token\"],\n",
    "                       access_token = keys[\"API_key\"],\n",
    "                       access_token_secret = keys[\"API_secret_key\"],\n",
    "                       wait_on_rate_limit=True)\n",
    "\n",
    "\n",
    "# empty_list_list = []\n",
    "# for i in range(len(ids)):\n",
    "#     empty_list_list.append({\"ids\":[], \"usernames\":[]})\n",
    "\n",
    "# data[\"Following\"] = empty_list_list"
   ]
  },
  {
   "cell_type": "code",
   "execution_count": 4,
   "id": "c594fb1c-cc2f-442d-8d1e-f2ca9b0b3eac",
   "metadata": {},
   "outputs": [
    {
     "name": "stdout",
     "output_type": "stream",
     "text": [
      "          Party                      Name  Branch        Username  \\\n",
      "0    Republican             Pete Sessions   House    PeteSessions   \n",
      "1    Democratic            Debbie Dingell   House   RepDebDingell   \n",
      "2    Democratic           Pramila Jayapal   House      RepJayapal   \n",
      "3    Republican               Rob Wittman   House      RobWittman   \n",
      "4    Democratic           Chellie Pingree   House  chelliepingree   \n",
      "..          ...                       ...     ...             ...   \n",
      "521  Republican               Thom Tillis  Senate   SenThomTillis   \n",
      "522  Republican         Diana Harshbarger   House  RepHarshbarger   \n",
      "523  Republican          Tommy Tuberville  Senate   SenTuberville   \n",
      "524  Democratic  Debbie Wasserman Schultz   House    RepDWStweets   \n",
      "525  Republican              Lisa McClain   House  RepLisaMcClain   \n",
      "\n",
      "                     ids                                          Following  \n",
      "0               24735461  {'ids': [1396151678, 815966620300480514, 12912...  \n",
      "1             2970279814  {'ids': [353272992, 300463737, 393541673, 9873...  \n",
      "2     815733290955112448  {'ids': [35281549, 25535595, 19847765, 1002630...  \n",
      "3               15356407  {'ids': [834069080, 2964877294, 3686482216, 29...  \n",
      "4               14984637  {'ids': [38026753, 873135988440223745, 1462548...  \n",
      "..                   ...                                                ...  \n",
      "521           2964174789  {'ids': [17918065, 1083832979519168512, 451015...  \n",
      "522  1345787285179162624  {'ids': [1462801576440090627, 2229044521, 1465...  \n",
      "523  1345739193721487362  {'ids': [1409591919949271046, 234022257, 18646...  \n",
      "524           1140648348  {'ids': [1352760304271241218, 34244715, 860712...  \n",
      "525  1344032292432437248  {'ids': [1055730738, 1457745193197780993, 1479...  \n",
      "\n",
      "[526 rows x 6 columns]\n",
      "          Party                      Name  Branch        Username  \\\n",
      "0    Republican             Pete Sessions   House    PeteSessions   \n",
      "1    Democratic            Debbie Dingell   House   RepDebDingell   \n",
      "2    Democratic           Pramila Jayapal   House      RepJayapal   \n",
      "3    Republican               Rob Wittman   House      RobWittman   \n",
      "4    Democratic           Chellie Pingree   House  chelliepingree   \n",
      "..          ...                       ...     ...             ...   \n",
      "521  Republican               Thom Tillis  Senate   SenThomTillis   \n",
      "522  Republican         Diana Harshbarger   House  RepHarshbarger   \n",
      "523  Republican          Tommy Tuberville  Senate   SenTuberville   \n",
      "524  Democratic  Debbie Wasserman Schultz   House    RepDWStweets   \n",
      "525  Republican              Lisa McClain   House  RepLisaMcClain   \n",
      "\n",
      "                     ids                                          Following  \n",
      "0               24735461  {'ids': [1396151678, 815966620300480514, 12912...  \n",
      "1             2970279814  {'ids': [353272992, 300463737, 393541673, 9873...  \n",
      "2     815733290955112448  {'ids': [35281549, 25535595, 19847765, 1002630...  \n",
      "3               15356407  {'ids': [834069080, 2964877294, 3686482216, 29...  \n",
      "4               14984637  {'ids': [38026753, 873135988440223745, 1462548...  \n",
      "..                   ...                                                ...  \n",
      "521           2964174789  {'ids': [17918065, 1083832979519168512, 451015...  \n",
      "522  1345787285179162624  {'ids': [1462801576440090627, 2229044521, 1465...  \n",
      "523  1345739193721487362  {'ids': [1409591919949271046, 234022257, 18646...  \n",
      "524           1140648348  {'ids': [1352760304271241218, 34244715, 860712...  \n",
      "525  1344032292432437248  {'ids': [1055730738, 1457745193197780993, 1479...  \n",
      "\n",
      "[526 rows x 6 columns]\n"
     ]
    }
   ],
   "source": [
    "from ast import literal_eval\n",
    "\n",
    "data = pd.read_csv(\"politicians_connections_two.csv\")\n",
    "print(data)\n",
    "data[\"Following\"] = data[\"Following\"].apply(literal_eval)\n",
    "\n",
    "print(data)\n",
    "\n",
    "usernames = data[\"Username\"].tolist()\n",
    "ids = data[\"ids\"].tolist()"
   ]
  },
  {
   "cell_type": "code",
   "execution_count": 5,
   "id": "b6a0ad6e-a7af-4159-8095-6b9c57938fee",
   "metadata": {},
   "outputs": [
    {
     "name": "stdout",
     "output_type": "stream",
     "text": [
      "/home/pi/Documents/opinion_networks/scraping_early/scraped_tweets\n"
     ]
    }
   ],
   "source": [
    "os.chdir(\"./scraped_tweets\")\n",
    "print(os.getcwd())\n"
   ]
  },
  {
   "cell_type": "code",
   "execution_count": 7,
   "id": "7a45778e-f6dd-4888-8a1f-44293d040f29",
   "metadata": {},
   "outputs": [
    {
     "name": "stderr",
     "output_type": "stream",
     "text": [
      "RepHaleyStevens:  15%|███▍                   | 79/526 [15:16<1:30:21, 12.13s/it]Rate limit exceeded. Sleeping for 115 seconds.\n",
      "RepLawrence:  29%|███████▍                  | 151/526 [30:34<1:24:22, 13.50s/it]Rate limit exceeded. Sleeping for 95 seconds.\n",
      "RepDavid:  43%|█████████████▏                 | 224/526 [45:23<52:06, 10.35s/it]Rate limit exceeded. Sleeping for 109 seconds.\n",
      "NydiaVelazquez:  55%|████████████▌          | 288/526 [1:00:37<48:28, 12.22s/it]Rate limit exceeded. Sleeping for 99 seconds.\n",
      "SenRickScott:  67%|████████████████▊        | 355/526 [1:15:48<30:10, 10.59s/it]Rate limit exceeded. Sleeping for 86 seconds.\n",
      "RepGregStanton:  80%|██████████████████▍    | 423/526 [1:30:47<21:05, 12.29s/it]Rate limit exceeded. Sleeping for 97 seconds.\n",
      "RepJuanVargas:  94%|██████████████████████▌ | 494/526 [1:45:45<07:23, 13.87s/it]Rate limit exceeded. Sleeping for 89 seconds.\n",
      "RepLisaMcClain: 100%|███████████████████████| 526/526 [1:53:34<00:00, 12.96s/it]\n"
     ]
    }
   ],
   "source": [
    "import datetime\n",
    "\n",
    "class DateTimeEncoder(json.JSONEncoder):\n",
    "    def default(self, z):\n",
    "        if isinstance(z, datetime.datetime):\n",
    "            return (str(z))\n",
    "        else:\n",
    "            return super().default(z)\n",
    "\n",
    "\n",
    "def get_tweets(client, id, retweet = False):\n",
    "    tweets = []\n",
    "\n",
    "    if retweet:\n",
    "    \n",
    "        for follow in tweepy.Paginator(client.get_users_tweets, id = id, \n",
    "                                       tweet_fields=[\"created_at\"],\n",
    "                                      max_results=1000).flatten(limit = 99999):\n",
    "            tweets.append(follow)\n",
    "    else:\n",
    "        for follow in tweepy.Paginator(client.get_users_tweets, id = id, exclude = \"retweets\",\n",
    "                                       tweet_fields=[\"created_at\"],\n",
    "                                      max_results=100).flatten(limit = 99999):\n",
    "            tweets.append(follow)        \n",
    "    tweet_ids = []\n",
    "    for i, t in enumerate(tweets):\n",
    "        tweet_ids.append(t[\"id\"])\n",
    "    \n",
    "    return tweets, tweet_ids\n",
    "\n",
    "\n",
    "pbar = tqdm(ids)\n",
    "\n",
    "\n",
    "#i = 0\n",
    "for i, id in enumerate(pbar):\n",
    "    pbar.set_description(f\"{usernames[i]}\")\n",
    "\n",
    "    # if data[\"Following\"].tolist()[i][\"ids\"] != []:\n",
    "    #     #print(i)\n",
    "    #     #i += 1\n",
    "    #     continue\n",
    "    \n",
    "    # try:\n",
    "    tweets, tweet_ids = get_tweets(client, id)\n",
    "    # except TweepError as tweeperror:\n",
    "    #     pbar.set_description(f'Tweep error: {tweeperror}, sleeping for 60s')\n",
    "    #     sleep(60)\n",
    "    #     tweets, tweet_ids = get_tweets(client, id)\n",
    "    # except HTTPException as tweeperror:\n",
    "    #     pbar.set_description(f'Tweep error: {tweeperror}, sleeping for 60s')\n",
    "    #     sleep(60)\n",
    "    #     tweets, tweet_ids = get_tweets(client, id)\n",
    "    \n",
    "    # print(tweets[0][\"created_at\"])\n",
    "    tweet_dict = {\"ids\":tweet_ids}\n",
    "    filename = f\"{usernames[i]}.json\"\n",
    "    \n",
    "    for tweet in tweets:\n",
    "        tweet_dict[tweet[\"id\"]] = {\"text\":tweet[\"text\"], \"time\":tweet[\"created_at\"]}\n",
    "    \n",
    "    # print(tweet_dict)\n",
    "    \n",
    "    with open(filename, \"w\") as outfile:\n",
    "        json.dump(tweet_dict, outfile, cls=DateTimeEncoder)\n",
    "    \n",
    "    \n",
    "    i += 1"
   ]
  },
  {
   "cell_type": "code",
   "execution_count": null,
   "id": "8b3043dd-4d84-4bdd-85f8-bdc6dc628865",
   "metadata": {},
   "outputs": [],
   "source": []
  },
  {
   "cell_type": "code",
   "execution_count": null,
   "id": "e429a3dd-9bbf-40ea-bb2f-c0e6a8ebeebb",
   "metadata": {},
   "outputs": [],
   "source": []
  }
 ],
 "metadata": {
  "kernelspec": {
   "display_name": "Python 3 (ipykernel)",
   "language": "python",
   "name": "python3"
  },
  "language_info": {
   "codemirror_mode": {
    "name": "ipython",
    "version": 3
   },
   "file_extension": ".py",
   "mimetype": "text/x-python",
   "name": "python",
   "nbconvert_exporter": "python",
   "pygments_lexer": "ipython3",
   "version": "3.9.2"
  }
 },
 "nbformat": 4,
 "nbformat_minor": 5
}
