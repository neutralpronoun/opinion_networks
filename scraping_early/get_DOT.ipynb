{
 "cells": [
  {
   "cell_type": "code",
   "execution_count": 1,
   "id": "6ee20dbf-e0c5-40da-be93-be36c4da2217",
   "metadata": {},
   "outputs": [],
   "source": [
    "import graphviz\n",
    "import os\n",
    "import numpy as np\n",
    "import pandas as pd\n",
    "import matplotlib.pyplot as plt\n",
    "from bs4 import BeautifulSoup\n",
    "import cython\n",
    "import tweepy\n",
    "import json\n",
    "import requests\n",
    "import inspect\n",
    "import re\n",
    "from tqdm import tqdm\n",
    "from time import time, sleep\n",
    "import networkx as nx"
   ]
  },
  {
   "cell_type": "code",
   "execution_count": 2,
   "id": "7a66e957-f564-4a51-9b91-d17d033cc95b",
   "metadata": {},
   "outputs": [
    {
     "name": "stdout",
     "output_type": "stream",
     "text": [
      "          Party                      Name  Branch        Username  \\\n",
      "0    Republican             Pete Sessions   House    PeteSessions   \n",
      "1    Democratic            Debbie Dingell   House   RepDebDingell   \n",
      "2    Democratic           Pramila Jayapal   House      RepJayapal   \n",
      "3    Republican               Rob Wittman   House      RobWittman   \n",
      "4    Democratic           Chellie Pingree   House  chelliepingree   \n",
      "..          ...                       ...     ...             ...   \n",
      "521  Republican               Thom Tillis  Senate   SenThomTillis   \n",
      "522  Republican         Diana Harshbarger   House  RepHarshbarger   \n",
      "523  Republican          Tommy Tuberville  Senate   SenTuberville   \n",
      "524  Democratic  Debbie Wasserman Schultz   House    RepDWStweets   \n",
      "525  Republican              Lisa McClain   House  RepLisaMcClain   \n",
      "\n",
      "                     ids                                          Following  \n",
      "0               24735461  {'ids': [1396151678, 815966620300480514, 12912...  \n",
      "1             2970279814  {'ids': [353272992, 300463737, 393541673, 9873...  \n",
      "2     815733290955112448  {'ids': [35281549, 25535595, 19847765, 1002630...  \n",
      "3               15356407  {'ids': [834069080, 2964877294, 3686482216, 29...  \n",
      "4               14984637  {'ids': [38026753, 873135988440223745, 1462548...  \n",
      "..                   ...                                                ...  \n",
      "521           2964174789  {'ids': [17918065, 1083832979519168512, 451015...  \n",
      "522  1345787285179162624  {'ids': [1462801576440090627, 2229044521, 1465...  \n",
      "523  1345739193721487362  {'ids': [1409591919949271046, 234022257, 18646...  \n",
      "524           1140648348  {'ids': [1352760304271241218, 34244715, 860712...  \n",
      "525  1344032292432437248  {'ids': [1055730738, 1457745193197780993, 1479...  \n",
      "\n",
      "[526 rows x 6 columns]\n",
      "          Party                      Name  Branch        Username  \\\n",
      "0    Republican             Pete Sessions   House    PeteSessions   \n",
      "1    Democratic            Debbie Dingell   House   RepDebDingell   \n",
      "2    Democratic           Pramila Jayapal   House      RepJayapal   \n",
      "3    Republican               Rob Wittman   House      RobWittman   \n",
      "4    Democratic           Chellie Pingree   House  chelliepingree   \n",
      "..          ...                       ...     ...             ...   \n",
      "521  Republican               Thom Tillis  Senate   SenThomTillis   \n",
      "522  Republican         Diana Harshbarger   House  RepHarshbarger   \n",
      "523  Republican          Tommy Tuberville  Senate   SenTuberville   \n",
      "524  Democratic  Debbie Wasserman Schultz   House    RepDWStweets   \n",
      "525  Republican              Lisa McClain   House  RepLisaMcClain   \n",
      "\n",
      "                     ids                                          Following  \n",
      "0               24735461  {'ids': [1396151678, 815966620300480514, 12912...  \n",
      "1             2970279814  {'ids': [353272992, 300463737, 393541673, 9873...  \n",
      "2     815733290955112448  {'ids': [35281549, 25535595, 19847765, 1002630...  \n",
      "3               15356407  {'ids': [834069080, 2964877294, 3686482216, 29...  \n",
      "4               14984637  {'ids': [38026753, 873135988440223745, 1462548...  \n",
      "..                   ...                                                ...  \n",
      "521           2964174789  {'ids': [17918065, 1083832979519168512, 451015...  \n",
      "522  1345787285179162624  {'ids': [1462801576440090627, 2229044521, 1465...  \n",
      "523  1345739193721487362  {'ids': [1409591919949271046, 234022257, 18646...  \n",
      "524           1140648348  {'ids': [1352760304271241218, 34244715, 860712...  \n",
      "525  1344032292432437248  {'ids': [1055730738, 1457745193197780993, 1479...  \n",
      "\n",
      "[526 rows x 6 columns]\n"
     ]
    }
   ],
   "source": [
    "from ast import literal_eval\n",
    "\n",
    "data = pd.read_csv(\"politicians_connections_two.csv\")\n",
    "print(data)\n",
    "data[\"Following\"] = data[\"Following\"].apply(literal_eval)\n",
    "\n",
    "print(data)\n",
    "\n",
    "usernames = data[\"Username\"].tolist()\n",
    "ids = data[\"ids\"].tolist()"
   ]
  },
  {
   "cell_type": "code",
   "execution_count": 3,
   "id": "ef8eb142-e337-4584-bb99-f303e5df7f66",
   "metadata": {},
   "outputs": [
    {
     "name": "stderr",
     "output_type": "stream",
     "text": [
      "67903 edges so far: 100%|████████████████████████| 526/526 [00:04<00:00, 117.47it/s]\n"
     ]
    }
   ],
   "source": [
    "dot = nx.Graph()\n",
    "\n",
    "politician_ids = []\n",
    "\n",
    "for i, user_following in enumerate(data[\"Following\"]):\n",
    "    \n",
    "    # if data[\"Branch\"][i] != \"Senate\":\n",
    "    #     continue\n",
    "    \n",
    "    user_id = str(data[\"Username\"][i])\n",
    "    user_screen_name = data[\"Name\"][i]\n",
    "    user_party = data[\"Party\"][i][0]\n",
    "    user_branch = data[\"Branch\"][i][0]\n",
    "    \n",
    "    \n",
    "    politician_ids.append(user_id)\n",
    "    \n",
    "    dot.add_node(user_id, Party=user_party, Branch=user_branch, Screenname = user_screen_name)\n",
    "\n",
    "\n",
    "pbar =  tqdm(data[\"Following\"])\n",
    "\n",
    "n_edges = 0\n",
    "\n",
    "for i, user_following in enumerate(pbar):\n",
    "\n",
    "    # if data[\"Branch\"][i] != \"Senate\":\n",
    "    #     continue\n",
    "    \n",
    "    user_id = data[\"Username\"][i]\n",
    "    user_party = data[\"Party\"][i]\n",
    "    \n",
    "    following_ids = user_following[\"usernames\"]\n",
    "    \n",
    "    following_ids = list(map(str, following_ids))\n",
    "    following_ids = [x for x in following_ids if x in politician_ids]\n",
    "    \n",
    "    for n, id in enumerate(following_ids):\n",
    "        \n",
    "        if user_party == \"Democratic\":\n",
    "            edgefrom = \"Dem\"\n",
    "        else:\n",
    "            edgefrom = \"Rep\"\n",
    "        \n",
    "        dot.add_edge(user_id, str(id), edgefrom=edgefrom)\n",
    "        n_edges += 1\n",
    "\n",
    "\n",
    "    pbar.set_description(f\"{n_edges} edges so far\")\n",
    "    \n",
    "#dot.render(directory='doctest-output', view=True)  \n",
    "#"
   ]
  },
  {
   "cell_type": "code",
   "execution_count": 4,
   "id": "aca127f5-aa13-499f-982a-e64c9d12ab79",
   "metadata": {},
   "outputs": [],
   "source": [
    "# fig, subplot = plt.subplots(figsize = (12,12))\n",
    "\n",
    "# pos = nx.spring_layout(dot)\n",
    "\n",
    "# #subax1 = plt.subplot(121)\n",
    "\n",
    "# nx.draw_networkx(dot,pos = pos, with_labels=True)#, font_weight='bold')\n",
    "# plt.show()"
   ]
  },
  {
   "cell_type": "code",
   "execution_count": 5,
   "id": "e72d6e22-7bc1-4957-a7eb-741cdb9ec91b",
   "metadata": {},
   "outputs": [],
   "source": [
    "nx.write_gml(dot, \"politicians.gml\")"
   ]
  },
  {
   "cell_type": "code",
   "execution_count": 6,
   "id": "acbe7357-7143-4475-b7ed-41d32ea8b33f",
   "metadata": {},
   "outputs": [
    {
     "data": {
      "image/png": "[encoded data removed]",
      "text/plain": [
       "<Figure size 432x288 with 1 Axes>"
      ]
     },
     "metadata": {},
     "output_type": "display_data"
    }
   ],
   "source": [
    "def edge_to_remove(graph):\n",
    "    G_dict = nx.edge_betweenness_centrality(graph)\n",
    "    edge = ()\n",
    "\n",
    "    # extract the edge with highest edge betweenness centrality score\n",
    "    for key, value in sorted(G_dict.items(), key=lambda item: item[1], reverse = True):\n",
    "        edge = key\n",
    "        break\n",
    "\n",
    "    return edge\n",
    "\n",
    "def girvan_newman(graph):\n",
    "    # find number of connected components\n",
    "    sg = nx.connected_components(graph)\n",
    "    sg_count = nx.number_connected_components(graph)\n",
    "\n",
    "    while(sg_count == 1):\n",
    "        graph.remove_edge(edge_to_remove(graph)[0], edge_to_remove(graph)[1])\n",
    "        sg = nx.connected_components(graph)\n",
    "        sg_count = nx.number_connected_components(graph)\n",
    "\n",
    "    return sg\n",
    "\n",
    "c = girvan_newman(dot.copy())\n",
    "\n",
    "# find the nodes forming the communities\n",
    "node_groups = []\n",
    "\n",
    "for i in c:\n",
    "    node_groups.append(list(i))\n",
    "\n",
    "# plot the communities\n",
    "color_map = []\n",
    "for node in dot:\n",
    "    if node in node_groups[0]:\n",
    "        color_map.append('blue')\n",
    "    else: \n",
    "        color_map.append('green')  \n",
    "\n",
    "nx.draw(dot, node_color=color_map, with_labels=True)\n",
    "plt.show()"
   ]
  },
  {
   "cell_type": "code",
   "execution_count": 7,
   "id": "1724b62d-3623-4151-9840-d265934119bd",
   "metadata": {},
   "outputs": [
    {
     "ename": "KeyboardInterrupt",
     "evalue": "",
     "output_type": "error",
     "traceback": [
      "\u001b[0;31m---------------------------------------------------------------------------\u001b[0m",
      "\u001b[0;31mKeyboardInterrupt\u001b[0m                         Traceback (most recent call last)",
      "Input \u001b[0;32mIn [7]\u001b[0m, in \u001b[0;36m<module>\u001b[0;34m\u001b[0m\n\u001b[1;32m      1\u001b[0m \u001b[38;5;28;01mimport\u001b[39;00m \u001b[38;5;21;01mnetworkx\u001b[39;00m\u001b[38;5;21;01m.\u001b[39;00m\u001b[38;5;21;01malgorithms\u001b[39;00m\u001b[38;5;21;01m.\u001b[39;00m\u001b[38;5;21;01mcommunity\u001b[39;00m \u001b[38;5;28;01mas\u001b[39;00m \u001b[38;5;21;01mcom\u001b[39;00m\n\u001b[0;32m----> 3\u001b[0m cliques \u001b[38;5;241m=\u001b[39m \u001b[38;5;28;43mlist\u001b[39;49m\u001b[43m(\u001b[49m\u001b[43mcom\u001b[49m\u001b[38;5;241;43m.\u001b[39;49m\u001b[43mk_clique_communities\u001b[49m\u001b[43m(\u001b[49m\u001b[43mdot\u001b[49m\u001b[43m,\u001b[49m\u001b[43m \u001b[49m\u001b[38;5;241;43m100\u001b[39;49m\u001b[43m)\u001b[49m\u001b[43m)\u001b[49m\n\u001b[1;32m      4\u001b[0m \u001b[38;5;28mprint\u001b[39m(\u001b[38;5;28mset\u001b[39m(cliques))\n",
      "File \u001b[0;32m~/miniforge3/envs/networks/lib/python3.9/site-packages/networkx/algorithms/community/kclique.py:50\u001b[0m, in \u001b[0;36mk_clique_communities\u001b[0;34m(G, k, cliques)\u001b[0m\n\u001b[1;32m     48\u001b[0m \u001b[38;5;28;01mif\u001b[39;00m cliques \u001b[38;5;129;01mis\u001b[39;00m \u001b[38;5;28;01mNone\u001b[39;00m:\n\u001b[1;32m     49\u001b[0m     cliques \u001b[38;5;241m=\u001b[39m nx\u001b[38;5;241m.\u001b[39mfind_cliques(G)\n\u001b[0;32m---> 50\u001b[0m cliques \u001b[38;5;241m=\u001b[39m [\u001b[38;5;28mfrozenset\u001b[39m(c) \u001b[38;5;28;01mfor\u001b[39;00m c \u001b[38;5;129;01min\u001b[39;00m cliques \u001b[38;5;28;01mif\u001b[39;00m \u001b[38;5;28mlen\u001b[39m(c) \u001b[38;5;241m>\u001b[39m\u001b[38;5;241m=\u001b[39m k]\n\u001b[1;32m     52\u001b[0m \u001b[38;5;66;03m# First index which nodes are in which cliques\u001b[39;00m\n\u001b[1;32m     53\u001b[0m membership_dict \u001b[38;5;241m=\u001b[39m defaultdict(\u001b[38;5;28mlist\u001b[39m)\n",
      "File \u001b[0;32m~/miniforge3/envs/networks/lib/python3.9/site-packages/networkx/algorithms/community/kclique.py:50\u001b[0m, in \u001b[0;36m<listcomp>\u001b[0;34m(.0)\u001b[0m\n\u001b[1;32m     48\u001b[0m \u001b[38;5;28;01mif\u001b[39;00m cliques \u001b[38;5;129;01mis\u001b[39;00m \u001b[38;5;28;01mNone\u001b[39;00m:\n\u001b[1;32m     49\u001b[0m     cliques \u001b[38;5;241m=\u001b[39m nx\u001b[38;5;241m.\u001b[39mfind_cliques(G)\n\u001b[0;32m---> 50\u001b[0m cliques \u001b[38;5;241m=\u001b[39m [\u001b[38;5;28mfrozenset\u001b[39m(c) \u001b[38;5;28;01mfor\u001b[39;00m c \u001b[38;5;129;01min\u001b[39;00m cliques \u001b[38;5;28;01mif\u001b[39;00m \u001b[38;5;28mlen\u001b[39m(c) \u001b[38;5;241m>\u001b[39m\u001b[38;5;241m=\u001b[39m k]\n\u001b[1;32m     52\u001b[0m \u001b[38;5;66;03m# First index which nodes are in which cliques\u001b[39;00m\n\u001b[1;32m     53\u001b[0m membership_dict \u001b[38;5;241m=\u001b[39m defaultdict(\u001b[38;5;28mlist\u001b[39m)\n",
      "File \u001b[0;32m~/miniforge3/envs/networks/lib/python3.9/site-packages/networkx/utils/decorators.py:790\u001b[0m, in \u001b[0;36margmap.__call__.<locals>.func\u001b[0;34m(_argmap__wrapper, *args, **kwargs)\u001b[0m\n\u001b[1;32m    789\u001b[0m \u001b[38;5;28;01mdef\u001b[39;00m \u001b[38;5;21mfunc\u001b[39m(\u001b[38;5;241m*\u001b[39margs, __wrapper\u001b[38;5;241m=\u001b[39m\u001b[38;5;28;01mNone\u001b[39;00m, \u001b[38;5;241m*\u001b[39m\u001b[38;5;241m*\u001b[39mkwargs):\n\u001b[0;32m--> 790\u001b[0m     \u001b[38;5;28;01myield from\u001b[39;00m argmap\u001b[38;5;241m.\u001b[39m_lazy_compile(__wrapper)(\u001b[38;5;241m*\u001b[39margs, \u001b[38;5;241m*\u001b[39m\u001b[38;5;241m*\u001b[39mkwargs)\n",
      "File \u001b[0;32m<class 'networkx.utils.decorators.argmap'> compilation 25:4\u001b[0m, in \u001b[0;36margmap_find_cliques_22\u001b[0;34m(G)\u001b[0m\n\u001b[1;32m      2\u001b[0m \u001b[38;5;28;01mfrom\u001b[39;00m \u001b[38;5;21;01mos\u001b[39;00m\u001b[38;5;21;01m.\u001b[39;00m\u001b[38;5;21;01mpath\u001b[39;00m \u001b[38;5;28;01mimport\u001b[39;00m splitext\n\u001b[1;32m      3\u001b[0m \u001b[38;5;28;01mfrom\u001b[39;00m \u001b[38;5;21;01mcontextlib\u001b[39;00m \u001b[38;5;28;01mimport\u001b[39;00m contextmanager\n\u001b[0;32m----> 4\u001b[0m \u001b[38;5;28;01mfrom\u001b[39;00m \u001b[38;5;21;01mpathlib\u001b[39;00m \u001b[38;5;28;01mimport\u001b[39;00m Path\n\u001b[1;32m      5\u001b[0m \u001b[38;5;28;01mimport\u001b[39;00m \u001b[38;5;21;01mwarnings\u001b[39;00m\n\u001b[1;32m      7\u001b[0m \u001b[38;5;28;01mimport\u001b[39;00m \u001b[38;5;21;01mnetworkx\u001b[39;00m \u001b[38;5;28;01mas\u001b[39;00m \u001b[38;5;21;01mnx\u001b[39;00m\n",
      "File \u001b[0;32m~/miniforge3/envs/networks/lib/python3.9/site-packages/networkx/algorithms/clique.py:202\u001b[0m, in \u001b[0;36mfind_cliques\u001b[0;34m(G)\u001b[0m\n\u001b[1;32m    200\u001b[0m             subg \u001b[38;5;241m=\u001b[39m subg_q\n\u001b[1;32m    201\u001b[0m             cand \u001b[38;5;241m=\u001b[39m cand_q\n\u001b[0;32m--> 202\u001b[0m             u \u001b[38;5;241m=\u001b[39m \u001b[38;5;28mmax\u001b[39m(subg, key\u001b[38;5;241m=\u001b[39m\u001b[38;5;28;01mlambda\u001b[39;00m u: \u001b[38;5;28mlen\u001b[39m(cand \u001b[38;5;241m&\u001b[39m adj[u]))\n\u001b[1;32m    203\u001b[0m             ext_u \u001b[38;5;241m=\u001b[39m cand \u001b[38;5;241m-\u001b[39m adj[u]\n\u001b[1;32m    204\u001b[0m \u001b[38;5;28;01melse\u001b[39;00m:\n",
      "\u001b[0;31mKeyboardInterrupt\u001b[0m: "
     ]
    }
   ],
   "source": [
    "import networkx.algorithms.community as com\n",
    "\n",
    "cliques = list(com.k_clique_communities(dot, 100))\n",
    "print(set(cliques))\n"
   ]
  },
  {
   "cell_type": "code",
   "execution_count": null,
   "id": "e35789c1-de36-4ba3-acce-78f2dea6323c",
   "metadata": {},
   "outputs": [],
   "source": []
  }
 ],
 "metadata": {
  "kernelspec": {
   "display_name": "Python 3 (ipykernel)",
   "language": "python",
   "name": "python3"
  },
  "language_info": {
   "codemirror_mode": {
    "name": "ipython",
    "version": 3
   },
   "file_extension": ".py",
   "mimetype": "text/x-python",
   "name": "python",
   "nbconvert_exporter": "python",
   "pygments_lexer": "ipython3",
   "version": "3.9.6"
  }
 },
 "nbformat": 4,
 "nbformat_minor": 5
}
