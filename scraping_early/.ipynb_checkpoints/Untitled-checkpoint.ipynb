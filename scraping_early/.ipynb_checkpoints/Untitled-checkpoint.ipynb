{
 "cells": [
  {
   "cell_type": "code",
   "execution_count": 1,
   "id": "955531cd-cae4-41ac-913d-d8033e64e606",
   "metadata": {},
   "outputs": [],
   "source": [
    "import os\n",
    "import numpy as np\n",
    "import pandas as pd\n",
    "import matplotlib.pyplot as plt\n",
    "from bs4 import BeautifulSoup\n",
    "import cython\n",
    "import tweepy\n",
    "import json\n",
    "import requests\n",
    "\n",
    "import re"
   ]
  },
  {
   "cell_type": "code",
   "execution_count": 2,
   "id": "ca8bc59f-f4e4-45d3-90e3-7060d30224bc",
   "metadata": {},
   "outputs": [
    {
     "name": "stdout",
     "output_type": "stream",
     "text": [
      "{'API_key': 'e34sTfl23oytGMvlWUzK8fod2', 'API_secret_key': 'mNSjDDn94txcINviFg66I9RWCR1corWxQWBt70ePv3CWpNcsa4', 'Bearer_token': 'AAAAAAAAAAAAAAAAAAAAAPHiZgEAAAAATkGlyMoKFmk1lt6JIiZ77cdmSMc%3DbBchdrL7VAk9Pe0vHuJHdAFvUWC1vDg5M3o8ZyTaONVhwJsIiF'}\n"
     ]
    }
   ],
   "source": [
    "with open(\"dev_keys_json.json\", \"r\") as f:\n",
    "    keys = json.load(f)\n",
    "print(keys)"
   ]
  },
  {
   "cell_type": "code",
   "execution_count": 3,
   "id": "ac51d257-63a4-4e11-9df8-21424984d1d2",
   "metadata": {},
   "outputs": [
    {
     "name": "stdout",
     "output_type": "stream",
     "text": [
      "<Response [200]>\n"
     ]
    }
   ],
   "source": [
    "representatives_url = \"https://en.wikipedia.org/wiki/List_of_current_members_of_the_United_States_House_of_Representatives\"\n",
    "table_class = \"wikitable sortable plainrowheaders jquery-tablesorter\"\n",
    "response = requests.get(representatives_url)\n",
    "print(response)"
   ]
  },
  {
   "cell_type": "code",
   "execution_count": 4,
   "id": "d252cddc-7c0a-4903-9917-e40e018e92db",
   "metadata": {},
   "outputs": [
    {
     "data": {
      "text/html": [
       "<div>\n",
       "<style scoped>\n",
       "    .dataframe tbody tr th:only-of-type {\n",
       "        vertical-align: middle;\n",
       "    }\n",
       "\n",
       "    .dataframe tbody tr th {\n",
       "        vertical-align: top;\n",
       "    }\n",
       "\n",
       "    .dataframe thead th {\n",
       "        text-align: right;\n",
       "    }\n",
       "</style>\n",
       "<table border=\"1\" class=\"dataframe\">\n",
       "  <thead>\n",
       "    <tr style=\"text-align: right;\">\n",
       "      <th></th>\n",
       "      <th>District</th>\n",
       "      <th>Member</th>\n",
       "      <th>Party</th>\n",
       "      <th>Party.1</th>\n",
       "      <th>Prior experience</th>\n",
       "      <th>Education</th>\n",
       "      <th>Assumed office</th>\n",
       "      <th>Residence</th>\n",
       "      <th>Born[2]</th>\n",
       "    </tr>\n",
       "  </thead>\n",
       "  <tbody>\n",
       "    <tr>\n",
       "      <th>0</th>\n",
       "      <td>Alabama 1</td>\n",
       "      <td>Jerry Carl</td>\n",
       "      <td>NaN</td>\n",
       "      <td>Republican</td>\n",
       "      <td>Mobile County Commission</td>\n",
       "      <td>Florida Gateway College</td>\n",
       "      <td>2021</td>\n",
       "      <td>Mobile</td>\n",
       "      <td>(age 63)</td>\n",
       "    </tr>\n",
       "    <tr>\n",
       "      <th>1</th>\n",
       "      <td>Alabama 2</td>\n",
       "      <td>Barry Moore</td>\n",
       "      <td>NaN</td>\n",
       "      <td>Republican</td>\n",
       "      <td>Alabama House of Representatives</td>\n",
       "      <td>Enterprise State Community College (AS)Auburn ...</td>\n",
       "      <td>2021</td>\n",
       "      <td>Enterprise</td>\n",
       "      <td>(age 55)</td>\n",
       "    </tr>\n",
       "    <tr>\n",
       "      <th>2</th>\n",
       "      <td>Alabama 3</td>\n",
       "      <td>Mike Rogers</td>\n",
       "      <td>NaN</td>\n",
       "      <td>Republican</td>\n",
       "      <td>Calhoun County CommissionerAlabama House of Re...</td>\n",
       "      <td>Jacksonville State University (BA, MPA)Birming...</td>\n",
       "      <td>2003</td>\n",
       "      <td>Anniston[3]</td>\n",
       "      <td>(age 63)</td>\n",
       "    </tr>\n",
       "    <tr>\n",
       "      <th>3</th>\n",
       "      <td>Alabama 4</td>\n",
       "      <td>Robert Aderholt</td>\n",
       "      <td>NaN</td>\n",
       "      <td>Republican</td>\n",
       "      <td>Haleyville Municipal Judge</td>\n",
       "      <td>University of North AlabamaBirmingham–Southern...</td>\n",
       "      <td>1997</td>\n",
       "      <td>Haleyville</td>\n",
       "      <td>(age 56)</td>\n",
       "    </tr>\n",
       "    <tr>\n",
       "      <th>4</th>\n",
       "      <td>Alabama 5</td>\n",
       "      <td>Mo Brooks</td>\n",
       "      <td>NaN</td>\n",
       "      <td>Republican</td>\n",
       "      <td>Alabama House of RepresentativesMadison County...</td>\n",
       "      <td>Duke University (BA)University of Alabama (JD)</td>\n",
       "      <td>2011</td>\n",
       "      <td>Huntsville</td>\n",
       "      <td>(age 67)</td>\n",
       "    </tr>\n",
       "    <tr>\n",
       "      <th>...</th>\n",
       "      <td>...</td>\n",
       "      <td>...</td>\n",
       "      <td>...</td>\n",
       "      <td>...</td>\n",
       "      <td>...</td>\n",
       "      <td>...</td>\n",
       "      <td>...</td>\n",
       "      <td>...</td>\n",
       "      <td>...</td>\n",
       "    </tr>\n",
       "    <tr>\n",
       "      <th>430</th>\n",
       "      <td>Wisconsin 5</td>\n",
       "      <td>Scott Fitzgerald</td>\n",
       "      <td>NaN</td>\n",
       "      <td>Republican</td>\n",
       "      <td>Wisconsin State Senate</td>\n",
       "      <td>University of Wisconsin–Oshkosh (BS)</td>\n",
       "      <td>2021</td>\n",
       "      <td>Clyman[95]</td>\n",
       "      <td>(age 58)</td>\n",
       "    </tr>\n",
       "    <tr>\n",
       "      <th>431</th>\n",
       "      <td>Wisconsin 6</td>\n",
       "      <td>Glenn Grothman</td>\n",
       "      <td>NaN</td>\n",
       "      <td>Republican</td>\n",
       "      <td>Wisconsin SenateWisconsin State Assembly</td>\n",
       "      <td>University of Wisconsin–Madison (BA, JD)</td>\n",
       "      <td>2015</td>\n",
       "      <td>Glenbeulah[96]</td>\n",
       "      <td>(age 66)</td>\n",
       "    </tr>\n",
       "    <tr>\n",
       "      <th>432</th>\n",
       "      <td>Wisconsin 7</td>\n",
       "      <td>Tom Tiffany</td>\n",
       "      <td>NaN</td>\n",
       "      <td>Republican</td>\n",
       "      <td>Wisconsin SenateWisconsin State Assembly</td>\n",
       "      <td>University of Wisconsin–River Falls (BS)</td>\n",
       "      <td>2020 (special)</td>\n",
       "      <td>Minocqua</td>\n",
       "      <td>(age 64)</td>\n",
       "    </tr>\n",
       "    <tr>\n",
       "      <th>433</th>\n",
       "      <td>Wisconsin 8</td>\n",
       "      <td>Mike Gallagher</td>\n",
       "      <td>NaN</td>\n",
       "      <td>Republican</td>\n",
       "      <td>Political advisorU.S. Marine Corps</td>\n",
       "      <td>Princeton University (BA)National Intelligence...</td>\n",
       "      <td>2017</td>\n",
       "      <td>Green Bay</td>\n",
       "      <td>(age 37)</td>\n",
       "    </tr>\n",
       "    <tr>\n",
       "      <th>434</th>\n",
       "      <td>Wyoming at-large</td>\n",
       "      <td>Liz Cheney</td>\n",
       "      <td>NaN</td>\n",
       "      <td>Republican</td>\n",
       "      <td>Principal Deputy Assistant Secretary of State ...</td>\n",
       "      <td>Colorado College (BA)University of Chicago (JD)</td>\n",
       "      <td>2017</td>\n",
       "      <td>Wilson[97]</td>\n",
       "      <td>(age 55)</td>\n",
       "    </tr>\n",
       "  </tbody>\n",
       "</table>\n",
       "<p>435 rows × 9 columns</p>\n",
       "</div>"
      ],
      "text/plain": [
       "             District            Member Party     Party.1  \\\n",
       "0           Alabama 1        Jerry Carl   NaN  Republican   \n",
       "1           Alabama 2       Barry Moore   NaN  Republican   \n",
       "2           Alabama 3       Mike Rogers   NaN  Republican   \n",
       "3           Alabama 4   Robert Aderholt   NaN  Republican   \n",
       "4           Alabama 5         Mo Brooks   NaN  Republican   \n",
       "..                ...               ...   ...         ...   \n",
       "430       Wisconsin 5  Scott Fitzgerald   NaN  Republican   \n",
       "431       Wisconsin 6    Glenn Grothman   NaN  Republican   \n",
       "432       Wisconsin 7       Tom Tiffany   NaN  Republican   \n",
       "433       Wisconsin 8    Mike Gallagher   NaN  Republican   \n",
       "434  Wyoming at-large        Liz Cheney   NaN  Republican   \n",
       "\n",
       "                                      Prior experience  \\\n",
       "0                             Mobile County Commission   \n",
       "1                     Alabama House of Representatives   \n",
       "2    Calhoun County CommissionerAlabama House of Re...   \n",
       "3                           Haleyville Municipal Judge   \n",
       "4    Alabama House of RepresentativesMadison County...   \n",
       "..                                                 ...   \n",
       "430                             Wisconsin State Senate   \n",
       "431           Wisconsin SenateWisconsin State Assembly   \n",
       "432           Wisconsin SenateWisconsin State Assembly   \n",
       "433                 Political advisorU.S. Marine Corps   \n",
       "434  Principal Deputy Assistant Secretary of State ...   \n",
       "\n",
       "                                             Education  Assumed office  \\\n",
       "0                              Florida Gateway College            2021   \n",
       "1    Enterprise State Community College (AS)Auburn ...            2021   \n",
       "2    Jacksonville State University (BA, MPA)Birming...            2003   \n",
       "3    University of North AlabamaBirmingham–Southern...            1997   \n",
       "4       Duke University (BA)University of Alabama (JD)            2011   \n",
       "..                                                 ...             ...   \n",
       "430               University of Wisconsin–Oshkosh (BS)            2021   \n",
       "431           University of Wisconsin–Madison (BA, JD)            2015   \n",
       "432           University of Wisconsin–River Falls (BS)  2020 (special)   \n",
       "433  Princeton University (BA)National Intelligence...            2017   \n",
       "434    Colorado College (BA)University of Chicago (JD)            2017   \n",
       "\n",
       "          Residence   Born[2]  \n",
       "0            Mobile  (age 63)  \n",
       "1        Enterprise  (age 55)  \n",
       "2       Anniston[3]  (age 63)  \n",
       "3        Haleyville  (age 56)  \n",
       "4        Huntsville  (age 67)  \n",
       "..              ...       ...  \n",
       "430      Clyman[95]  (age 58)  \n",
       "431  Glenbeulah[96]  (age 66)  \n",
       "432        Minocqua  (age 64)  \n",
       "433       Green Bay  (age 37)  \n",
       "434      Wilson[97]  (age 55)  \n",
       "\n",
       "[435 rows x 9 columns]"
      ]
     },
     "execution_count": 4,
     "metadata": {},
     "output_type": "execute_result"
    }
   ],
   "source": [
    "soup = BeautifulSoup(response.text, 'html.parser')\n",
    "representatives_table=soup.find_all(\"table\",{'class':\"wikitable\"})[5]\n",
    "\n",
    "df_representatives=pd.read_html(str(representatives_table))\n",
    "df_representatives=pd.DataFrame(df_representatives[0])\n",
    "df_representatives"
   ]
  },
  {
   "cell_type": "code",
   "execution_count": 5,
   "id": "f4500912-92ac-4b8c-ba57-d8266433a14d",
   "metadata": {},
   "outputs": [
    {
     "data": {
      "text/plain": [
       "(array([211.,   0.,   0.,   0.,   0., 222.,   0.,   0.,   0.,   2.]),\n",
       " array([0. , 0.2, 0.4, 0.6, 0.8, 1. , 1.2, 1.4, 1.6, 1.8, 2. ]),\n",
       " <BarContainer object of 10 artists>)"
      ]
     },
     "execution_count": 5,
     "metadata": {},
     "output_type": "execute_result"
    },
    {
     "data": {
      "image/png": "[encoded data removed]",
      "text/plain": [
       "<Figure size 432x288 with 1 Axes>"
      ]
     },
     "metadata": {
      "needs_background": "light"
     },
     "output_type": "display_data"
    }
   ],
   "source": [
    "plt.hist(df_representatives[\"Party.1\"])"
   ]
  },
  {
   "cell_type": "code",
   "execution_count": 7,
   "id": "6c41654e-890f-4ecb-853c-11ce03c9b6db",
   "metadata": {},
   "outputs": [
    {
     "data": {
      "text/plain": [
       "(array([211.,   0.,   0.,   0.,   0., 222.,   0.,   0.,   0.,   2.]),\n",
       " array([0. , 0.2, 0.4, 0.6, 0.8, 1. , 1.2, 1.4, 1.6, 1.8, 2. ]),\n",
       " <BarContainer object of 10 artists>)"
      ]
     },
     "execution_count": 7,
     "metadata": {},
     "output_type": "execute_result"
    },
    {
     "data": {
      "image/png": "[encoded data removed]",
      "text/plain": [
       "<Figure size 432x288 with 1 Axes>"
      ]
     },
     "metadata": {
      "needs_background": "light"
     },
     "output_type": "display_data"
    }
   ],
   "source": [
    "df_representatives[\"Name\"] = df_representatives[\"Member\"]\n",
    "df_representatives[\"Party\"] = df_representatives[\"Party.1\"]\n",
    "#del df_representatives[df_representatives[\"Party.1\"] == \"VACANT\"]\n",
    "#df_representatives[\"Party\"][df_representatives[\"Party.1\"] == \"Republican/New Progressive\"] = \"Republican\"\n",
    "plt.hist(df_representatives[\"Party\"])"
   ]
  },
  {
   "cell_type": "code",
   "execution_count": 8,
   "id": "4f52642c-072d-4ffe-ad5b-fc98d5046bd8",
   "metadata": {},
   "outputs": [
    {
     "name": "stdout",
     "output_type": "stream",
     "text": [
      "<Response [200]>\n"
     ]
    },
    {
     "data": {
      "text/html": [
       "<div>\n",
       "<style scoped>\n",
       "    .dataframe tbody tr th:only-of-type {\n",
       "        vertical-align: middle;\n",
       "    }\n",
       "\n",
       "    .dataframe tbody tr th {\n",
       "        vertical-align: top;\n",
       "    }\n",
       "\n",
       "    .dataframe thead th {\n",
       "        text-align: right;\n",
       "    }\n",
       "</style>\n",
       "<table border=\"1\" class=\"dataframe\">\n",
       "  <thead>\n",
       "    <tr style=\"text-align: right;\">\n",
       "      <th></th>\n",
       "      <th>State</th>\n",
       "      <th>Portrait</th>\n",
       "      <th>Senator</th>\n",
       "      <th>Party</th>\n",
       "      <th>Party.1</th>\n",
       "      <th>Born</th>\n",
       "      <th>Occupation(s)</th>\n",
       "      <th>Previous electiveoffice(s)</th>\n",
       "      <th>Education</th>\n",
       "      <th>Assumed office</th>\n",
       "      <th>Term up</th>\n",
       "      <th>Residence[2]</th>\n",
       "    </tr>\n",
       "  </thead>\n",
       "  <tbody>\n",
       "    <tr>\n",
       "      <th>0</th>\n",
       "      <td>Alabama</td>\n",
       "      <td>NaN</td>\n",
       "      <td>Richard Shelby</td>\n",
       "      <td>NaN</td>\n",
       "      <td>Republican[d]</td>\n",
       "      <td>(age 87)</td>\n",
       "      <td>Lawyer</td>\n",
       "      <td>U.S. HouseAlabama Senate</td>\n",
       "      <td>University of Alabama (BA, LLB) Birmingham Sch...</td>\n",
       "      <td>January 3, 1987</td>\n",
       "      <td>2022</td>\n",
       "      <td>Tuscaloosa</td>\n",
       "    </tr>\n",
       "    <tr>\n",
       "      <th>1</th>\n",
       "      <td>Alabama</td>\n",
       "      <td>NaN</td>\n",
       "      <td>Tommy Tuberville</td>\n",
       "      <td>NaN</td>\n",
       "      <td>Republican</td>\n",
       "      <td>(age 67)</td>\n",
       "      <td>College football coachPartner, investment mana...</td>\n",
       "      <td>None</td>\n",
       "      <td>Southern Arkansas University (BS)</td>\n",
       "      <td>January 3, 2021</td>\n",
       "      <td>2026</td>\n",
       "      <td>Auburn[3]</td>\n",
       "    </tr>\n",
       "    <tr>\n",
       "      <th>2</th>\n",
       "      <td>Alaska</td>\n",
       "      <td>NaN</td>\n",
       "      <td>Lisa Murkowski</td>\n",
       "      <td>NaN</td>\n",
       "      <td>Republican</td>\n",
       "      <td>(age 64)</td>\n",
       "      <td>Lawyer</td>\n",
       "      <td>Alaska House of Representatives</td>\n",
       "      <td>Georgetown University (AB) Willamette Universi...</td>\n",
       "      <td>December 20, 2002[e]</td>\n",
       "      <td>2022</td>\n",
       "      <td>Girdwood</td>\n",
       "    </tr>\n",
       "    <tr>\n",
       "      <th>3</th>\n",
       "      <td>Alaska</td>\n",
       "      <td>NaN</td>\n",
       "      <td>Dan Sullivan</td>\n",
       "      <td>NaN</td>\n",
       "      <td>Republican</td>\n",
       "      <td>(age 57)</td>\n",
       "      <td>U.S. Marine Corps officerLawyerAssistant Secre...</td>\n",
       "      <td>Alaska Attorney General</td>\n",
       "      <td>Harvard University (AB) Georgetown University ...</td>\n",
       "      <td>January 3, 2015</td>\n",
       "      <td>2026</td>\n",
       "      <td>Anchorage</td>\n",
       "    </tr>\n",
       "    <tr>\n",
       "      <th>4</th>\n",
       "      <td>Arizona</td>\n",
       "      <td>NaN</td>\n",
       "      <td>Kyrsten Sinema</td>\n",
       "      <td>NaN</td>\n",
       "      <td>Democratic</td>\n",
       "      <td>(age 45)</td>\n",
       "      <td>Social workerPolitical activistLawyerCollege l...</td>\n",
       "      <td>U.S. HouseArizona SenateArizona House of Repre...</td>\n",
       "      <td>Brigham Young University (BA) Arizona State Un...</td>\n",
       "      <td>January 3, 2019</td>\n",
       "      <td>2024</td>\n",
       "      <td>Phoenix</td>\n",
       "    </tr>\n",
       "    <tr>\n",
       "      <th>...</th>\n",
       "      <td>...</td>\n",
       "      <td>...</td>\n",
       "      <td>...</td>\n",
       "      <td>...</td>\n",
       "      <td>...</td>\n",
       "      <td>...</td>\n",
       "      <td>...</td>\n",
       "      <td>...</td>\n",
       "      <td>...</td>\n",
       "      <td>...</td>\n",
       "      <td>...</td>\n",
       "      <td>...</td>\n",
       "    </tr>\n",
       "    <tr>\n",
       "      <th>95</th>\n",
       "      <td>West Virginia</td>\n",
       "      <td>NaN</td>\n",
       "      <td>Shelley Moore Capito</td>\n",
       "      <td>NaN</td>\n",
       "      <td>Republican</td>\n",
       "      <td>(age 68)</td>\n",
       "      <td>College career counselorDirector, state Board ...</td>\n",
       "      <td>U.S. HouseWest Virginia House of Delegates</td>\n",
       "      <td>Duke University (BA) University of Virginia (MEd)</td>\n",
       "      <td>January 3, 2015</td>\n",
       "      <td>2026</td>\n",
       "      <td>Charleston</td>\n",
       "    </tr>\n",
       "    <tr>\n",
       "      <th>96</th>\n",
       "      <td>Wisconsin</td>\n",
       "      <td>NaN</td>\n",
       "      <td>Ron Johnson</td>\n",
       "      <td>NaN</td>\n",
       "      <td>Republican</td>\n",
       "      <td>(age 66)</td>\n",
       "      <td>AccountantCorporate executive</td>\n",
       "      <td>None</td>\n",
       "      <td>University of Minnesota (BS)</td>\n",
       "      <td>January 3, 2011</td>\n",
       "      <td>2022</td>\n",
       "      <td>Oshkosh</td>\n",
       "    </tr>\n",
       "    <tr>\n",
       "      <th>97</th>\n",
       "      <td>Wisconsin</td>\n",
       "      <td>NaN</td>\n",
       "      <td>Tammy Baldwin</td>\n",
       "      <td>NaN</td>\n",
       "      <td>Democratic</td>\n",
       "      <td>(age 60)</td>\n",
       "      <td>Lawyer</td>\n",
       "      <td>U.S. HouseWisconsin AssemblyDane County, Wisco...</td>\n",
       "      <td>Smith College (BA) University of Wisconsin-Mad...</td>\n",
       "      <td>January 3, 2013</td>\n",
       "      <td>2024</td>\n",
       "      <td>Madison</td>\n",
       "    </tr>\n",
       "    <tr>\n",
       "      <th>98</th>\n",
       "      <td>Wyoming</td>\n",
       "      <td>NaN</td>\n",
       "      <td>John Barrasso</td>\n",
       "      <td>NaN</td>\n",
       "      <td>Republican</td>\n",
       "      <td>(age 69)</td>\n",
       "      <td>Orthopedic surgeonMedical chief of staffNonpro...</td>\n",
       "      <td>Wyoming Senate</td>\n",
       "      <td>Rensselaer Polytechnic Institute Georgetown Un...</td>\n",
       "      <td>June 25, 2007[aa]</td>\n",
       "      <td>2024</td>\n",
       "      <td>Casper</td>\n",
       "    </tr>\n",
       "    <tr>\n",
       "      <th>99</th>\n",
       "      <td>Wyoming</td>\n",
       "      <td>NaN</td>\n",
       "      <td>Cynthia Lummis</td>\n",
       "      <td>NaN</td>\n",
       "      <td>Republican</td>\n",
       "      <td>(age 67)</td>\n",
       "      <td>Lawyer</td>\n",
       "      <td>U.S. HouseWyoming TreasurerWyoming SenateWyomi...</td>\n",
       "      <td>University of Wyoming (BS, JD)</td>\n",
       "      <td>January 3, 2021</td>\n",
       "      <td>2026</td>\n",
       "      <td>Cheyenne</td>\n",
       "    </tr>\n",
       "  </tbody>\n",
       "</table>\n",
       "<p>100 rows × 12 columns</p>\n",
       "</div>"
      ],
      "text/plain": [
       "            State  Portrait               Senator  Party        Party.1  \\\n",
       "0         Alabama       NaN        Richard Shelby    NaN  Republican[d]   \n",
       "1         Alabama       NaN      Tommy Tuberville    NaN     Republican   \n",
       "2          Alaska       NaN        Lisa Murkowski    NaN     Republican   \n",
       "3          Alaska       NaN          Dan Sullivan    NaN     Republican   \n",
       "4         Arizona       NaN        Kyrsten Sinema    NaN     Democratic   \n",
       "..            ...       ...                   ...    ...            ...   \n",
       "95  West Virginia       NaN  Shelley Moore Capito    NaN     Republican   \n",
       "96      Wisconsin       NaN           Ron Johnson    NaN     Republican   \n",
       "97      Wisconsin       NaN         Tammy Baldwin    NaN     Democratic   \n",
       "98        Wyoming       NaN         John Barrasso    NaN     Republican   \n",
       "99        Wyoming       NaN        Cynthia Lummis    NaN     Republican   \n",
       "\n",
       "        Born                                      Occupation(s)  \\\n",
       "0   (age 87)                                             Lawyer   \n",
       "1   (age 67)  College football coachPartner, investment mana...   \n",
       "2   (age 64)                                             Lawyer   \n",
       "3   (age 57)  U.S. Marine Corps officerLawyerAssistant Secre...   \n",
       "4   (age 45)  Social workerPolitical activistLawyerCollege l...   \n",
       "..       ...                                                ...   \n",
       "95  (age 68)  College career counselorDirector, state Board ...   \n",
       "96  (age 66)                      AccountantCorporate executive   \n",
       "97  (age 60)                                             Lawyer   \n",
       "98  (age 69)  Orthopedic surgeonMedical chief of staffNonpro...   \n",
       "99  (age 67)                                             Lawyer   \n",
       "\n",
       "                           Previous electiveoffice(s)  \\\n",
       "0                            U.S. HouseAlabama Senate   \n",
       "1                                                None   \n",
       "2                     Alaska House of Representatives   \n",
       "3                             Alaska Attorney General   \n",
       "4   U.S. HouseArizona SenateArizona House of Repre...   \n",
       "..                                                ...   \n",
       "95         U.S. HouseWest Virginia House of Delegates   \n",
       "96                                               None   \n",
       "97  U.S. HouseWisconsin AssemblyDane County, Wisco...   \n",
       "98                                     Wyoming Senate   \n",
       "99  U.S. HouseWyoming TreasurerWyoming SenateWyomi...   \n",
       "\n",
       "                                            Education        Assumed office  \\\n",
       "0   University of Alabama (BA, LLB) Birmingham Sch...       January 3, 1987   \n",
       "1                   Southern Arkansas University (BS)       January 3, 2021   \n",
       "2   Georgetown University (AB) Willamette Universi...  December 20, 2002[e]   \n",
       "3   Harvard University (AB) Georgetown University ...       January 3, 2015   \n",
       "4   Brigham Young University (BA) Arizona State Un...       January 3, 2019   \n",
       "..                                                ...                   ...   \n",
       "95  Duke University (BA) University of Virginia (MEd)       January 3, 2015   \n",
       "96                       University of Minnesota (BS)       January 3, 2011   \n",
       "97  Smith College (BA) University of Wisconsin-Mad...       January 3, 2013   \n",
       "98  Rensselaer Polytechnic Institute Georgetown Un...     June 25, 2007[aa]   \n",
       "99                     University of Wyoming (BS, JD)       January 3, 2021   \n",
       "\n",
       "    Term up Residence[2]  \n",
       "0      2022   Tuscaloosa  \n",
       "1      2026    Auburn[3]  \n",
       "2      2022     Girdwood  \n",
       "3      2026    Anchorage  \n",
       "4      2024      Phoenix  \n",
       "..      ...          ...  \n",
       "95     2026   Charleston  \n",
       "96     2022      Oshkosh  \n",
       "97     2024      Madison  \n",
       "98     2024       Casper  \n",
       "99     2026     Cheyenne  \n",
       "\n",
       "[100 rows x 12 columns]"
      ]
     },
     "execution_count": 8,
     "metadata": {},
     "output_type": "execute_result"
    }
   ],
   "source": [
    "senators_url = \"https://en.wikipedia.org/wiki/List_of_current_United_States_senators\"\n",
    "table_class = \"wikitable sortable jquery-tablesorter\"\n",
    "response = requests.get(senators_url)\n",
    "print(response)\n",
    "\n",
    "soup = BeautifulSoup(response.text, 'html.parser')\n",
    "senators_table=soup.find_all(\"table\",{'class':\"wikitable\"})[4]\n",
    "\n",
    "df_senators=pd.read_html(str(senators_table))\n",
    "df_senators=pd.DataFrame(df_senators[0])\n",
    "df_senators\n"
   ]
  },
  {
   "cell_type": "code",
   "execution_count": 9,
   "id": "06b12999-0809-4323-bbb5-d8713e683b39",
   "metadata": {},
   "outputs": [
    {
     "name": "stderr",
     "output_type": "stream",
     "text": [
      "/var/folders/lx/p5f6tjxn78d7x0yr11l1pm_h0000gn/T/ipykernel_8989/747308026.py:2: SettingWithCopyWarning: \n",
      "A value is trying to be set on a copy of a slice from a DataFrame\n",
      "\n",
      "See the caveats in the documentation: https://pandas.pydata.org/pandas-docs/stable/user_guide/indexing.html#returning-a-view-versus-a-copy\n",
      "  df_senators[\"Party\"][df_senators[\"Party.1\"] == \"Republican[d]\"] = \"Republican\"\n",
      "/var/folders/lx/p5f6tjxn78d7x0yr11l1pm_h0000gn/T/ipykernel_8989/747308026.py:3: SettingWithCopyWarning: \n",
      "A value is trying to be set on a copy of a slice from a DataFrame\n",
      "\n",
      "See the caveats in the documentation: https://pandas.pydata.org/pandas-docs/stable/user_guide/indexing.html#returning-a-view-versus-a-copy\n",
      "  df_senators[\"Party\"][df_senators[\"Party.1\"] == \"Independent[a]\"] = \"Independent\"\n"
     ]
    },
    {
     "data": {
      "text/plain": [
       "(array([50.,  0.,  0.,  0.,  0., 48.,  0.,  0.,  0.,  2.]),\n",
       " array([0. , 0.2, 0.4, 0.6, 0.8, 1. , 1.2, 1.4, 1.6, 1.8, 2. ]),\n",
       " <BarContainer object of 10 artists>)"
      ]
     },
     "execution_count": 9,
     "metadata": {},
     "output_type": "execute_result"
    },
    {
     "data": {
      "image/png": "[encoded data removed]",
      "text/plain": [
       "<Figure size 432x288 with 1 Axes>"
      ]
     },
     "metadata": {
      "needs_background": "light"
     },
     "output_type": "display_data"
    }
   ],
   "source": [
    "df_senators[\"Party\"] = df_senators[\"Party.1\"]\n",
    "df_senators[\"Party\"][df_senators[\"Party.1\"] == \"Republican[d]\"] = \"Republican\"\n",
    "df_senators[\"Party\"][df_senators[\"Party.1\"] == \"Independent[a]\"] = \"Independent\"\n",
    "df_senators[\"Name\"] = df_senators[\"Senator\"]\n",
    "plt.hist(df_senators[\"Party\"])"
   ]
  },
  {
   "cell_type": "code",
   "execution_count": 10,
   "id": "3e891329-81f7-4c72-bfe3-7f514fc04792",
   "metadata": {},
   "outputs": [],
   "source": [
    "def strip_cols(dataframe, kept_cols):\n",
    "    columns = list(dataframe.columns)\n",
    "    for col in columns:\n",
    "        if col not in kept_cols:\n",
    "            del dataframe[col]\n",
    "    return dataframe"
   ]
  },
  {
   "cell_type": "code",
   "execution_count": 11,
   "id": "36c23734-c633-456a-8368-ffbd46daf030",
   "metadata": {},
   "outputs": [
    {
     "name": "stdout",
     "output_type": "stream",
     "text": [
      "(100, 2)\n",
      "(435, 2)\n"
     ]
    }
   ],
   "source": [
    "df_senators[\"Branch\"] = \"Senate\"\n",
    "df_representatives[\"Branch\"] = \"House\"\n",
    "\n",
    "kept_cols = [\"Name\", \"Party\"]\n",
    "\n",
    "df_senators_stripped = strip_cols(df_senators, kept_cols)\n",
    "df_representatives_stripped = strip_cols(df_representatives, kept_cols)\n",
    "\n",
    "print(df_senators_stripped.shape)\n",
    "print(df_representatives_stripped.shape)\n"
   ]
  },
  {
   "cell_type": "code",
   "execution_count": 14,
   "id": "8a793381-92e6-49be-90d7-f2e3cf499c7f",
   "metadata": {},
   "outputs": [],
   "source": [
    "politician_dataframe = pd.concat([df_senators_stripped, df_representatives_stripped])"
   ]
  },
  {
   "cell_type": "code",
   "execution_count": 15,
   "id": "7ff17294-c41b-40d7-8be8-d27cc000fffb",
   "metadata": {},
   "outputs": [
    {
     "data": {
      "text/plain": [
       "(array([261.,   0.,   0., 270.,   0.,   0.,   2.,   0.,   0.,   2.]),\n",
       " array([0. , 0.3, 0.6, 0.9, 1.2, 1.5, 1.8, 2.1, 2.4, 2.7, 3. ]),\n",
       " <BarContainer object of 10 artists>)"
      ]
     },
     "execution_count": 15,
     "metadata": {},
     "output_type": "execute_result"
    },
    {
     "data": {
      "image/png": "[encoded data removed]",
      "text/plain": [
       "<Figure size 432x288 with 1 Axes>"
      ]
     },
     "metadata": {
      "needs_background": "light"
     },
     "output_type": "display_data"
    }
   ],
   "source": [
    "plt.hist(politician_dataframe[\"Party\"])"
   ]
  },
  {
   "cell_type": "code",
   "execution_count": 117,
   "id": "16d1d9c3-0a3b-41ee-85d6-19ff609e64a6",
   "metadata": {},
   "outputs": [
    {
     "ename": "TooManyRequests",
     "evalue": "429 Too Many Requests",
     "output_type": "error",
     "traceback": [
      "\u001b[0;31m---------------------------------------------------------------------------\u001b[0m",
      "\u001b[0;31mTooManyRequests\u001b[0m                           Traceback (most recent call last)",
      "Input \u001b[0;32mIn [117]\u001b[0m, in \u001b[0;36m<module>\u001b[0;34m\u001b[0m\n\u001b[1;32m     37\u001b[0m     \u001b[38;5;28mprint\u001b[39m(names[sort_inds], counts[sort_inds])\n\u001b[1;32m     39\u001b[0m     \u001b[38;5;28;01mreturn\u001b[39;00m names[\u001b[38;5;241m0\u001b[39m]\n\u001b[0;32m---> 41\u001b[0m tom_username \u001b[38;5;241m=\u001b[39m \u001b[43mget_twitter_username\u001b[49m\u001b[43m(\u001b[49m\u001b[38;5;124;43m\"\u001b[39;49m\u001b[38;5;124;43mLisa Murkowski\u001b[39;49m\u001b[38;5;124;43m\"\u001b[39;49m\u001b[43m,\u001b[49m\u001b[43m \u001b[49m\u001b[43mclient\u001b[49m\u001b[43m)\u001b[49m\n\u001b[1;32m     42\u001b[0m \u001b[38;5;28mprint\u001b[39m(tom_username)\n",
      "Input \u001b[0;32mIn [117]\u001b[0m, in \u001b[0;36mget_twitter_username\u001b[0;34m(name, client)\u001b[0m\n\u001b[1;32m     26\u001b[0m mentioned \u001b[38;5;241m=\u001b[39m get_mentioned(tweets, split_name)\n\u001b[1;32m     28\u001b[0m \u001b[38;5;28;01mif\u001b[39;00m \u001b[38;5;28mlen\u001b[39m(mentioned) \u001b[38;5;241m==\u001b[39m \u001b[38;5;241m0\u001b[39m:\n\u001b[0;32m---> 29\u001b[0m     tweets \u001b[38;5;241m=\u001b[39m \u001b[43mclient\u001b[49m\u001b[38;5;241;43m.\u001b[39;49m\u001b[43msearch_all_tweets\u001b[49m\u001b[43m(\u001b[49m\u001b[43mquery\u001b[49m\u001b[43m \u001b[49m\u001b[38;5;241;43m=\u001b[39;49m\u001b[43m \u001b[49m\u001b[38;5;124;43mf\u001b[39;49m\u001b[38;5;124;43m'\u001b[39;49m\u001b[38;5;132;43;01m{\u001b[39;49;00m\u001b[43mname\u001b[49m\u001b[38;5;132;43;01m}\u001b[39;49;00m\u001b[38;5;124;43m is:verified\u001b[39;49m\u001b[38;5;124;43m'\u001b[39;49m\u001b[43m,\u001b[49m\u001b[43m \u001b[49m\u001b[43mmax_results\u001b[49m\u001b[43m \u001b[49m\u001b[38;5;241;43m=\u001b[39;49m\u001b[43m \u001b[49m\u001b[38;5;241;43m500\u001b[39;49m\u001b[43m)\u001b[49m[\u001b[38;5;241m0\u001b[39m]\n\u001b[1;32m     30\u001b[0m     mentioned \u001b[38;5;241m=\u001b[39m get_mentioned(tweets, split_name)\n\u001b[1;32m     33\u001b[0m \u001b[38;5;66;03m#print(ids)\u001b[39;00m\n",
      "File \u001b[0;32m~/miniforge3/envs/networks/lib/python3.9/site-packages/tweepy/client.py:754\u001b[0m, in \u001b[0;36mClient.search_all_tweets\u001b[0;34m(self, query, **params)\u001b[0m\n\u001b[1;32m    676\u001b[0m \u001b[38;5;124;03m\"\"\"search_all_tweets( \\\u001b[39;00m\n\u001b[1;32m    677\u001b[0m \u001b[38;5;124;03m    query, *, end_time, expansions, max_results, media_fields, \\\u001b[39;00m\n\u001b[1;32m    678\u001b[0m \u001b[38;5;124;03m    next_token, place_fields, poll_fields, since_id, start_time, \\\u001b[39;00m\n\u001b[0;32m   (...)\u001b[0m\n\u001b[1;32m    751\u001b[0m \u001b[38;5;124;03m.. _pagination: https://developer.twitter.com/en/docs/twitter-api/tweets/search/integrate/paginate\u001b[39;00m\n\u001b[1;32m    752\u001b[0m \u001b[38;5;124;03m\"\"\"\u001b[39;00m\n\u001b[1;32m    753\u001b[0m params[\u001b[38;5;124m\"\u001b[39m\u001b[38;5;124mquery\u001b[39m\u001b[38;5;124m\"\u001b[39m] \u001b[38;5;241m=\u001b[39m query\n\u001b[0;32m--> 754\u001b[0m \u001b[38;5;28;01mreturn\u001b[39;00m \u001b[38;5;28;43mself\u001b[39;49m\u001b[38;5;241;43m.\u001b[39;49m\u001b[43m_make_request\u001b[49m\u001b[43m(\u001b[49m\n\u001b[1;32m    755\u001b[0m \u001b[43m    \u001b[49m\u001b[38;5;124;43m\"\u001b[39;49m\u001b[38;5;124;43mGET\u001b[39;49m\u001b[38;5;124;43m\"\u001b[39;49m\u001b[43m,\u001b[49m\u001b[43m \u001b[49m\u001b[38;5;124;43m\"\u001b[39;49m\u001b[38;5;124;43m/2/tweets/search/all\u001b[39;49m\u001b[38;5;124;43m\"\u001b[39;49m\u001b[43m,\u001b[49m\u001b[43m \u001b[49m\u001b[43mparams\u001b[49m\u001b[38;5;241;43m=\u001b[39;49m\u001b[43mparams\u001b[49m\u001b[43m,\u001b[49m\n\u001b[1;32m    756\u001b[0m \u001b[43m    \u001b[49m\u001b[43mendpoint_parameters\u001b[49m\u001b[38;5;241;43m=\u001b[39;49m\u001b[43m(\u001b[49m\n\u001b[1;32m    757\u001b[0m \u001b[43m        \u001b[49m\u001b[38;5;124;43m\"\u001b[39;49m\u001b[38;5;124;43mend_time\u001b[39;49m\u001b[38;5;124;43m\"\u001b[39;49m\u001b[43m,\u001b[49m\u001b[43m \u001b[49m\u001b[38;5;124;43m\"\u001b[39;49m\u001b[38;5;124;43mexpansions\u001b[39;49m\u001b[38;5;124;43m\"\u001b[39;49m\u001b[43m,\u001b[49m\u001b[43m \u001b[49m\u001b[38;5;124;43m\"\u001b[39;49m\u001b[38;5;124;43mmax_results\u001b[39;49m\u001b[38;5;124;43m\"\u001b[39;49m\u001b[43m,\u001b[49m\u001b[43m \u001b[49m\u001b[38;5;124;43m\"\u001b[39;49m\u001b[38;5;124;43mmedia.fields\u001b[39;49m\u001b[38;5;124;43m\"\u001b[39;49m\u001b[43m,\u001b[49m\n\u001b[1;32m    758\u001b[0m \u001b[43m        \u001b[49m\u001b[38;5;124;43m\"\u001b[39;49m\u001b[38;5;124;43mnext_token\u001b[39;49m\u001b[38;5;124;43m\"\u001b[39;49m\u001b[43m,\u001b[49m\u001b[43m \u001b[49m\u001b[38;5;124;43m\"\u001b[39;49m\u001b[38;5;124;43mplace.fields\u001b[39;49m\u001b[38;5;124;43m\"\u001b[39;49m\u001b[43m,\u001b[49m\u001b[43m \u001b[49m\u001b[38;5;124;43m\"\u001b[39;49m\u001b[38;5;124;43mpoll.fields\u001b[39;49m\u001b[38;5;124;43m\"\u001b[39;49m\u001b[43m,\u001b[49m\u001b[43m \u001b[49m\u001b[38;5;124;43m\"\u001b[39;49m\u001b[38;5;124;43mquery\u001b[39;49m\u001b[38;5;124;43m\"\u001b[39;49m\u001b[43m,\u001b[49m\n\u001b[1;32m    759\u001b[0m \u001b[43m        \u001b[49m\u001b[38;5;124;43m\"\u001b[39;49m\u001b[38;5;124;43msince_id\u001b[39;49m\u001b[38;5;124;43m\"\u001b[39;49m\u001b[43m,\u001b[49m\u001b[43m \u001b[49m\u001b[38;5;124;43m\"\u001b[39;49m\u001b[38;5;124;43mstart_time\u001b[39;49m\u001b[38;5;124;43m\"\u001b[39;49m\u001b[43m,\u001b[49m\u001b[43m \u001b[49m\u001b[38;5;124;43m\"\u001b[39;49m\u001b[38;5;124;43mtweet.fields\u001b[39;49m\u001b[38;5;124;43m\"\u001b[39;49m\u001b[43m,\u001b[49m\u001b[43m \u001b[49m\u001b[38;5;124;43m\"\u001b[39;49m\u001b[38;5;124;43muntil_id\u001b[39;49m\u001b[38;5;124;43m\"\u001b[39;49m\u001b[43m,\u001b[49m\n\u001b[1;32m    760\u001b[0m \u001b[43m        \u001b[49m\u001b[38;5;124;43m\"\u001b[39;49m\u001b[38;5;124;43muser.fields\u001b[39;49m\u001b[38;5;124;43m\"\u001b[39;49m\n\u001b[1;32m    761\u001b[0m \u001b[43m    \u001b[49m\u001b[43m)\u001b[49m\u001b[43m,\u001b[49m\u001b[43m \u001b[49m\u001b[43mdata_type\u001b[49m\u001b[38;5;241;43m=\u001b[39;49m\u001b[43mTweet\u001b[49m\n\u001b[1;32m    762\u001b[0m \u001b[43m\u001b[49m\u001b[43m)\u001b[49m\n",
      "File \u001b[0;32m~/miniforge3/envs/networks/lib/python3.9/site-packages/tweepy/client.py:168\u001b[0m, in \u001b[0;36mClient._make_request\u001b[0;34m(self, method, route, params, endpoint_parameters, json, data_type, user_auth)\u001b[0m\n\u001b[1;32m    165\u001b[0m     \u001b[38;5;28;01mif\u001b[39;00m param_name \u001b[38;5;129;01mnot\u001b[39;00m \u001b[38;5;129;01min\u001b[39;00m endpoint_parameters:\n\u001b[1;32m    166\u001b[0m         log\u001b[38;5;241m.\u001b[39mwarn(\u001b[38;5;124mf\u001b[39m\u001b[38;5;124m\"\u001b[39m\u001b[38;5;124mUnexpected parameter: \u001b[39m\u001b[38;5;132;01m{\u001b[39;00mparam_name\u001b[38;5;132;01m}\u001b[39;00m\u001b[38;5;124m\"\u001b[39m)\n\u001b[0;32m--> 168\u001b[0m response \u001b[38;5;241m=\u001b[39m \u001b[38;5;28;43mself\u001b[39;49m\u001b[38;5;241;43m.\u001b[39;49m\u001b[43mrequest\u001b[49m\u001b[43m(\u001b[49m\u001b[43mmethod\u001b[49m\u001b[43m,\u001b[49m\u001b[43m \u001b[49m\u001b[43mroute\u001b[49m\u001b[43m,\u001b[49m\u001b[43m \u001b[49m\u001b[43mparams\u001b[49m\u001b[38;5;241;43m=\u001b[39;49m\u001b[43mrequest_params\u001b[49m\u001b[43m,\u001b[49m\n\u001b[1;32m    169\u001b[0m \u001b[43m                        \u001b[49m\u001b[43mjson\u001b[49m\u001b[38;5;241;43m=\u001b[39;49m\u001b[43mjson\u001b[49m\u001b[43m,\u001b[49m\u001b[43m \u001b[49m\u001b[43muser_auth\u001b[49m\u001b[38;5;241;43m=\u001b[39;49m\u001b[43muser_auth\u001b[49m\u001b[43m)\u001b[49m\n\u001b[1;32m    171\u001b[0m \u001b[38;5;28;01mif\u001b[39;00m \u001b[38;5;28mself\u001b[39m\u001b[38;5;241m.\u001b[39mreturn_type \u001b[38;5;129;01mis\u001b[39;00m requests\u001b[38;5;241m.\u001b[39mResponse:\n\u001b[1;32m    172\u001b[0m     \u001b[38;5;28;01mreturn\u001b[39;00m response\n",
      "File \u001b[0;32m~/miniforge3/envs/networks/lib/python3.9/site-packages/tweepy/client.py:138\u001b[0m, in \u001b[0;36mClient.request\u001b[0;34m(self, method, route, params, json, user_auth)\u001b[0m\n\u001b[1;32m    136\u001b[0m         \u001b[38;5;28;01mreturn\u001b[39;00m \u001b[38;5;28mself\u001b[39m\u001b[38;5;241m.\u001b[39mrequest(method, route, params, json, user_auth)\n\u001b[1;32m    137\u001b[0m     \u001b[38;5;28;01melse\u001b[39;00m:\n\u001b[0;32m--> 138\u001b[0m         \u001b[38;5;28;01mraise\u001b[39;00m TooManyRequests(response)\n\u001b[1;32m    139\u001b[0m \u001b[38;5;28;01mif\u001b[39;00m response\u001b[38;5;241m.\u001b[39mstatus_code \u001b[38;5;241m>\u001b[39m\u001b[38;5;241m=\u001b[39m \u001b[38;5;241m500\u001b[39m:\n\u001b[1;32m    140\u001b[0m     \u001b[38;5;28;01mraise\u001b[39;00m TwitterServerError(response)\n",
      "\u001b[0;31mTooManyRequests\u001b[0m: 429 Too Many Requests"
     ]
    }
   ],
   "source": [
    "client = tweepy.Client(bearer_token=keys[\"Bearer_token\"])\n",
    "\n",
    "\n",
    "\n",
    "\n",
    "def get_mentioned(tweets, split_name):\n",
    "    mentioned = []\n",
    "\n",
    "    for i, tweet in enumerate(tweets):\n",
    "        split = tweet[\"text\"].split(' ')\n",
    "        for s in split:\n",
    "            if len(s) != 0:\n",
    "                if s[0] == '@':\n",
    "                    for name_part in split_name:\n",
    "                        if name_part in s:\n",
    "                            clean_mention = re.sub(r'[^\\w\\s]', '', s)\n",
    "                            mentioned.append(clean_mention)\n",
    "    return mentioned\n",
    "\n",
    "def get_twitter_username(name, client):\n",
    "    \n",
    "    tweets = client.search_all_tweets(query = f'{name} is:verified', max_results = 100)[0]\n",
    "    #print(tweets)\n",
    "    split_name = name.split(' ')\n",
    "    \n",
    "    mentioned = get_mentioned(tweets, split_name)\n",
    "                            \n",
    "    if len(mentioned) == 0:\n",
    "        tweets = client.search_all_tweets(query = f'{name} is:verified', max_results = 500)[0]\n",
    "        mentioned = get_mentioned(tweets, split_name)\n",
    "        \n",
    "    \n",
    "    #print(ids)\n",
    "\n",
    "    names, counts = np.unique(mentioned, return_counts = True)\n",
    "    sort_inds = np.argsort(counts)[::-1]\n",
    "    print(names[sort_inds], counts[sort_inds])\n",
    "    \n",
    "    return names[0]\n",
    "    \n",
    "tom_username = get_twitter_username(\"Lisa Murkowski\", client)\n",
    "print(tom_username)"
   ]
  },
  {
   "cell_type": "code",
   "execution_count": 118,
   "id": "df19edf6-4d30-4137-8a6c-2aad6f047bdc",
   "metadata": {},
   "outputs": [
    {
     "name": "stdout",
     "output_type": "stream",
     "text": [
      "LisaMurkowski\n"
     ]
    }
   ],
   "source": [
    "print(tom_username)\n",
    "\n",
    "\n",
    "\n",
    "\n",
    "#ver_users = []"
   ]
  },
  {
   "cell_type": "code",
   "execution_count": 92,
   "id": "bfa743a8-c3a6-421f-aad7-040c537bbe83",
   "metadata": {},
   "outputs": [
    {
     "name": "stdout",
     "output_type": "stream",
     "text": [
      "Response(data=[<User id=275572403 name=SASC GOP username=SASCGOP>, <User id=214120461 name=ryan cooper username=ryanlcooper>, <User id=171346034 name=David Roth username=david_j_roth>, <User id=20725994 name=Adam Weinstein username=AdamWeinstein>, <User id=12916762 name=Joe Patrice username=JosephPatrice>, <User id=69524494 name=Wade Keller username=thewadekeller>, <User id=863040334149898240 name=Anthony V. Clark username=anthonyvclark20>, <User id=16470128 name=Mark Skoneki username=markskon>, <User id=220118448 name=Jonah Owen Lamb username=jonahowenlamb>, <User id=59524045 name=Bill Prady (Taylor's Version) username=billprady>, <User id=43412697 name=Clara Jeffery username=ClaraJeffery>, <User id=14528874 name=AL.com username=aldotcom>, <User id=34354722 name=JD Crowe username=CroweJam>, <User id=45499837 name=Ken Tremendous username=KenTremendous>, <User id=857476117 name=Nick Stellini username=StelliniTweets>, <User id=8790702 name=Dan McQuade username=dhm>, <User id=15856435 name=MSN username=MSN>, <User id=29585629 name=Josh Moon 🇺🇸 username=Josh_Moon>, <User id=96505646 name=Kyle Whitmire username=WarOnDumb>, <User id=724416918 name=Jules Boykoff username=JulesBoykoff>, <User id=15209694 name=David Rothschild™ username=RealDRothschild>, <User id=1375583112 name=inverted vibe curve: burgertown must be defended username=PatBlanchfield>, <User id=22316661 name=Ricky O'Donnell username=SBN_Ricky>, <User id=126689232 name=Kiersten Warren username=KierstenWarren>, <User id=582307923 name=Callie Khouri 🇺🇦 username=CallieKhouri>, <User id=17085007 name=Jack Womack username=jwomack>, <User id=368918608 name=Christopher Bedford username=CBedfordDC>, <User id=288338031 name=hunter cooke username=diamondbackGG>, <User id=14347972 name=Mark Hemingway username=Heminator>, <User id=26597673 name=Matt Scalici username=MattScalici>, <User id=801581981024849920 name=bryan metzger username=metzgov>, <User id=279270074 name=Patrick Hruby username=patrick_hruby>, <User id=40353407 name=Elie Mystal username=ElieNYC>, <User id=40353407 name=Elie Mystal username=ElieNYC>, <User id=171346034 name=David Roth username=david_j_roth>, <User id=89349029 name=LeKarst James username=jameskarst>, <User id=299381686 name=Jim Lokay username=LokayFOX5>, <User id=204453433 name=Daniel J. Willis username=BayAreaData>, <User id=25702314 name=Eric Michael Garcia username=EricMGarcia>, <User id=178182219 name=*Chris Fetters username=Chris_Fetters>, <User id=48492831 name=Jason La Canfora username=JasonLaCanfora>, <User id=40145940 name=Rick Smith username=RickSmithShow>, <User id=14412533 name=Chris Cillizza username=ChrisCillizza>, <User id=15856435 name=MSN username=MSN>, <User id=539210430 name=Rachel Lenzi 😎 username=rachelmlenzi>, <User id=539210430 name=Rachel Lenzi 😎 username=rachelmlenzi>, <User id=384923143 name=Prof Michael E. Mann username=MichaelEMann>, <User id=19572264 name=BillWolff username=ProducerGuy1>, <User id=67713711 name=Jim Vertuno username=JimVertuno>, <User id=96505646 name=Kyle Whitmire username=WarOnDumb>, <User id=14412533 name=Chris Cillizza username=ChrisCillizza>, <User id=14412533 name=Chris Cillizza username=ChrisCillizza>, <User id=1192160073897988096 name=Rachel Vindman 🌻🇺🇦💙💛 username=natsechobbyist>, <User id=18532867 name=David Leopold 🇺🇸 username=DavidLeopold>, <User id=2836421 name=MSNBC username=MSNBC>, <User id=13706032 name=Jeanna Kelley username=jeannathomas>, <User id=177694689 name=Guy Norman Bee username=guynormanbee>, <User id=26574318 name=(((Leif Skodnick))) username=LeifSkodnick>, <User id=1044241 name=Brooke Binkowski username=brooklynmarie>, <User id=12199652 name=Ed Bott username=edbott>, <User id=1345739193721487362 name=Coach Tommy Tuberville username=SenTuberville>, <User id=1345739193721487362 name=Coach Tommy Tuberville username=SenTuberville>, <User id=15115280 name=Palmer Report username=PalmerReport>, <User id=184164654 name=Dan Treadway username=Dan_Treadway>, <User id=13265132 name=ABC 33/40 News username=abc3340>, <User id=19084896 name=Rick Wilson username=TheRickWilson>, <User id=12579352 name=Billy Corben username=BillyCorben>, <User id=880018682 name=David Weissman username=davidmweissman>, <User id=146882416 name=Eric Morrow username=morroweric>, <User id=27511061 name=Steve Benen username=stevebenen>, <User id=832616065259614209 name=The USA Singers username=TheUSASingers>, <User id=1148120993803595776 name=T-House username=thouse_opinions>, <User id=29465136 name=Mediaite username=Mediaite>, <User id=1576604677 name=Lanford Beard username=lanfordbeard>, <User id=1640929196 name=BrooklynDad_Defiant! username=mmpadellan>, <User id=363022285 name=Ron Waxman 🏳️‍🌈 username=RonWaxman>, <User id=363022285 name=Ron Waxman 🏳️‍🌈 username=RonWaxman>, <User id=83873759 name=Ben Heisler username=bennyheis>, <User id=15914429 name=Paul M. Banks username=PaulMBanks>, <User id=732074215 name=Seth Augenstein username=SethAugenstein>, <User id=40145940 name=Rick Smith username=RickSmithShow>, <User id=1408106431459385346 name=Akil ⭕ Patterson: Your Trusted Voice In Crypto username=blk_exc>, <User id=26465563 name=And Justice For All--Now! username=MORNINGMANIAC>, <User id=26465563 name=And Justice For All--Now! username=MORNINGMANIAC>, <User id=26465563 name=And Justice For All--Now! username=MORNINGMANIAC>, <User id=66213051 name=Schooley username=Rschooley>, <User id=83788240 name=Nick Wing username=nickpwing>, <User id=48650395 name=𝐄𝐱𝐚𝐯𝐢𝐞𝐫 𝐏𝐨𝐩𝐞 username=exavierpope>, <User id=124695351 name=Brian Floyd username=BrianMFloyd>, <User id=344171667 name=KAMC News username=KAMCNews>, <User id=114787226 name=Adam Staten username=AStat22>, <User id=33158980 name=kylie sparks🖤🥂⚾️🏀 username=kyliesparks>, <User id=48650395 name=𝐄𝐱𝐚𝐯𝐢𝐞𝐫 𝐏𝐨𝐩𝐞 username=exavierpope>, <User id=13265132 name=ABC 33/40 News username=abc3340>, <User id=2884771 name=Newsweek username=Newsweek>, <User id=45564482 name=New York Magazine username=NYMag>, <User id=45565185 name=Intelligencer username=intelligencer>, <User id=3286471 name=Genetta Adams username=GenettaAdams>, <User id=151603912 name=Bruno J. Navarro 🇺🇸🌻🇺🇦 username=Bruno_J_Navarro>], includes={}, errors=[], meta={})\n",
      "['__add__', '__class__', '__class_getitem__', '__contains__', '__delattr__', '__delitem__', '__dir__', '__doc__', '__eq__', '__format__', '__ge__', '__getattribute__', '__getitem__', '__gt__', '__hash__', '__iadd__', '__imul__', '__init__', '__init_subclass__', '__iter__', '__le__', '__len__', '__lt__', '__mul__', '__ne__', '__new__', '__reduce__', '__reduce_ex__', '__repr__', '__reversed__', '__rmul__', '__setattr__', '__setitem__', '__sizeof__', '__str__', '__subclasshook__', 'append', 'clear', 'copy', 'count', 'extend', 'index', 'insert', 'pop', 'remove', 'reverse', 'sort']\n",
      "Sheila Mehta\n"
     ]
    }
   ],
   "source": [
    "#for id_ in ids:\n",
    "users = client.get_users(ids = ids)\n",
    "print(users)\n",
    "print(dir(users[0]))\n",
    "print(user.data.name)\n",
    "#print(user.name)"
   ]
  },
  {
   "cell_type": "code",
   "execution_count": 69,
   "id": "690fa0a4-6a5f-4f6e-a822-04b0aa14ac98",
   "metadata": {},
   "outputs": [
    {
     "name": "stdout",
     "output_type": "stream",
     "text": [
      "100\n",
      "(1211273544937590784, 1)\n"
     ]
    },
    {
     "data": {
      "image/png": "[encoded data removed]",
      "text/plain": [
       "<Figure size 432x288 with 1 Axes>"
      ]
     },
     "metadata": {
      "needs_background": "light"
     },
     "output_type": "display_data"
    }
   ],
   "source": [
    "plt.hist(ids, bins = 200)\n",
    "def most_common(lst):\n",
    "    m_c = max(set(lst), key=lst.count)\n",
    "    return m_c, lst.count(m_c)\n",
    "\n",
    "print(len(list(set(ids))))\n",
    "print(most_common(ids))"
   ]
  },
  {
   "cell_type": "code",
   "execution_count": null,
   "id": "a1099efb-6c31-4d5d-975e-6f22bbd24e98",
   "metadata": {},
   "outputs": [],
   "source": [
    "def get_mentions"
   ]
  }
 ],
 "metadata": {
  "kernelspec": {
   "display_name": "Python 3 (ipykernel)",
   "language": "python",
   "name": "python3"
  },
  "language_info": {
   "codemirror_mode": {
    "name": "ipython",
    "version": 3
   },
   "file_extension": ".py",
   "mimetype": "text/x-python",
   "name": "python",
   "nbconvert_exporter": "python",
   "pygments_lexer": "ipython3",
   "version": "3.9.6"
  }
 },
 "nbformat": 4,
 "nbformat_minor": 5
}
