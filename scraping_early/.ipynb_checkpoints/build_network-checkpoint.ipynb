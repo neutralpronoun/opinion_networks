{
 "cells": [
  {
   "cell_type": "code",
   "execution_count": 1,
   "id": "9b8f82d7-1f57-4436-b392-d3ec3535da3a",
   "metadata": {},
   "outputs": [],
   "source": [
    "import os\n",
    "import numpy as np\n",
    "import pandas as pd\n",
    "import matplotlib.pyplot as plt\n",
    "from bs4 import BeautifulSoup\n",
    "import cython\n",
    "import tweepy\n",
    "import json\n",
    "import requests\n",
    "import inspect\n",
    "import re\n",
    "from tqdm import tqdm\n",
    "from time import time, sleep"
   ]
  },
  {
   "cell_type": "code",
   "execution_count": 2,
   "id": "193c8a25-faeb-4fb9-8ecf-b1c0dc401cfb",
   "metadata": {},
   "outputs": [],
   "source": [
    "# data = pd.read_csv(\"politicians.csv\")\n",
    "# print(data)\n",
    "\n",
    "# usernames = data[\"Username\"].tolist()\n",
    "# ids = data[\"ids\"].tolist()\n",
    "\n"
   ]
  },
  {
   "cell_type": "code",
   "execution_count": 3,
   "id": "86a1df5d-3d95-4e83-ae9d-9f2f9fe7b46b",
   "metadata": {},
   "outputs": [],
   "source": [
    "with open(\"dev_keys_json.json\", \"r\") as f:\n",
    "    keys = json.load(f)\n",
    "client = tweepy.Client(bearer_token=keys[\"Bearer_token\"],\n",
    "                       access_token = keys[\"API_key\"],\n",
    "                       access_token_secret = keys[\"API_secret_key\"],\n",
    "                       wait_on_rate_limit=True)\n",
    "\n",
    "\n",
    "# empty_list_list = []\n",
    "# for i in range(len(ids)):\n",
    "#     empty_list_list.append({\"ids\":[], \"usernames\":[]})\n",
    "\n",
    "# data[\"Following\"] = empty_list_list"
   ]
  },
  {
   "cell_type": "code",
   "execution_count": null,
   "id": "b6a0ad6e-a7af-4159-8095-6b9c57938fee",
   "metadata": {},
   "outputs": [],
   "source": [
    "\n"
   ]
  },
  {
   "cell_type": "code",
   "execution_count": 4,
   "id": "c594fb1c-cc2f-442d-8d1e-f2ca9b0b3eac",
   "metadata": {},
   "outputs": [
    {
     "name": "stdout",
     "output_type": "stream",
     "text": [
      "          Party                      Name  Branch        Username  \\\n",
      "0    Republican             Pete Sessions   House    PeteSessions   \n",
      "1    Democratic            Debbie Dingell   House   RepDebDingell   \n",
      "2    Democratic           Pramila Jayapal   House      RepJayapal   \n",
      "3    Republican               Rob Wittman   House      RobWittman   \n",
      "4    Democratic           Chellie Pingree   House  chelliepingree   \n",
      "..          ...                       ...     ...             ...   \n",
      "521  Republican               Thom Tillis  Senate   SenThomTillis   \n",
      "522  Republican         Diana Harshbarger   House  RepHarshbarger   \n",
      "523  Republican          Tommy Tuberville  Senate   SenTuberville   \n",
      "524  Democratic  Debbie Wasserman Schultz   House    RepDWStweets   \n",
      "525  Republican              Lisa McClain   House  RepLisaMcClain   \n",
      "\n",
      "                     ids                                          Following  \n",
      "0               24735461  {'ids': [1396151678, 815966620300480514, 12912...  \n",
      "1             2970279814  {'ids': [353272992, 300463737, 393541673, 9873...  \n",
      "2     815733290955112448  {'ids': [35281549, 25535595, 19847765, 1002630...  \n",
      "3               15356407  {'ids': [834069080, 2964877294, 3686482216, 29...  \n",
      "4               14984637  {'ids': [38026753, 873135988440223745, 1462548...  \n",
      "..                   ...                                                ...  \n",
      "521           2964174789                       {'ids': [], 'usernames': []}  \n",
      "522  1345787285179162624                       {'ids': [], 'usernames': []}  \n",
      "523  1345739193721487362                       {'ids': [], 'usernames': []}  \n",
      "524           1140648348                       {'ids': [], 'usernames': []}  \n",
      "525  1344032292432437248                       {'ids': [], 'usernames': []}  \n",
      "\n",
      "[526 rows x 6 columns]\n",
      "          Party                      Name  Branch        Username  \\\n",
      "0    Republican             Pete Sessions   House    PeteSessions   \n",
      "1    Democratic            Debbie Dingell   House   RepDebDingell   \n",
      "2    Democratic           Pramila Jayapal   House      RepJayapal   \n",
      "3    Republican               Rob Wittman   House      RobWittman   \n",
      "4    Democratic           Chellie Pingree   House  chelliepingree   \n",
      "..          ...                       ...     ...             ...   \n",
      "521  Republican               Thom Tillis  Senate   SenThomTillis   \n",
      "522  Republican         Diana Harshbarger   House  RepHarshbarger   \n",
      "523  Republican          Tommy Tuberville  Senate   SenTuberville   \n",
      "524  Democratic  Debbie Wasserman Schultz   House    RepDWStweets   \n",
      "525  Republican              Lisa McClain   House  RepLisaMcClain   \n",
      "\n",
      "                     ids                                          Following  \n",
      "0               24735461  {'ids': [1396151678, 815966620300480514, 12912...  \n",
      "1             2970279814  {'ids': [353272992, 300463737, 393541673, 9873...  \n",
      "2     815733290955112448  {'ids': [35281549, 25535595, 19847765, 1002630...  \n",
      "3               15356407  {'ids': [834069080, 2964877294, 3686482216, 29...  \n",
      "4               14984637  {'ids': [38026753, 873135988440223745, 1462548...  \n",
      "..                   ...                                                ...  \n",
      "521           2964174789                       {'ids': [], 'usernames': []}  \n",
      "522  1345787285179162624                       {'ids': [], 'usernames': []}  \n",
      "523  1345739193721487362                       {'ids': [], 'usernames': []}  \n",
      "524           1140648348                       {'ids': [], 'usernames': []}  \n",
      "525  1344032292432437248                       {'ids': [], 'usernames': []}  \n",
      "\n",
      "[526 rows x 6 columns]\n"
     ]
    }
   ],
   "source": [
    "from ast import literal_eval\n",
    "\n",
    "data = pd.read_csv(\"politicians_connections_two.csv\")\n",
    "print(data)\n",
    "data[\"Following\"] = data[\"Following\"].apply(literal_eval)\n",
    "\n",
    "print(data)\n",
    "\n",
    "usernames = data[\"Username\"].tolist()\n",
    "ids = data[\"ids\"].tolist()"
   ]
  },
  {
   "cell_type": "code",
   "execution_count": 5,
   "id": "7a45778e-f6dd-4888-8a1f-44293d040f29",
   "metadata": {},
   "outputs": [
    {
     "name": "stderr",
     "output_type": "stream",
     "text": [
      "RepBrianHiggins:   0%|                                        | 0/526 [00:00<?, ?it/s]"
     ]
    },
    {
     "name": "stdout",
     "output_type": "stream",
     "text": [
      "1019\n",
      "0\n",
      "2657\n",
      "1\n",
      "2737\n",
      "2\n",
      "6586\n",
      "3\n",
      "1279\n",
      "4\n",
      "994\n",
      "5\n",
      "2\n",
      "6\n",
      "576\n",
      "7\n",
      "249\n",
      "8\n",
      "5248\n",
      "9\n",
      "2984\n",
      "10\n",
      "443\n",
      "11\n",
      "256\n",
      "12\n",
      "604\n",
      "13\n",
      "992\n",
      "14\n",
      "1137\n",
      "15\n",
      "345\n",
      "16\n",
      "346\n",
      "17\n",
      "7434\n",
      "18\n",
      "488\n",
      "19\n",
      "102\n",
      "20\n",
      "3889\n",
      "21\n",
      "515\n",
      "22\n",
      "666\n",
      "23\n",
      "2378\n",
      "24\n",
      "338\n",
      "25\n",
      "2841\n",
      "26\n",
      "4608\n",
      "27\n",
      "577\n",
      "28\n",
      "491\n",
      "29\n",
      "534\n",
      "30\n",
      "5317\n",
      "31\n",
      "3634\n",
      "32\n",
      "707\n",
      "33\n",
      "1611\n",
      "34\n",
      "3019\n",
      "35\n",
      "584\n",
      "36\n",
      "1427\n",
      "37\n",
      "288\n",
      "38\n",
      "247\n",
      "39\n",
      "1823\n",
      "40\n",
      "1\n",
      "41\n",
      "979\n",
      "42\n",
      "998\n",
      "43\n",
      "1173\n",
      "44\n",
      "782\n",
      "45\n",
      "582\n",
      "46\n",
      "322\n",
      "47\n",
      "2404\n",
      "48\n",
      "1443\n",
      "49\n",
      "56\n",
      "50\n",
      "1958\n",
      "51\n",
      "795\n",
      "52\n",
      "9435\n",
      "53\n",
      "2264\n",
      "54\n",
      "679\n",
      "55\n",
      "133\n",
      "56\n",
      "1324\n",
      "57\n",
      "1119\n",
      "58\n",
      "160\n",
      "59\n",
      "402\n",
      "60\n",
      "2060\n",
      "61\n",
      "1985\n",
      "62\n",
      "3776\n",
      "63\n",
      "757\n",
      "64\n",
      "5030\n",
      "65\n",
      "3500\n",
      "66\n",
      "494\n",
      "67\n",
      "2169\n",
      "68\n",
      "1606\n",
      "69\n",
      "3063\n",
      "70\n",
      "2851\n",
      "71\n",
      "855\n",
      "72\n",
      "3841\n",
      "73\n",
      "151\n",
      "74\n",
      "2317\n",
      "75\n",
      "843\n",
      "76\n",
      "201\n",
      "77\n",
      "1402\n",
      "78\n",
      "498\n",
      "79\n",
      "6919\n",
      "80\n",
      "632\n",
      "81\n",
      "1306\n",
      "82\n",
      "511\n",
      "83\n",
      "564\n",
      "84\n",
      "651\n",
      "85\n",
      "12528\n",
      "86\n",
      "1191\n",
      "87\n",
      "2806\n",
      "88\n",
      "1043\n",
      "89\n",
      "357\n",
      "90\n",
      "2667\n",
      "91\n",
      "1859\n",
      "92\n",
      "6184\n",
      "93\n",
      "712\n",
      "94\n",
      "1170\n",
      "95\n",
      "1999\n",
      "96\n",
      "1215\n",
      "97\n",
      "1313\n",
      "98\n",
      "688\n",
      "99\n",
      "1934\n",
      "100\n",
      "0\n"
     ]
    },
    {
     "name": "stderr",
     "output_type": "stream",
     "text": [
      "Rate limit exceeded. Sleeping for 429 seconds.\n",
      "SenSasse:  19%|███████▏                             | 102/526 [07:12<29:58,  4.24s/it]"
     ]
    },
    {
     "name": "stdout",
     "output_type": "stream",
     "text": [
      "1348\n",
      "102\n",
      "0\n"
     ]
    },
    {
     "name": "stderr",
     "output_type": "stream",
     "text": [
      "SenAngusKing:  20%|██████▌                          | 104/526 [07:13<29:03,  4.13s/it]"
     ]
    },
    {
     "name": "stdout",
     "output_type": "stream",
     "text": [
      "285\n",
      "104\n",
      "0\n"
     ]
    },
    {
     "name": "stderr",
     "output_type": "stream",
     "text": [
      "SenTomCotton:  20%|██████▋                          | 106/526 [07:13<27:54,  3.99s/it]"
     ]
    },
    {
     "name": "stdout",
     "output_type": "stream",
     "text": [
      "2004\n",
      "106\n",
      "0\n"
     ]
    },
    {
     "name": "stderr",
     "output_type": "stream",
     "text": [
      "RepKenBuck:  21%|███████▏                           | 108/526 [07:14<26:27,  3.80s/it]"
     ]
    },
    {
     "name": "stdout",
     "output_type": "stream",
     "text": [
      "2706\n",
      "108\n",
      "0\n"
     ]
    },
    {
     "name": "stderr",
     "output_type": "stream",
     "text": [
      "JoaquinCastrotx:  21%|██████▎                       | 110/526 [07:14<24:40,  3.56s/it]"
     ]
    },
    {
     "name": "stdout",
     "output_type": "stream",
     "text": [
      "695\n",
      "110\n",
      "0\n"
     ]
    },
    {
     "name": "stderr",
     "output_type": "stream",
     "text": [
      "SenatorWicker:  21%|██████▊                         | 112/526 [07:17<23:13,  3.36s/it]"
     ]
    },
    {
     "name": "stdout",
     "output_type": "stream",
     "text": [
      "5169\n",
      "112\n",
      "0\n"
     ]
    },
    {
     "name": "stderr",
     "output_type": "stream",
     "text": [
      "SenatorHassan:  22%|██████▉                         | 114/526 [07:17<20:45,  3.02s/it]"
     ]
    },
    {
     "name": "stdout",
     "output_type": "stream",
     "text": [
      "1655\n",
      "114\n",
      "0\n"
     ]
    },
    {
     "name": "stderr",
     "output_type": "stream",
     "text": [
      "SenHawleyPress:  22%|██████▊                        | 116/526 [07:18<18:05,  2.65s/it]"
     ]
    },
    {
     "name": "stdout",
     "output_type": "stream",
     "text": [
      "527\n",
      "116\n",
      "0\n"
     ]
    },
    {
     "name": "stderr",
     "output_type": "stream",
     "text": [
      "RepMarkPocan:  22%|███████▍                         | 118/526 [07:19<15:30,  2.28s/it]Rate limit exceeded. Sleeping for 891 seconds.\n"
     ]
    },
    {
     "name": "stdout",
     "output_type": "stream",
     "text": [
      "514\n",
      "118\n",
      "0\n"
     ]
    },
    {
     "name": "stderr",
     "output_type": "stream",
     "text": [
      "JimClyburnSC1:  23%|██████▊                       | 120/526 [22:15<9:49:13, 87.08s/it]"
     ]
    },
    {
     "name": "stdout",
     "output_type": "stream",
     "text": [
      "398\n",
      "120\n",
      "0\n"
     ]
    },
    {
     "name": "stderr",
     "output_type": "stream",
     "text": [
      "Repbradwenstrup:  23%|██████▍                     | 122/526 [22:15<7:41:20, 68.52s/it]"
     ]
    },
    {
     "name": "stdout",
     "output_type": "stream",
     "text": [
      "317\n",
      "122\n",
      "0\n"
     ]
    },
    {
     "name": "stderr",
     "output_type": "stream",
     "text": [
      "RepFredUpton:  24%|███████▎                       | 124/526 [22:17<5:52:38, 52.63s/it]"
     ]
    },
    {
     "name": "stdout",
     "output_type": "stream",
     "text": [
      "0\n"
     ]
    },
    {
     "name": "stderr",
     "output_type": "stream",
     "text": [
      "RepEBJ:  24%|████████▊                            | 125/526 [22:18<5:03:07, 45.36s/it]"
     ]
    },
    {
     "name": "stdout",
     "output_type": "stream",
     "text": [
      "0\n"
     ]
    },
    {
     "name": "stderr",
     "output_type": "stream",
     "text": [
      "SenSchumer:  24%|███████▉                         | 126/526 [22:20<4:12:32, 37.88s/it]Rate limit exceeded. Sleeping for 892 seconds.\n"
     ]
    },
    {
     "name": "stdout",
     "output_type": "stream",
     "text": [
      "0\n"
     ]
    },
    {
     "name": "stderr",
     "output_type": "stream",
     "text": [
      "SenSchumer:  24%|███████▉                         | 126/526 [34:06<1:48:18, 16.25s/it]\n"
     ]
    },
    {
     "ename": "NameError",
     "evalue": "name 'TweepError' is not defined",
     "output_type": "error",
     "traceback": [
      "\u001b[0;31m---------------------------------------------------------------------------\u001b[0m",
      "\u001b[0;31mKeyboardInterrupt\u001b[0m                         Traceback (most recent call last)",
      "Input \u001b[0;32mIn [5]\u001b[0m, in \u001b[0;36m<module>\u001b[0;34m\u001b[0m\n\u001b[1;32m     28\u001b[0m \u001b[38;5;28;01mtry\u001b[39;00m:\n\u001b[0;32m---> 29\u001b[0m     followings \u001b[38;5;241m=\u001b[39m \u001b[43mget_followings\u001b[49m\u001b[43m(\u001b[49m\u001b[43mclient\u001b[49m\u001b[43m,\u001b[49m\u001b[43m \u001b[49m\u001b[38;5;28;43mid\u001b[39;49m\u001b[43m)\u001b[49m\n\u001b[1;32m     30\u001b[0m \u001b[38;5;28;01mexcept\u001b[39;00m TweepError \u001b[38;5;28;01mas\u001b[39;00m tweeperror:\n",
      "Input \u001b[0;32mIn [5]\u001b[0m, in \u001b[0;36mget_followings\u001b[0;34m(client, id)\u001b[0m\n\u001b[1;32m      2\u001b[0m followings \u001b[38;5;241m=\u001b[39m []\n\u001b[0;32m----> 4\u001b[0m \u001b[38;5;28;01mfor\u001b[39;00m follow \u001b[38;5;129;01min\u001b[39;00m tweepy\u001b[38;5;241m.\u001b[39mPaginator(client\u001b[38;5;241m.\u001b[39mget_users_following, \u001b[38;5;28mid\u001b[39m \u001b[38;5;241m=\u001b[39m \u001b[38;5;28mid\u001b[39m,\n\u001b[1;32m      5\u001b[0m                               max_results\u001b[38;5;241m=\u001b[39m\u001b[38;5;241m1000\u001b[39m)\u001b[38;5;241m.\u001b[39mflatten(limit \u001b[38;5;241m=\u001b[39m \u001b[38;5;241m99999\u001b[39m):\n\u001b[1;32m      6\u001b[0m     followings\u001b[38;5;241m.\u001b[39mappend(follow)\n",
      "File \u001b[0;32m~/miniforge3/envs/networks/lib/python3.9/site-packages/tweepy/pagination.py:48\u001b[0m, in \u001b[0;36mPaginator.flatten\u001b[0;34m(self, limit)\u001b[0m\n\u001b[1;32m     47\u001b[0m count \u001b[38;5;241m=\u001b[39m \u001b[38;5;241m0\u001b[39m\n\u001b[0;32m---> 48\u001b[0m \u001b[38;5;28;01mfor\u001b[39;00m response \u001b[38;5;129;01min\u001b[39;00m PaginationIterator(\u001b[38;5;28mself\u001b[39m\u001b[38;5;241m.\u001b[39mmethod, \u001b[38;5;241m*\u001b[39m\u001b[38;5;28mself\u001b[39m\u001b[38;5;241m.\u001b[39margs,\n\u001b[1;32m     49\u001b[0m                                    \u001b[38;5;241m*\u001b[39m\u001b[38;5;241m*\u001b[39m\u001b[38;5;28mself\u001b[39m\u001b[38;5;241m.\u001b[39mkwargs):\n\u001b[1;32m     50\u001b[0m     \u001b[38;5;28;01mif\u001b[39;00m response\u001b[38;5;241m.\u001b[39mdata \u001b[38;5;129;01mis\u001b[39;00m \u001b[38;5;129;01mnot\u001b[39;00m \u001b[38;5;28;01mNone\u001b[39;00m:\n",
      "File \u001b[0;32m~/miniforge3/envs/networks/lib/python3.9/site-packages/tweepy/pagination.py:98\u001b[0m, in \u001b[0;36mPaginationIterator.__next__\u001b[0;34m(self)\u001b[0m\n\u001b[1;32m     96\u001b[0m     \u001b[38;5;28mself\u001b[39m\u001b[38;5;241m.\u001b[39mkwargs[\u001b[38;5;124m\"\u001b[39m\u001b[38;5;124mpagination_token\u001b[39m\u001b[38;5;124m\"\u001b[39m] \u001b[38;5;241m=\u001b[39m pagination_token\n\u001b[0;32m---> 98\u001b[0m response \u001b[38;5;241m=\u001b[39m \u001b[38;5;28;43mself\u001b[39;49m\u001b[38;5;241;43m.\u001b[39;49m\u001b[43mmethod\u001b[49m\u001b[43m(\u001b[49m\u001b[38;5;241;43m*\u001b[39;49m\u001b[38;5;28;43mself\u001b[39;49m\u001b[38;5;241;43m.\u001b[39;49m\u001b[43margs\u001b[49m\u001b[43m,\u001b[49m\u001b[43m \u001b[49m\u001b[38;5;241;43m*\u001b[39;49m\u001b[38;5;241;43m*\u001b[39;49m\u001b[38;5;28;43mself\u001b[39;49m\u001b[38;5;241;43m.\u001b[39;49m\u001b[43mkwargs\u001b[49m\u001b[43m)\u001b[49m\n\u001b[1;32m    100\u001b[0m \u001b[38;5;28mself\u001b[39m\u001b[38;5;241m.\u001b[39mprevious_token \u001b[38;5;241m=\u001b[39m response\u001b[38;5;241m.\u001b[39mmeta\u001b[38;5;241m.\u001b[39mget(\u001b[38;5;124m\"\u001b[39m\u001b[38;5;124mprevious_token\u001b[39m\u001b[38;5;124m\"\u001b[39m)\n",
      "File \u001b[0;32m~/miniforge3/envs/networks/lib/python3.9/site-packages/tweepy/client.py:1538\u001b[0m, in \u001b[0;36mClient.get_users_following\u001b[0;34m(self, id, user_auth, **params)\u001b[0m\n\u001b[1;32m   1500\u001b[0m \u001b[38;5;124;03m\"\"\"get_users_following( \\\u001b[39;00m\n\u001b[1;32m   1501\u001b[0m \u001b[38;5;124;03m    id, *, expansions, max_results, pagination_token, tweet_fields, \\\u001b[39;00m\n\u001b[1;32m   1502\u001b[0m \u001b[38;5;124;03m    user_fields, user_auth=False \\\u001b[39;00m\n\u001b[0;32m   (...)\u001b[0m\n\u001b[1;32m   1536\u001b[0m \u001b[38;5;124;03mhttps://developer.twitter.com/en/docs/twitter-api/users/follows/api-reference/get-users-id-following\u001b[39;00m\n\u001b[1;32m   1537\u001b[0m \u001b[38;5;124;03m\"\"\"\u001b[39;00m\n\u001b[0;32m-> 1538\u001b[0m \u001b[38;5;28;01mreturn\u001b[39;00m \u001b[38;5;28;43mself\u001b[39;49m\u001b[38;5;241;43m.\u001b[39;49m\u001b[43m_make_request\u001b[49m\u001b[43m(\u001b[49m\n\u001b[1;32m   1539\u001b[0m \u001b[43m    \u001b[49m\u001b[38;5;124;43m\"\u001b[39;49m\u001b[38;5;124;43mGET\u001b[39;49m\u001b[38;5;124;43m\"\u001b[39;49m\u001b[43m,\u001b[49m\u001b[43m \u001b[49m\u001b[38;5;124;43mf\u001b[39;49m\u001b[38;5;124;43m\"\u001b[39;49m\u001b[38;5;124;43m/2/users/\u001b[39;49m\u001b[38;5;132;43;01m{\u001b[39;49;00m\u001b[38;5;28;43mid\u001b[39;49m\u001b[38;5;132;43;01m}\u001b[39;49;00m\u001b[38;5;124;43m/following\u001b[39;49m\u001b[38;5;124;43m\"\u001b[39;49m\u001b[43m,\u001b[49m\u001b[43m \u001b[49m\u001b[43mparams\u001b[49m\u001b[38;5;241;43m=\u001b[39;49m\u001b[43mparams\u001b[49m\u001b[43m,\u001b[49m\n\u001b[1;32m   1540\u001b[0m \u001b[43m    \u001b[49m\u001b[43mendpoint_parameters\u001b[49m\u001b[38;5;241;43m=\u001b[39;49m\u001b[43m(\u001b[49m\n\u001b[1;32m   1541\u001b[0m \u001b[43m        \u001b[49m\u001b[38;5;124;43m\"\u001b[39;49m\u001b[38;5;124;43mexpansions\u001b[39;49m\u001b[38;5;124;43m\"\u001b[39;49m\u001b[43m,\u001b[49m\u001b[43m \u001b[49m\u001b[38;5;124;43m\"\u001b[39;49m\u001b[38;5;124;43mmax_results\u001b[39;49m\u001b[38;5;124;43m\"\u001b[39;49m\u001b[43m,\u001b[49m\u001b[43m \u001b[49m\u001b[38;5;124;43m\"\u001b[39;49m\u001b[38;5;124;43mpagination_token\u001b[39;49m\u001b[38;5;124;43m\"\u001b[39;49m\u001b[43m,\u001b[49m\n\u001b[1;32m   1542\u001b[0m \u001b[43m        \u001b[49m\u001b[38;5;124;43m\"\u001b[39;49m\u001b[38;5;124;43mtweet.fields\u001b[39;49m\u001b[38;5;124;43m\"\u001b[39;49m\u001b[43m,\u001b[49m\u001b[43m \u001b[49m\u001b[38;5;124;43m\"\u001b[39;49m\u001b[38;5;124;43muser.fields\u001b[39;49m\u001b[38;5;124;43m\"\u001b[39;49m\n\u001b[1;32m   1543\u001b[0m \u001b[43m    \u001b[49m\u001b[43m)\u001b[49m\u001b[43m,\u001b[49m\u001b[43m \u001b[49m\u001b[43mdata_type\u001b[49m\u001b[38;5;241;43m=\u001b[39;49m\u001b[43mUser\u001b[49m\u001b[43m,\u001b[49m\u001b[43m \u001b[49m\u001b[43muser_auth\u001b[49m\u001b[38;5;241;43m=\u001b[39;49m\u001b[43muser_auth\u001b[49m\n\u001b[1;32m   1544\u001b[0m \u001b[43m\u001b[49m\u001b[43m)\u001b[49m\n",
      "File \u001b[0;32m~/miniforge3/envs/networks/lib/python3.9/site-packages/tweepy/client.py:168\u001b[0m, in \u001b[0;36mClient._make_request\u001b[0;34m(self, method, route, params, endpoint_parameters, json, data_type, user_auth)\u001b[0m\n\u001b[1;32m    166\u001b[0m         log\u001b[38;5;241m.\u001b[39mwarn(\u001b[38;5;124mf\u001b[39m\u001b[38;5;124m\"\u001b[39m\u001b[38;5;124mUnexpected parameter: \u001b[39m\u001b[38;5;132;01m{\u001b[39;00mparam_name\u001b[38;5;132;01m}\u001b[39;00m\u001b[38;5;124m\"\u001b[39m)\n\u001b[0;32m--> 168\u001b[0m response \u001b[38;5;241m=\u001b[39m \u001b[38;5;28;43mself\u001b[39;49m\u001b[38;5;241;43m.\u001b[39;49m\u001b[43mrequest\u001b[49m\u001b[43m(\u001b[49m\u001b[43mmethod\u001b[49m\u001b[43m,\u001b[49m\u001b[43m \u001b[49m\u001b[43mroute\u001b[49m\u001b[43m,\u001b[49m\u001b[43m \u001b[49m\u001b[43mparams\u001b[49m\u001b[38;5;241;43m=\u001b[39;49m\u001b[43mrequest_params\u001b[49m\u001b[43m,\u001b[49m\n\u001b[1;32m    169\u001b[0m \u001b[43m                        \u001b[49m\u001b[43mjson\u001b[49m\u001b[38;5;241;43m=\u001b[39;49m\u001b[43mjson\u001b[49m\u001b[43m,\u001b[49m\u001b[43m \u001b[49m\u001b[43muser_auth\u001b[49m\u001b[38;5;241;43m=\u001b[39;49m\u001b[43muser_auth\u001b[49m\u001b[43m)\u001b[49m\n\u001b[1;32m    171\u001b[0m \u001b[38;5;28;01mif\u001b[39;00m \u001b[38;5;28mself\u001b[39m\u001b[38;5;241m.\u001b[39mreturn_type \u001b[38;5;129;01mis\u001b[39;00m requests\u001b[38;5;241m.\u001b[39mResponse:\n",
      "File \u001b[0;32m~/miniforge3/envs/networks/lib/python3.9/site-packages/tweepy/client.py:135\u001b[0m, in \u001b[0;36mClient.request\u001b[0;34m(self, method, route, params, json, user_auth)\u001b[0m\n\u001b[1;32m    131\u001b[0m     log\u001b[38;5;241m.\u001b[39mwarning(\n\u001b[1;32m    132\u001b[0m         \u001b[38;5;124m\"\u001b[39m\u001b[38;5;124mRate limit exceeded. \u001b[39m\u001b[38;5;124m\"\u001b[39m\n\u001b[1;32m    133\u001b[0m         \u001b[38;5;124mf\u001b[39m\u001b[38;5;124m\"\u001b[39m\u001b[38;5;124mSleeping for \u001b[39m\u001b[38;5;132;01m{\u001b[39;00msleep_time\u001b[38;5;132;01m}\u001b[39;00m\u001b[38;5;124m seconds.\u001b[39m\u001b[38;5;124m\"\u001b[39m\n\u001b[1;32m    134\u001b[0m     )\n\u001b[0;32m--> 135\u001b[0m     \u001b[43mtime\u001b[49m\u001b[38;5;241;43m.\u001b[39;49m\u001b[43msleep\u001b[49m\u001b[43m(\u001b[49m\u001b[43msleep_time\u001b[49m\u001b[43m)\u001b[49m\n\u001b[1;32m    136\u001b[0m \u001b[38;5;28;01mreturn\u001b[39;00m \u001b[38;5;28mself\u001b[39m\u001b[38;5;241m.\u001b[39mrequest(method, route, params, json, user_auth)\n",
      "\u001b[0;31mKeyboardInterrupt\u001b[0m: ",
      "\nDuring handling of the above exception, another exception occurred:\n",
      "\u001b[0;31mNameError\u001b[0m                                 Traceback (most recent call last)",
      "Input \u001b[0;32mIn [5]\u001b[0m, in \u001b[0;36m<module>\u001b[0;34m\u001b[0m\n\u001b[1;32m     28\u001b[0m \u001b[38;5;28;01mtry\u001b[39;00m:\n\u001b[1;32m     29\u001b[0m     followings \u001b[38;5;241m=\u001b[39m get_followings(client, \u001b[38;5;28mid\u001b[39m)\n\u001b[0;32m---> 30\u001b[0m \u001b[38;5;28;01mexcept\u001b[39;00m \u001b[43mTweepError\u001b[49m \u001b[38;5;28;01mas\u001b[39;00m tweeperror:\n\u001b[1;32m     31\u001b[0m     \u001b[38;5;28mprint\u001b[39m(\u001b[38;5;124mf\u001b[39m\u001b[38;5;124m'\u001b[39m\u001b[38;5;124mTweep error: \u001b[39m\u001b[38;5;132;01m{\u001b[39;00mtweeperror\u001b[38;5;132;01m}\u001b[39;00m\u001b[38;5;124m, sleeping for 60s\u001b[39m\u001b[38;5;124m'\u001b[39m)\n\u001b[1;32m     32\u001b[0m     sleep(\u001b[38;5;241m60\u001b[39m)\n",
      "\u001b[0;31mNameError\u001b[0m: name 'TweepError' is not defined"
     ]
    }
   ],
   "source": [
    "def get_followings(client, id):\n",
    "    followings = []\n",
    "\n",
    "    for follow in tweepy.Paginator(client.get_users_following, id = id,\n",
    "                                  max_results=1000).flatten(limit = 99999):\n",
    "        followings.append(follow)\n",
    "    \n",
    "    return followings\n",
    "\n",
    "\n",
    "pbar = tqdm(ids)\n",
    "\n",
    "\n",
    "#i = 0\n",
    "for i, id in enumerate(pbar):\n",
    "    pbar.set_description(f\"{usernames[i]}\")\n",
    "    \n",
    "    #dict_form = ast.literal_eval(data.iloc[i, 5])\n",
    "    #print(repr(dict_form))\n",
    "    #data.iloc[i, 5] = dict_form\n",
    "    \n",
    "    #print(len(data[\"Following\"].tolist()[i][\"ids\"]))\n",
    "    if data[\"Following\"].tolist()[i][\"ids\"] != []:\n",
    "        #print(i)\n",
    "        #i += 1\n",
    "        continue\n",
    "    \n",
    "    try:\n",
    "        followings = get_followings(client, id)\n",
    "    except TweepError as tweeperror:\n",
    "        pbar.set_description(f'Tweep error: {tweeperror}, sleeping for 60s')\n",
    "        sleep(60)\n",
    "        followings = get_followings(client, id)\n",
    "    except HTTPException as tweeperror:\n",
    "        pbar.set_description(f'Tweep error: {tweeperror}, sleeping for 60s')\n",
    "        sleep(60)\n",
    "        followings = get_followings(client, id)\n",
    "        \n",
    "\n",
    "    # for follow in tweepy.Paginator(client.get_users_following, id = id,\n",
    "    #                               max_results=1000).flatten(limit = 99999):\n",
    "    #     followings.append(follow)\n",
    "    \n",
    "    these_follow_ids = []\n",
    "    these_follow_names = []\n",
    "    \n",
    "    for f in followings:\n",
    "        #print(f)\n",
    "        f_id = f[\"id\"]\n",
    "        f_username = f[\"username\"]\n",
    "        \n",
    "        these_follow_ids.append(f_id)\n",
    "        these_follow_names.append(f_username)\n",
    "    #print(these_follow_ids)\n",
    "    #print(these_follow_names)\n",
    "    \n",
    "    data.iloc[i, 5][\"ids\"] = these_follow_ids\n",
    "    data.iloc[i, 5][\"usernames\"] = these_follow_names\n",
    "    \n",
    "    data.to_csv(\"politicians_connections_two.csv\", index = False)\n",
    "    \n",
    "    i += 1"
   ]
  },
  {
   "cell_type": "code",
   "execution_count": null,
   "id": "8b3043dd-4d84-4bdd-85f8-bdc6dc628865",
   "metadata": {},
   "outputs": [],
   "source": [
    "data[\"Following_ids\"] = following_ids\n",
    "data[\"Following_usernames\"] = following_usernames\n",
    "# id_one = data[\"ids\"][0]\n",
    "# following = client.get_users_following(id = id_one)\n",
    "# print(following[0])\n",
    "# print(repr(following[0][0][\"id\"]))"
   ]
  },
  {
   "cell_type": "code",
   "execution_count": null,
   "id": "e429a3dd-9bbf-40ea-bb2f-c0e6a8ebeebb",
   "metadata": {},
   "outputs": [],
   "source": []
  }
 ],
 "metadata": {
  "kernelspec": {
   "display_name": "Python 3 (ipykernel)",
   "language": "python",
   "name": "python3"
  },
  "language_info": {
   "codemirror_mode": {
    "name": "ipython",
    "version": 3
   },
   "file_extension": ".py",
   "mimetype": "text/x-python",
   "name": "python",
   "nbconvert_exporter": "python",
   "pygments_lexer": "ipython3",
   "version": "3.9.6"
  }
 },
 "nbformat": 4,
 "nbformat_minor": 5
}
