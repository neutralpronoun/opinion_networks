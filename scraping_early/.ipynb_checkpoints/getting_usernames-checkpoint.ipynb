{
 "cells": [
  {
   "cell_type": "code",
   "execution_count": 1,
   "id": "955531cd-cae4-41ac-913d-d8033e64e606",
   "metadata": {},
   "outputs": [],
   "source": [
    "import os\n",
    "import numpy as np\n",
    "import pandas as pd\n",
    "import matplotlib.pyplot as plt\n",
    "from bs4 import BeautifulSoup\n",
    "import cython\n",
    "import tweepy\n",
    "import json\n",
    "import requests\n",
    "import inspect\n",
    "import re"
   ]
  },
  {
   "cell_type": "code",
   "execution_count": 2,
   "id": "ca8bc59f-f4e4-45d3-90e3-7060d30224bc",
   "metadata": {},
   "outputs": [
    {
     "name": "stdout",
     "output_type": "stream",
     "text": [
      "{'API_key': 'e34sTfl23oytGMvlWUzK8fod2', 'API_secret_key': 'mNSjDDn94txcINviFg66I9RWCR1corWxQWBt70ePv3CWpNcsa4', 'Bearer_token': 'AAAAAAAAAAAAAAAAAAAAAPHiZgEAAAAATkGlyMoKFmk1lt6JIiZ77cdmSMc%3DbBchdrL7VAk9Pe0vHuJHdAFvUWC1vDg5M3o8ZyTaONVhwJsIiF'}\n"
     ]
    }
   ],
   "source": [
    "with open(\"dev_keys_json.json\", \"r\") as f:\n",
    "    keys = json.load(f)\n",
    "print(keys)"
   ]
  },
  {
   "cell_type": "code",
   "execution_count": 3,
   "id": "ac51d257-63a4-4e11-9df8-21424984d1d2",
   "metadata": {},
   "outputs": [
    {
     "name": "stdout",
     "output_type": "stream",
     "text": [
      "<Response [200]>\n"
     ]
    }
   ],
   "source": [
    "representatives_url = \"https://en.wikipedia.org/wiki/List_of_current_members_of_the_United_States_House_of_Representatives\"\n",
    "table_class = \"wikitable sortable plainrowheaders jquery-tablesorter\"\n",
    "response = requests.get(representatives_url)\n",
    "print(response)"
   ]
  },
  {
   "cell_type": "code",
   "execution_count": 4,
   "id": "d252cddc-7c0a-4903-9917-e40e018e92db",
   "metadata": {},
   "outputs": [
    {
     "data": {
      "text/html": [
       "<div>\n",
       "<style scoped>\n",
       "    .dataframe tbody tr th:only-of-type {\n",
       "        vertical-align: middle;\n",
       "    }\n",
       "\n",
       "    .dataframe tbody tr th {\n",
       "        vertical-align: top;\n",
       "    }\n",
       "\n",
       "    .dataframe thead th {\n",
       "        text-align: right;\n",
       "    }\n",
       "</style>\n",
       "<table border=\"1\" class=\"dataframe\">\n",
       "  <thead>\n",
       "    <tr style=\"text-align: right;\">\n",
       "      <th></th>\n",
       "      <th>District</th>\n",
       "      <th>Member</th>\n",
       "      <th>Party</th>\n",
       "      <th>Party.1</th>\n",
       "      <th>Prior experience</th>\n",
       "      <th>Education</th>\n",
       "      <th>Assumed office</th>\n",
       "      <th>Residence</th>\n",
       "      <th>Born[2]</th>\n",
       "    </tr>\n",
       "  </thead>\n",
       "  <tbody>\n",
       "    <tr>\n",
       "      <th>0</th>\n",
       "      <td>Alabama 1</td>\n",
       "      <td>Jerry Carl</td>\n",
       "      <td>NaN</td>\n",
       "      <td>Republican</td>\n",
       "      <td>Mobile County Commission</td>\n",
       "      <td>Florida Gateway College</td>\n",
       "      <td>2021</td>\n",
       "      <td>Mobile</td>\n",
       "      <td>(age 63)</td>\n",
       "    </tr>\n",
       "    <tr>\n",
       "      <th>1</th>\n",
       "      <td>Alabama 2</td>\n",
       "      <td>Barry Moore</td>\n",
       "      <td>NaN</td>\n",
       "      <td>Republican</td>\n",
       "      <td>Alabama House of Representatives</td>\n",
       "      <td>Enterprise State Community College (AS)Auburn ...</td>\n",
       "      <td>2021</td>\n",
       "      <td>Enterprise</td>\n",
       "      <td>(age 55)</td>\n",
       "    </tr>\n",
       "    <tr>\n",
       "      <th>2</th>\n",
       "      <td>Alabama 3</td>\n",
       "      <td>Mike Rogers</td>\n",
       "      <td>NaN</td>\n",
       "      <td>Republican</td>\n",
       "      <td>Calhoun County CommissionerAlabama House of Re...</td>\n",
       "      <td>Jacksonville State University (BA, MPA)Birming...</td>\n",
       "      <td>2003</td>\n",
       "      <td>Anniston[3]</td>\n",
       "      <td>(age 63)</td>\n",
       "    </tr>\n",
       "    <tr>\n",
       "      <th>3</th>\n",
       "      <td>Alabama 4</td>\n",
       "      <td>Robert Aderholt</td>\n",
       "      <td>NaN</td>\n",
       "      <td>Republican</td>\n",
       "      <td>Haleyville Municipal Judge</td>\n",
       "      <td>University of North AlabamaBirmingham–Southern...</td>\n",
       "      <td>1997</td>\n",
       "      <td>Haleyville</td>\n",
       "      <td>(age 56)</td>\n",
       "    </tr>\n",
       "    <tr>\n",
       "      <th>4</th>\n",
       "      <td>Alabama 5</td>\n",
       "      <td>Mo Brooks</td>\n",
       "      <td>NaN</td>\n",
       "      <td>Republican</td>\n",
       "      <td>Alabama House of RepresentativesMadison County...</td>\n",
       "      <td>Duke University (BA)University of Alabama (JD)</td>\n",
       "      <td>2011</td>\n",
       "      <td>Huntsville</td>\n",
       "      <td>(age 67)</td>\n",
       "    </tr>\n",
       "    <tr>\n",
       "      <th>...</th>\n",
       "      <td>...</td>\n",
       "      <td>...</td>\n",
       "      <td>...</td>\n",
       "      <td>...</td>\n",
       "      <td>...</td>\n",
       "      <td>...</td>\n",
       "      <td>...</td>\n",
       "      <td>...</td>\n",
       "      <td>...</td>\n",
       "    </tr>\n",
       "    <tr>\n",
       "      <th>430</th>\n",
       "      <td>Wisconsin 5</td>\n",
       "      <td>Scott Fitzgerald</td>\n",
       "      <td>NaN</td>\n",
       "      <td>Republican</td>\n",
       "      <td>Wisconsin State Senate</td>\n",
       "      <td>University of Wisconsin–Oshkosh (BS)</td>\n",
       "      <td>2021</td>\n",
       "      <td>Clyman[95]</td>\n",
       "      <td>(age 58)</td>\n",
       "    </tr>\n",
       "    <tr>\n",
       "      <th>431</th>\n",
       "      <td>Wisconsin 6</td>\n",
       "      <td>Glenn Grothman</td>\n",
       "      <td>NaN</td>\n",
       "      <td>Republican</td>\n",
       "      <td>Wisconsin SenateWisconsin State Assembly</td>\n",
       "      <td>University of Wisconsin–Madison (BA, JD)</td>\n",
       "      <td>2015</td>\n",
       "      <td>Glenbeulah[96]</td>\n",
       "      <td>(age 66)</td>\n",
       "    </tr>\n",
       "    <tr>\n",
       "      <th>432</th>\n",
       "      <td>Wisconsin 7</td>\n",
       "      <td>Tom Tiffany</td>\n",
       "      <td>NaN</td>\n",
       "      <td>Republican</td>\n",
       "      <td>Wisconsin SenateWisconsin State Assembly</td>\n",
       "      <td>University of Wisconsin–River Falls (BS)</td>\n",
       "      <td>2020 (special)</td>\n",
       "      <td>Minocqua</td>\n",
       "      <td>(age 64)</td>\n",
       "    </tr>\n",
       "    <tr>\n",
       "      <th>433</th>\n",
       "      <td>Wisconsin 8</td>\n",
       "      <td>Mike Gallagher</td>\n",
       "      <td>NaN</td>\n",
       "      <td>Republican</td>\n",
       "      <td>Political advisorU.S. Marine Corps</td>\n",
       "      <td>Princeton University (BA)National Intelligence...</td>\n",
       "      <td>2017</td>\n",
       "      <td>Green Bay</td>\n",
       "      <td>(age 37)</td>\n",
       "    </tr>\n",
       "    <tr>\n",
       "      <th>434</th>\n",
       "      <td>Wyoming at-large</td>\n",
       "      <td>Liz Cheney</td>\n",
       "      <td>NaN</td>\n",
       "      <td>Republican</td>\n",
       "      <td>Principal Deputy Assistant Secretary of State ...</td>\n",
       "      <td>Colorado College (BA)University of Chicago (JD)</td>\n",
       "      <td>2017</td>\n",
       "      <td>Wilson[97]</td>\n",
       "      <td>(age 55)</td>\n",
       "    </tr>\n",
       "  </tbody>\n",
       "</table>\n",
       "<p>435 rows × 9 columns</p>\n",
       "</div>"
      ],
      "text/plain": [
       "             District            Member Party     Party.1  \\\n",
       "0           Alabama 1        Jerry Carl   NaN  Republican   \n",
       "1           Alabama 2       Barry Moore   NaN  Republican   \n",
       "2           Alabama 3       Mike Rogers   NaN  Republican   \n",
       "3           Alabama 4   Robert Aderholt   NaN  Republican   \n",
       "4           Alabama 5         Mo Brooks   NaN  Republican   \n",
       "..                ...               ...   ...         ...   \n",
       "430       Wisconsin 5  Scott Fitzgerald   NaN  Republican   \n",
       "431       Wisconsin 6    Glenn Grothman   NaN  Republican   \n",
       "432       Wisconsin 7       Tom Tiffany   NaN  Republican   \n",
       "433       Wisconsin 8    Mike Gallagher   NaN  Republican   \n",
       "434  Wyoming at-large        Liz Cheney   NaN  Republican   \n",
       "\n",
       "                                      Prior experience  \\\n",
       "0                             Mobile County Commission   \n",
       "1                     Alabama House of Representatives   \n",
       "2    Calhoun County CommissionerAlabama House of Re...   \n",
       "3                           Haleyville Municipal Judge   \n",
       "4    Alabama House of RepresentativesMadison County...   \n",
       "..                                                 ...   \n",
       "430                             Wisconsin State Senate   \n",
       "431           Wisconsin SenateWisconsin State Assembly   \n",
       "432           Wisconsin SenateWisconsin State Assembly   \n",
       "433                 Political advisorU.S. Marine Corps   \n",
       "434  Principal Deputy Assistant Secretary of State ...   \n",
       "\n",
       "                                             Education  Assumed office  \\\n",
       "0                              Florida Gateway College            2021   \n",
       "1    Enterprise State Community College (AS)Auburn ...            2021   \n",
       "2    Jacksonville State University (BA, MPA)Birming...            2003   \n",
       "3    University of North AlabamaBirmingham–Southern...            1997   \n",
       "4       Duke University (BA)University of Alabama (JD)            2011   \n",
       "..                                                 ...             ...   \n",
       "430               University of Wisconsin–Oshkosh (BS)            2021   \n",
       "431           University of Wisconsin–Madison (BA, JD)            2015   \n",
       "432           University of Wisconsin–River Falls (BS)  2020 (special)   \n",
       "433  Princeton University (BA)National Intelligence...            2017   \n",
       "434    Colorado College (BA)University of Chicago (JD)            2017   \n",
       "\n",
       "          Residence   Born[2]  \n",
       "0            Mobile  (age 63)  \n",
       "1        Enterprise  (age 55)  \n",
       "2       Anniston[3]  (age 63)  \n",
       "3        Haleyville  (age 56)  \n",
       "4        Huntsville  (age 67)  \n",
       "..              ...       ...  \n",
       "430      Clyman[95]  (age 58)  \n",
       "431  Glenbeulah[96]  (age 66)  \n",
       "432        Minocqua  (age 64)  \n",
       "433       Green Bay  (age 37)  \n",
       "434      Wilson[97]  (age 55)  \n",
       "\n",
       "[435 rows x 9 columns]"
      ]
     },
     "execution_count": 4,
     "metadata": {},
     "output_type": "execute_result"
    }
   ],
   "source": [
    "soup = BeautifulSoup(response.text, 'html.parser')\n",
    "representatives_table=soup.find_all(\"table\",{'class':\"wikitable\"})[5]\n",
    "\n",
    "df_representatives=pd.read_html(str(representatives_table))\n",
    "df_representatives=pd.DataFrame(df_representatives[0])\n",
    "df_representatives"
   ]
  },
  {
   "cell_type": "code",
   "execution_count": 5,
   "id": "f4500912-92ac-4b8c-ba57-d8266433a14d",
   "metadata": {},
   "outputs": [
    {
     "data": {
      "text/plain": [
       "(array([211.,   0.,   0.,   0.,   0., 222.,   0.,   0.,   0.,   2.]),\n",
       " array([0. , 0.2, 0.4, 0.6, 0.8, 1. , 1.2, 1.4, 1.6, 1.8, 2. ]),\n",
       " <BarContainer object of 10 artists>)"
      ]
     },
     "execution_count": 5,
     "metadata": {},
     "output_type": "execute_result"
    },
    {
     "data": {
      "image/png": "[encoded data removed]",
      "text/plain": [
       "<Figure size 432x288 with 1 Axes>"
      ]
     },
     "metadata": {
      "needs_background": "light"
     },
     "output_type": "display_data"
    }
   ],
   "source": [
    "plt.hist(df_representatives[\"Party.1\"])"
   ]
  },
  {
   "cell_type": "code",
   "execution_count": 6,
   "id": "6c41654e-890f-4ecb-853c-11ce03c9b6db",
   "metadata": {},
   "outputs": [
    {
     "data": {
      "text/plain": [
       "(array([211.,   0.,   0.,   0.,   0., 222.,   0.,   0.,   0.,   2.]),\n",
       " array([0. , 0.2, 0.4, 0.6, 0.8, 1. , 1.2, 1.4, 1.6, 1.8, 2. ]),\n",
       " <BarContainer object of 10 artists>)"
      ]
     },
     "execution_count": 6,
     "metadata": {},
     "output_type": "execute_result"
    },
    {
     "data": {
      "image/png": "[encoded data removed]",
      "text/plain": [
       "<Figure size 432x288 with 1 Axes>"
      ]
     },
     "metadata": {
      "needs_background": "light"
     },
     "output_type": "display_data"
    }
   ],
   "source": [
    "df_representatives[\"Name\"] = df_representatives[\"Member\"]\n",
    "df_representatives[\"Party\"] = df_representatives[\"Party.1\"]\n",
    "plt.hist(df_representatives[\"Party\"])"
   ]
  },
  {
   "cell_type": "code",
   "execution_count": 7,
   "id": "4f52642c-072d-4ffe-ad5b-fc98d5046bd8",
   "metadata": {},
   "outputs": [
    {
     "name": "stdout",
     "output_type": "stream",
     "text": [
      "<Response [200]>\n"
     ]
    }
   ],
   "source": [
    "senators_url = \"https://en.wikipedia.org/wiki/List_of_current_United_States_senators\"\n",
    "table_class = \"wikitable sortable jquery-tablesorter\"\n",
    "response = requests.get(senators_url)\n",
    "print(response)\n",
    "\n",
    "soup = BeautifulSoup(response.text, 'html.parser')\n",
    "senators_table=soup.find_all(\"table\",{'class':\"wikitable\"})[4]\n",
    "\n",
    "df_senators=pd.read_html(str(senators_table))\n",
    "df_senators=pd.DataFrame(df_senators[0])\n"
   ]
  },
  {
   "cell_type": "code",
   "execution_count": 8,
   "id": "06b12999-0809-4323-bbb5-d8713e683b39",
   "metadata": {},
   "outputs": [
    {
     "name": "stderr",
     "output_type": "stream",
     "text": [
      "/var/folders/lx/p5f6tjxn78d7x0yr11l1pm_h0000gn/T/ipykernel_13109/2943347238.py:2: SettingWithCopyWarning: \n",
      "A value is trying to be set on a copy of a slice from a DataFrame\n",
      "\n",
      "See the caveats in the documentation: https://pandas.pydata.org/pandas-docs/stable/user_guide/indexing.html#returning-a-view-versus-a-copy\n",
      "  df_senators[\"Party\"][df_senators[\"Party.1\"] == \"Republican[d]\"] = \"Republican\"\n",
      "/var/folders/lx/p5f6tjxn78d7x0yr11l1pm_h0000gn/T/ipykernel_13109/2943347238.py:3: SettingWithCopyWarning: \n",
      "A value is trying to be set on a copy of a slice from a DataFrame\n",
      "\n",
      "See the caveats in the documentation: https://pandas.pydata.org/pandas-docs/stable/user_guide/indexing.html#returning-a-view-versus-a-copy\n",
      "  df_senators[\"Party\"][df_senators[\"Party.1\"] == \"Independent[a]\"] = \"Independent\"\n"
     ]
    }
   ],
   "source": [
    "df_senators[\"Party\"] = df_senators[\"Party.1\"]\n",
    "df_senators[\"Party\"][df_senators[\"Party.1\"] == \"Republican[d]\"] = \"Republican\"\n",
    "df_senators[\"Party\"][df_senators[\"Party.1\"] == \"Independent[a]\"] = \"Independent\"\n",
    "df_senators[\"Name\"] = df_senators[\"Senator\"]"
   ]
  },
  {
   "cell_type": "code",
   "execution_count": 9,
   "id": "3e891329-81f7-4c72-bfe3-7f514fc04792",
   "metadata": {},
   "outputs": [],
   "source": [
    "def strip_cols(dataframe, kept_cols):\n",
    "    columns = list(dataframe.columns)\n",
    "    for col in columns:\n",
    "        if col not in kept_cols:\n",
    "            del dataframe[col]\n",
    "    return dataframe"
   ]
  },
  {
   "cell_type": "code",
   "execution_count": 10,
   "id": "36c23734-c633-456a-8368-ffbd46daf030",
   "metadata": {},
   "outputs": [
    {
     "name": "stdout",
     "output_type": "stream",
     "text": [
      "(100, 3)\n",
      "(435, 3)\n"
     ]
    }
   ],
   "source": [
    "df_senators[\"Branch\"] = \"Senate\"\n",
    "df_representatives[\"Branch\"] = \"House\"\n",
    "\n",
    "kept_cols = [\"Name\", \"Party\", \"Branch\"]\n",
    "\n",
    "df_senators_stripped = strip_cols(df_senators, kept_cols)\n",
    "df_representatives_stripped = strip_cols(df_representatives, kept_cols)\n",
    "\n",
    "print(df_senators_stripped.shape)\n",
    "print(df_representatives_stripped.shape)\n"
   ]
  },
  {
   "cell_type": "code",
   "execution_count": 11,
   "id": "8a793381-92e6-49be-90d7-f2e3cf499c7f",
   "metadata": {},
   "outputs": [],
   "source": [
    "politician_dataframe = pd.concat([df_senators_stripped, df_representatives_stripped])"
   ]
  },
  {
   "cell_type": "code",
   "execution_count": 12,
   "id": "7ff17294-c41b-40d7-8be8-d27cc000fffb",
   "metadata": {},
   "outputs": [
    {
     "data": {
      "text/plain": [
       "(array([261.,   0.,   0., 270.,   0.,   0.,   2.,   0.,   0.,   2.]),\n",
       " array([0. , 0.3, 0.6, 0.9, 1.2, 1.5, 1.8, 2.1, 2.4, 2.7, 3. ]),\n",
       " <BarContainer object of 10 artists>)"
      ]
     },
     "execution_count": 12,
     "metadata": {},
     "output_type": "execute_result"
    },
    {
     "data": {
      "image/png": "[encoded data removed]",
      "text/plain": [
       "<Figure size 432x288 with 1 Axes>"
      ]
     },
     "metadata": {
      "needs_background": "light"
     },
     "output_type": "display_data"
    }
   ],
   "source": [
    "plt.hist(politician_dataframe[\"Party\"])"
   ]
  },
  {
   "cell_type": "code",
   "execution_count": 16,
   "id": "16d1d9c3-0a3b-41ee-85d6-19ff609e64a6",
   "metadata": {},
   "outputs": [],
   "source": [
    "client = tweepy.Client(bearer_token=keys[\"Bearer_token\"],\n",
    "                       access_token = keys[\"API_key\"],\n",
    "                       access_token_secret = keys[\"API_secret_key\"],\n",
    "                       wait_on_rate_limit=True)\n",
    "\n",
    "def get_mentioned(tweets, split_name):\n",
    "    mentioned = []\n",
    "    \n",
    "    #split_name = split_name + [\"Sen\", \"sen\", \"Senator\", \"senator\"]\n",
    "    \n",
    "    for i, tweet in enumerate(tweets):\n",
    "        split = tweet[\"text\"].split(' ')\n",
    "        for s in split:\n",
    "            if len(s) != 0:\n",
    "                if s[0] == '@':\n",
    "                    #for name_part in split_name:\n",
    "                    if split_name[1] in s:\n",
    "                        if split_name[0] in s:\n",
    "                            if \"Sen\" in s or \"sen\" in s or \"Senator\" in s or \"senator\" in s:\n",
    "                                clean_mention = re.sub(r'[^\\w\\s]', '', s)\n",
    "                                mentioned.append(clean_mention)\n",
    "                                break\n",
    "                                \n",
    "                            # else:\n",
    "                            #     clean_mention = re.sub(r'[^\\w\\s]', '', s)\n",
    "                            #     mentioned.append(clean_mention)\n",
    "                                                \n",
    "                        else:\n",
    "                            if \"Sen\" in s or \"sen\" in s or \"Senator\" in s or \"senator\" in s:\n",
    "                                clean_mention = re.sub(r'[^\\w\\s]', '', s)\n",
    "                                mentioned.append(clean_mention)\n",
    "                                break\n",
    "\n",
    "                            else:\n",
    "                                clean_mention = re.sub(r'[^\\w\\s]', '', s)\n",
    "                                mentioned.append(clean_mention)\n",
    "                        \n",
    "    return mentioned\n",
    "\n",
    "def score_match(match_list, mention):\n",
    "    \n",
    "    extras = [\"Sen\", \"sen\", \"Senator\", \"senator\", \"Rep\", \"rep\", \"Representative\", \"representative\"]\n",
    "    \n",
    "    #s = re.sub(\" \\d+\", \" \", s)\n",
    "    \n",
    "    score = 0\n",
    "    try:\n",
    "        if match_list[1] not in re.sub(\"\\d+\", \"\", mention):\n",
    "            return score\n",
    "    except:\n",
    "        pass\n",
    "    \n",
    "    try:\n",
    "        for item in match_list:\n",
    "            if item in re.sub(\"\\d+\", \"\", mention):\n",
    "                score += 1\n",
    "    except:\n",
    "        pass\n",
    "            \n",
    "    for item in extras:\n",
    "        if item in re.sub(\"\\d+\", \"\", mention):\n",
    "            score += 2\n",
    "\n",
    "    return score/(len(match_list)+len(extras))\n",
    "            \n",
    "\n",
    "def get_mentioned_scoring(tweets, split_name):\n",
    "    mentioned = []\n",
    "    \n",
    "    split_name = split_name\n",
    "    scores = []\n",
    "    \n",
    "    \n",
    "    for i, tweet in enumerate(tweets):\n",
    "        split = tweet[\"text\"].split(' ')\n",
    "        for s in split:\n",
    "            if len(s) != 0:\n",
    "                if s[0] == '@':\n",
    "                    \n",
    "                    score = score_match(split_name, s)\n",
    "                    scores.append(score)\n",
    "                    \n",
    "                    clean_mention = re.sub(r'[^\\w\\s\\n]', '', s)\n",
    "                    \n",
    "                    mentioned.append(clean_mention)\n",
    "                    \n",
    "    return mentioned, scores\n",
    "\n",
    "def get_twitter_username(name, client):\n",
    "    \n",
    "    tweets = client.search_recent_tweets(query = f'{name} is:verified', max_results = 100)[0]\n",
    "    split_name = name.split(' ')\n",
    "    \n",
    "    mentioned = get_mentioned(tweets, split_name)\n",
    "                            \n",
    "    if len(mentioned) == 0:\n",
    "        tweets = client.search_all_tweets(query = f'{name} is:verified', max_results = 100)[0]\n",
    "        mentioned = get_mentioned(tweets, split_name)\n",
    "\n",
    "    if len(mentioned) == 0:\n",
    "        return 'FAILED'\n",
    "\n",
    "    names, counts = np.unique(mentioned, return_counts = True)\n",
    "    sort_inds = np.argsort(counts)[::-1]\n",
    "\n",
    "    return names[0]\n",
    "\n",
    "def get_twitter_username(name, client):\n",
    "    \n",
    "    tweets = client.search_recent_tweets(query = f'{name} is:verified', max_results = 100)[0]\n",
    "    split_name = name.split(' ')\n",
    "    \n",
    "    mentioned = get_mentioned(tweets, split_name)\n",
    "                            \n",
    "    if len(mentioned) == 0:\n",
    "        tweets = client.search_all_tweets(query = f'{name} is:verified', max_results = 100)[0]\n",
    "        mentioned = get_mentioned(tweets, split_name)\n",
    "\n",
    "    if len(mentioned) == 0:\n",
    "        return 'FAILED'\n",
    "\n",
    "    names, counts = np.unique(mentioned, return_counts = True)\n",
    "    sort_inds = np.argsort(counts)[::-1]\n",
    "\n",
    "    return names[0]\n",
    "\n",
    "def get_twitter_usernames(names, branches, client):\n",
    "    batch_size = 5\n",
    "    \n",
    "    n_batches = len(names) // batch_size\n",
    "    \n",
    "    output_usernames = []\n",
    "    \n",
    "    #pbar_outer = tqdm(total = n_batches, desc = \"Batch number\", position = 0)\n",
    "    \n",
    "    for i in tqdm(range(n_batches)):\n",
    "        out_names = do_the_process(names[(i)*batch_size:(i+1)*batch_size],\n",
    "                                  branches[(i)*batch_size:(i+1)*batch_size],\n",
    "                                  client)\n",
    "        \n",
    "        output_usernames += out_names\n",
    "        \n",
    "        #tqdm.write(names[(i)*batch_size:(i+1)*batch_size][0])\n",
    "        #tqdm.write(out_names[0])\n",
    "        \n",
    "        #pbar_outer.update(1)\n",
    "    \n",
    "    return output_usernames\n",
    "    \n",
    "    \n",
    "    \n",
    "def do_the_process(names, branches, client):\n",
    "    \n",
    "    query = \"\"\n",
    "    for i, name in enumerate(names):\n",
    "        query += name\n",
    "        query += \" OR \"\n",
    "        query += f\"{name} {branches[i]}\"\n",
    "        if i != len(names) - 1:\n",
    "            query += \" OR \"\n",
    "    #print(len(query))\n",
    "    tweets = []\n",
    "\n",
    "    for tweet in tweepy.Paginator(client.search_recent_tweets, query = query,\n",
    "                                  max_results=100).flatten(limit=len(names) * 500):\n",
    "        tweets.append(tweet)\n",
    "    \n",
    "    #print(f\"GOT TWEETS {len(tweets)}\")\n",
    "    \n",
    "    names_output = []\n",
    "    \n",
    "    #pbar_inner = tqdm(total = len(names), desc = \"Name in batch\", position = 1)\n",
    "    \n",
    "    for name in names:\n",
    "    \n",
    "        split_name = name.split(' ')\n",
    "\n",
    "        mentioned, scores = get_mentioned_scoring(tweets, split_name)\n",
    "        \n",
    "        ind_score_sort = np.argsort(scores)[::-1]\n",
    "        ind_score_sort = ind_score_sort[:10]\n",
    "        \n",
    "        mentioned = np.array(mentioned)[ind_score_sort]\n",
    "        scores    = np.array(scores)[ind_score_sort]\n",
    "        \n",
    "        \n",
    "        if len(mentioned) == 0:\n",
    "            names_output.append(\"FAILED\")\n",
    "            continue\n",
    "        \n",
    "        #print(mentioned)\n",
    "        #screen_names = client.get_users(usernames = mentioned)\n",
    "        \n",
    "        for i, mention in enumerate(mentioned):\n",
    "            #user = screen_names[i]\n",
    "            #print(mention)\n",
    "            try:\n",
    "                user = client.get_user(username = mention)\n",
    "            except:\n",
    "                try:\n",
    "                    mention = mention.split(' ')[0]\n",
    "                    user = client.get_user(username = mention)\n",
    "                except:\n",
    "                    pass\n",
    "            #print(mention)\n",
    "            try:\n",
    "                screen_name = user[0][\"name\"]\n",
    "                if name in screen_name:\n",
    "                    scores[i] += 10\n",
    "                    #tqdm.write(user[0][\"name\"])\n",
    "                    break\n",
    "            except:\n",
    "                pass\n",
    "            #print(dir(user))\n",
    "\n",
    "        score_indmax = np.argsort(scores)[-1]\n",
    "        names_output.append(mentioned[score_indmax])\n",
    "        \n",
    "        #pbar_inner.update(1)\n",
    "\n",
    "    return names_output\n"
   ]
  },
  {
   "cell_type": "code",
   "execution_count": 19,
   "id": "4b31d26c-c11a-4ffe-bfb0-518446a79510",
   "metadata": {},
   "outputs": [],
   "source": [
    "from tqdm.notebook import tqdm\n",
    "politician_dataframe = politician_dataframe.sample(frac=1)\n",
    "usernames = []\n",
    "names = politician_dataframe[\"Name\"].tolist()\n"
   ]
  },
  {
   "cell_type": "code",
   "execution_count": 20,
   "id": "3edf2caa-0eac-4271-9de3-6b8da09112c8",
   "metadata": {},
   "outputs": [
    {
     "data": {
      "application/vnd.jupyter.widget-view+json": {
       "model_id": "6cf640bc50da49d781ee9d1dcc9bc311",
       "version_major": 2,
       "version_minor": 0
      },
      "text/plain": [
       "  0%|          | 0/107 [00:00<?, ?it/s]"
      ]
     },
     "metadata": {},
     "output_type": "display_data"
    },
    {
     "name": "stdout",
     "output_type": "stream",
     "text": [
      "Sheila Cherfilus-McCormick\n",
      "TristanSnell\n",
      "Ben Cline\n",
      "RepBenCline\n",
      "Randy Weber\n",
      "resepsjonist\n",
      "Kweisi Mfume\n",
      "RepKweisiMfume\n",
      "James Comer\n",
      "JodieComer_BR\n",
      "Trey Hollingsworth\n",
      "RonFilipkowski\n",
      "Betty McCollum\n",
      "BettyMcCollum04\n",
      "Kyrsten Sinema\n",
      "SenatorSinema\n",
      "Kai Kahele\n",
      "RepKahele\n",
      "Ronny Jackson\n",
      "RepRonnyJackson\n",
      "Dan Kildee\n",
      "BeachCity55\n",
      "Katie Porter\n",
      "RepKatiePorter\n",
      "Maxine Waters\n",
      "RepMaxineWaters\n",
      "Alan Lowenthal\n",
      "axios\n",
      "John Hickenlooper\n",
      "TheeKHiveQueenB\n",
      "Troy Nehls\n",
      "WatchChad\n"
     ]
    },
    {
     "name": "stderr",
     "output_type": "stream",
     "text": [
      "Rate limit exceeded. Sleeping for 187 seconds.\n"
     ]
    },
    {
     "name": "stdout",
     "output_type": "stream",
     "text": [
      "Veronica Escobar\n",
      "Bubblebathgirl\n"
     ]
    },
    {
     "ename": "KeyboardInterrupt",
     "evalue": "",
     "output_type": "error",
     "traceback": [
      "\u001b[0;31m---------------------------------------------------------------------------\u001b[0m",
      "\u001b[0;31mKeyboardInterrupt\u001b[0m                         Traceback (most recent call last)",
      "Input \u001b[0;32mIn [20]\u001b[0m, in \u001b[0;36m<module>\u001b[0;34m\u001b[0m\n\u001b[0;32m----> 1\u001b[0m usernames \u001b[38;5;241m=\u001b[39m \u001b[43mget_twitter_usernames\u001b[49m\u001b[43m(\u001b[49m\u001b[43mnames\u001b[49m\u001b[43m,\u001b[49m\u001b[43m \u001b[49m\u001b[43mpolitician_dataframe\u001b[49m\u001b[43m[\u001b[49m\u001b[38;5;124;43m\"\u001b[39;49m\u001b[38;5;124;43mBranch\u001b[39;49m\u001b[38;5;124;43m\"\u001b[39;49m\u001b[43m]\u001b[49m\u001b[38;5;241;43m.\u001b[39;49m\u001b[43mtolist\u001b[49m\u001b[43m(\u001b[49m\u001b[43m)\u001b[49m\u001b[43m,\u001b[49m\u001b[43m \u001b[49m\u001b[43mclient\u001b[49m\u001b[43m)\u001b[49m\n\u001b[1;32m      2\u001b[0m \u001b[38;5;28mprint\u001b[39m(usernames)\n\u001b[1;32m      5\u001b[0m politician_dataframe[\u001b[38;5;124m\"\u001b[39m\u001b[38;5;124mUsername\u001b[39m\u001b[38;5;124m\"\u001b[39m] \u001b[38;5;241m=\u001b[39m usernames\n",
      "Input \u001b[0;32mIn [16]\u001b[0m, in \u001b[0;36mget_twitter_usernames\u001b[0;34m(names, branches, client)\u001b[0m\n\u001b[1;32m    134\u001b[0m \u001b[38;5;66;03m#pbar_outer = tqdm(total = n_batches, desc = \"Batch number\", position = 0)\u001b[39;00m\n\u001b[1;32m    136\u001b[0m \u001b[38;5;28;01mfor\u001b[39;00m i \u001b[38;5;129;01min\u001b[39;00m tqdm(\u001b[38;5;28mrange\u001b[39m(n_batches)):\n\u001b[0;32m--> 137\u001b[0m     out_names \u001b[38;5;241m=\u001b[39m \u001b[43mdo_the_process\u001b[49m\u001b[43m(\u001b[49m\u001b[43mnames\u001b[49m\u001b[43m[\u001b[49m\u001b[43m(\u001b[49m\u001b[43mi\u001b[49m\u001b[43m)\u001b[49m\u001b[38;5;241;43m*\u001b[39;49m\u001b[43mbatch_size\u001b[49m\u001b[43m:\u001b[49m\u001b[43m(\u001b[49m\u001b[43mi\u001b[49m\u001b[38;5;241;43m+\u001b[39;49m\u001b[38;5;241;43m1\u001b[39;49m\u001b[43m)\u001b[49m\u001b[38;5;241;43m*\u001b[39;49m\u001b[43mbatch_size\u001b[49m\u001b[43m]\u001b[49m\u001b[43m,\u001b[49m\n\u001b[1;32m    138\u001b[0m \u001b[43m                              \u001b[49m\u001b[43mbranches\u001b[49m\u001b[43m[\u001b[49m\u001b[43m(\u001b[49m\u001b[43mi\u001b[49m\u001b[43m)\u001b[49m\u001b[38;5;241;43m*\u001b[39;49m\u001b[43mbatch_size\u001b[49m\u001b[43m:\u001b[49m\u001b[43m(\u001b[49m\u001b[43mi\u001b[49m\u001b[38;5;241;43m+\u001b[39;49m\u001b[38;5;241;43m1\u001b[39;49m\u001b[43m)\u001b[49m\u001b[38;5;241;43m*\u001b[39;49m\u001b[43mbatch_size\u001b[49m\u001b[43m]\u001b[49m\u001b[43m,\u001b[49m\n\u001b[1;32m    139\u001b[0m \u001b[43m                              \u001b[49m\u001b[43mclient\u001b[49m\u001b[43m)\u001b[49m\n\u001b[1;32m    141\u001b[0m     output_usernames \u001b[38;5;241m+\u001b[39m\u001b[38;5;241m=\u001b[39m out_names\n\u001b[1;32m    143\u001b[0m     tqdm\u001b[38;5;241m.\u001b[39mwrite(names[(i)\u001b[38;5;241m*\u001b[39mbatch_size:(i\u001b[38;5;241m+\u001b[39m\u001b[38;5;241m1\u001b[39m)\u001b[38;5;241m*\u001b[39mbatch_size][\u001b[38;5;241m0\u001b[39m])\n",
      "Input \u001b[0;32mIn [16]\u001b[0m, in \u001b[0;36mdo_the_process\u001b[0;34m(names, branches, client)\u001b[0m\n\u001b[1;32m    174\u001b[0m \u001b[38;5;28;01mfor\u001b[39;00m name \u001b[38;5;129;01min\u001b[39;00m names:\n\u001b[1;32m    176\u001b[0m     split_name \u001b[38;5;241m=\u001b[39m name\u001b[38;5;241m.\u001b[39msplit(\u001b[38;5;124m'\u001b[39m\u001b[38;5;124m \u001b[39m\u001b[38;5;124m'\u001b[39m)\n\u001b[0;32m--> 178\u001b[0m     mentioned, scores \u001b[38;5;241m=\u001b[39m \u001b[43mget_mentioned_scoring\u001b[49m\u001b[43m(\u001b[49m\u001b[43mtweets\u001b[49m\u001b[43m,\u001b[49m\u001b[43m \u001b[49m\u001b[43msplit_name\u001b[49m\u001b[43m)\u001b[49m\n\u001b[1;32m    180\u001b[0m     ind_score_sort \u001b[38;5;241m=\u001b[39m np\u001b[38;5;241m.\u001b[39margsort(scores)[::\u001b[38;5;241m-\u001b[39m\u001b[38;5;241m1\u001b[39m]\n\u001b[1;32m    181\u001b[0m     ind_score_sort \u001b[38;5;241m=\u001b[39m ind_score_sort[:\u001b[38;5;241m5\u001b[39m]\n",
      "Input \u001b[0;32mIn [16]\u001b[0m, in \u001b[0;36mget_mentioned_scoring\u001b[0;34m(tweets, split_name)\u001b[0m\n\u001b[1;32m     80\u001b[0m                 score \u001b[38;5;241m=\u001b[39m score_match(split_name, s)\n\u001b[1;32m     81\u001b[0m                 scores\u001b[38;5;241m.\u001b[39mappend(score)\n\u001b[0;32m---> 83\u001b[0m                 clean_mention \u001b[38;5;241m=\u001b[39m \u001b[43mre\u001b[49m\u001b[38;5;241;43m.\u001b[39;49m\u001b[43msub\u001b[49m\u001b[43m(\u001b[49m\u001b[38;5;124;43mr\u001b[39;49m\u001b[38;5;124;43m'\u001b[39;49m\u001b[38;5;124;43m[^\u001b[39;49m\u001b[38;5;124;43m\\\u001b[39;49m\u001b[38;5;124;43mw\u001b[39;49m\u001b[38;5;124;43m\\\u001b[39;49m\u001b[38;5;124;43ms\u001b[39;49m\u001b[38;5;124;43m\\\u001b[39;49m\u001b[38;5;124;43mn]\u001b[39;49m\u001b[38;5;124;43m'\u001b[39;49m\u001b[43m,\u001b[49m\u001b[43m \u001b[49m\u001b[38;5;124;43m'\u001b[39;49m\u001b[38;5;124;43m'\u001b[39;49m\u001b[43m,\u001b[49m\u001b[43m \u001b[49m\u001b[43ms\u001b[49m\u001b[43m)\u001b[49m\n\u001b[1;32m     85\u001b[0m                 mentioned\u001b[38;5;241m.\u001b[39mappend(clean_mention)\n\u001b[1;32m     87\u001b[0m \u001b[38;5;28;01mreturn\u001b[39;00m mentioned, scores\n",
      "File \u001b[0;32m~/miniforge3/envs/networks/lib/python3.9/re.py:210\u001b[0m, in \u001b[0;36msub\u001b[0;34m(pattern, repl, string, count, flags)\u001b[0m\n\u001b[1;32m    203\u001b[0m \u001b[38;5;28;01mdef\u001b[39;00m \u001b[38;5;21msub\u001b[39m(pattern, repl, string, count\u001b[38;5;241m=\u001b[39m\u001b[38;5;241m0\u001b[39m, flags\u001b[38;5;241m=\u001b[39m\u001b[38;5;241m0\u001b[39m):\n\u001b[1;32m    204\u001b[0m     \u001b[38;5;124;03m\"\"\"Return the string obtained by replacing the leftmost\u001b[39;00m\n\u001b[1;32m    205\u001b[0m \u001b[38;5;124;03m    non-overlapping occurrences of the pattern in string by the\u001b[39;00m\n\u001b[1;32m    206\u001b[0m \u001b[38;5;124;03m    replacement repl.  repl can be either a string or a callable;\u001b[39;00m\n\u001b[1;32m    207\u001b[0m \u001b[38;5;124;03m    if a string, backslash escapes in it are processed.  If it is\u001b[39;00m\n\u001b[1;32m    208\u001b[0m \u001b[38;5;124;03m    a callable, it's passed the Match object and must return\u001b[39;00m\n\u001b[1;32m    209\u001b[0m \u001b[38;5;124;03m    a replacement string to be used.\"\"\"\u001b[39;00m\n\u001b[0;32m--> 210\u001b[0m     \u001b[38;5;28;01mreturn\u001b[39;00m \u001b[43m_compile\u001b[49m\u001b[43m(\u001b[49m\u001b[43mpattern\u001b[49m\u001b[43m,\u001b[49m\u001b[43m \u001b[49m\u001b[43mflags\u001b[49m\u001b[43m)\u001b[49m\u001b[38;5;241;43m.\u001b[39;49m\u001b[43msub\u001b[49m\u001b[43m(\u001b[49m\u001b[43mrepl\u001b[49m\u001b[43m,\u001b[49m\u001b[43m \u001b[49m\u001b[43mstring\u001b[49m\u001b[43m,\u001b[49m\u001b[43m \u001b[49m\u001b[43mcount\u001b[49m\u001b[43m)\u001b[49m\n",
      "\u001b[0;31mKeyboardInterrupt\u001b[0m: "
     ]
    }
   ],
   "source": [
    "usernames = get_twitter_usernames(names, politician_dataframe[\"Branch\"].tolist(), client)\n",
    "print(usernames)\n",
    "\n",
    "    \n",
    "politician_dataframe[\"Username\"] = usernames\n",
    "print(politician_dataframe.head())"
   ]
  },
  {
   "cell_type": "code",
   "execution_count": null,
   "id": "c8c5f602-aa03-4881-bb84-11a47af08f5a",
   "metadata": {},
   "outputs": [],
   "source": [
    "#politician_dataframe\n",
    "usernames\n",
    "# listy = []\n",
    "\n",
    "# for tweet in tweepy.Paginator(client.search_recent_tweets, query = \"Donald Trump\",\n",
    "#                               max_results=100).flatten(limit=5000):\n",
    "#     listy.append(tweet)\n",
    "\n",
    "# print(list[:5])\n",
    "# print(len(listy))"
   ]
  },
  {
   "cell_type": "code",
   "execution_count": null,
   "id": "0ff1c125-adbe-4fed-b7f4-3bbe353f54c8",
   "metadata": {},
   "outputs": [],
   "source": [
    "print(dir(tweet))"
   ]
  },
  {
   "cell_type": "code",
   "execution_count": null,
   "id": "b74fa9f9-0209-469d-aff0-5cfdd639124c",
   "metadata": {},
   "outputs": [],
   "source": [
    "mention = \"meme3meme3\"\n",
    "\n",
    "print(re.sub(\"\\d+\", \"\", mention))\n"
   ]
  },
  {
   "cell_type": "code",
   "execution_count": null,
   "id": "5ad21717-7698-4429-8584-8103070ff810",
   "metadata": {},
   "outputs": [],
   "source": [
    "# tweets = []\n",
    "# for tweet in tweepy.Paginator(client.search_recent_tweets, query = \"Ed Markey Senate OR Ed Markey is:verified\",\n",
    "#                               max_results=100).flatten(limit=200):\n",
    "#     tweets.append(tweet)\n",
    "# print(tweets)"
   ]
  },
  {
   "cell_type": "code",
   "execution_count": null,
   "id": "0eb83963-9eeb-474b-a920-323c7e567a46",
   "metadata": {},
   "outputs": [],
   "source": [
    "!pip install ipywidgets"
   ]
  },
  {
   "cell_type": "code",
   "execution_count": null,
   "id": "60c6927c-cb48-47ba-a61f-b5e0e7af966c",
   "metadata": {},
   "outputs": [],
   "source": []
  }
 ],
 "metadata": {
  "kernelspec": {
   "display_name": "Python 3 (ipykernel)",
   "language": "python",
   "name": "python3"
  },
  "language_info": {
   "codemirror_mode": {
    "name": "ipython",
    "version": 3
   },
   "file_extension": ".py",
   "mimetype": "text/x-python",
   "name": "python",
   "nbconvert_exporter": "python",
   "pygments_lexer": "ipython3",
   "version": "3.9.6"
  }
 },
 "nbformat": 4,
 "nbformat_minor": 5
}
