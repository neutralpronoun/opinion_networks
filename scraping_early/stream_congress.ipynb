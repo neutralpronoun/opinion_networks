{
 "cells": [
  {
   "cell_type": "code",
   "execution_count": 1,
   "id": "6ee20dbf-e0c5-40da-be93-be36c4da2217",
   "metadata": {},
   "outputs": [],
   "source": [
    "import graphviz\n",
    "import os\n",
    "import numpy as np\n",
    "import pandas as pd\n",
    "import matplotlib.pyplot as plt\n",
    "from bs4 import BeautifulSoup\n",
    "import cython\n",
    "import tweepy\n",
    "import json\n",
    "import requests\n",
    "import inspect\n",
    "import re\n",
    "from tqdm import tqdm\n",
    "from time import time, sleep\n",
    "import networkx as nx"
   ]
  },
  {
   "cell_type": "code",
   "execution_count": 2,
   "id": "7a66e957-f564-4a51-9b91-d17d033cc95b",
   "metadata": {},
   "outputs": [
    {
     "name": "stdout",
     "output_type": "stream",
     "text": [
      "        Party             Name Branch        Username                 ids  \\\n",
      "0  Republican    Pete Sessions  House    PeteSessions            24735461   \n",
      "1  Democratic   Debbie Dingell  House   RepDebDingell          2970279814   \n",
      "2  Democratic  Pramila Jayapal  House      RepJayapal  815733290955112448   \n",
      "3  Republican      Rob Wittman  House      RobWittman            15356407   \n",
      "4  Democratic  Chellie Pingree  House  chelliepingree            14984637   \n",
      "\n",
      "                                           Following  \n",
      "0  {'ids': [1396151678, 815966620300480514, 12912...  \n",
      "1  {'ids': [353272992, 300463737, 393541673, 9873...  \n",
      "2  {'ids': [35281549, 25535595, 19847765, 1002630...  \n",
      "3  {'ids': [834069080, 2964877294, 3686482216, 29...  \n",
      "4  {'ids': [38026753, 873135988440223745, 1462548...  \n"
     ]
    }
   ],
   "source": [
    "from ast import literal_eval\n",
    "\n",
    "def load_data(extras = True):\n",
    "\n",
    "    data = pd.read_csv(\"politicians_connections_two.csv\")\n",
    "    data[\"Following\"] = data[\"Following\"].apply(literal_eval)\n",
    "\n",
    "    print(data.head())\n",
    "\n",
    "    usernames = data[\"Username\"].tolist()\n",
    "    ids = data[\"ids\"].tolist()\n",
    "    \n",
    "    return data, usernames, ids\n",
    "\n",
    "data, usernames, ids = load_data()"
   ]
  },
  {
   "cell_type": "code",
   "execution_count": 3,
   "id": "ae3a9a3a-d184-4e15-9018-f235d6749868",
   "metadata": {},
   "outputs": [
    {
     "name": "stdout",
     "output_type": "stream",
     "text": [
      "{'created_at': 'Mon Mar 07 13:25:21 +0000 2022', 'id': 1500824930023264261, 'id_str': '1500824930023264261', 'text': 'RT @RepRalphNorman: Joe Biden’s gas crisis needs to end.', 'source': '<a href=\"http://twitter.com/#!/download/ipad\" rel=\"nofollow\">Twitter for iPad</a>', 'truncated': False, 'in_reply_to_status_id': None, 'in_reply_to_status_id_str': None, 'in_reply_to_user_id': None, 'in_reply_to_user_id_str': None, 'in_reply_to_screen_name': None, 'user': {'id': 218104966, 'id_str': '218104966', 'name': 'Karen Nelson', 'screen_name': 'dixonres', 'location': None, 'url': None, 'description': None, 'translator_type': 'none', 'protected': False, 'verified': False, 'followers_count': 234, 'friends_count': 90, 'listed_count': 1, 'favourites_count': 22239, 'statuses_count': 41434, 'created_at': 'Sun Nov 21 12:42:12 +0000 2010', 'utc_offset': None, 'time_zone': None, 'geo_enabled': True, 'lang': None, 'contributors_enabled': False, 'is_translator': False, 'profile_background_color': 'C0DEED', 'profile_background_image_url': 'http://abs.twimg.com/images/themes/theme1/bg.png', 'profile_background_image_url_https': 'https://abs.twimg.com/images/themes/theme1/bg.png', 'profile_background_tile': False, 'profile_link_color': '1DA1F2', 'profile_sidebar_border_color': 'C0DEED', 'profile_sidebar_fill_color': 'DDEEF6', 'profile_text_color': '333333', 'profile_use_background_image': True, 'profile_image_url': 'http://abs.twimg.com/sticky/default_profile_images/default_profile_normal.png', 'profile_image_url_https': 'https://abs.twimg.com/sticky/default_profile_images/default_profile_normal.png', 'default_profile': True, 'default_profile_image': False, 'following': None, 'follow_request_sent': None, 'notifications': None, 'withheld_in_countries': []}, 'geo': None, 'coordinates': None, 'place': None, 'contributors': None, 'retweeted_status': {'created_at': 'Sun Mar 06 17:53:19 +0000 2022', 'id': 1500529974478053394, 'id_str': '1500529974478053394', 'text': 'Joe Biden’s gas crisis needs to end.', 'source': '<a href=\"http://twitter.com/download/iphone\" rel=\"nofollow\">Twitter for iPhone</a>', 'truncated': False, 'in_reply_to_status_id': None, 'in_reply_to_status_id_str': None, 'in_reply_to_user_id': None, 'in_reply_to_user_id_str': None, 'in_reply_to_screen_name': None, 'user': {'id': 880480631108644864, 'id_str': '880480631108644864', 'name': 'Rep. Ralph Norman', 'screen_name': 'RepRalphNorman', 'location': 'South Carolina, USA', 'url': 'http://norman.house.gov', 'description': 'Proudly serving the 5th congressional district of South Carolina 🍑 Chairman @House_COS', 'translator_type': 'none', 'protected': False, 'verified': True, 'followers_count': 29447, 'friends_count': 602, 'listed_count': 666, 'favourites_count': 1635, 'statuses_count': 3043, 'created_at': 'Thu Jun 29 17:38:35 +0000 2017', 'utc_offset': None, 'time_zone': None, 'geo_enabled': True, 'lang': None, 'contributors_enabled': False, 'is_translator': False, 'profile_background_color': 'F5F8FA', 'profile_background_image_url': '', 'profile_background_image_url_https': '', 'profile_background_tile': False, 'profile_link_color': '1DA1F2', 'profile_sidebar_border_color': 'C0DEED', 'profile_sidebar_fill_color': 'DDEEF6', 'profile_text_color': '333333', 'profile_use_background_image': True, 'profile_image_url': 'http://pbs.twimg.com/profile_images/886594415904608258/VyYZc8Uk_normal.jpg', 'profile_image_url_https': 'https://pbs.twimg.com/profile_images/886594415904608258/VyYZc8Uk_normal.jpg', 'profile_banner_url': 'https://pbs.twimg.com/profile_banners/880480631108644864/1561058726', 'default_profile': True, 'default_profile_image': False, 'following': None, 'follow_request_sent': None, 'notifications': None, 'withheld_in_countries': []}, 'geo': None, 'coordinates': None, 'place': None, 'contributors': None, 'is_quote_status': False, 'quote_count': 9, 'reply_count': 105, 'retweet_count': 139, 'favorite_count': 1072, 'entities': {'hashtags': [], 'urls': [], 'user_mentions': [], 'symbols': []}, 'favorited': False, 'retweeted': False, 'filter_level': 'low', 'lang': 'en'}, 'is_quote_status': False, 'quote_count': 0, 'reply_count': 0, 'retweet_count': 0, 'favorite_count': 0, 'entities': {'hashtags': [], 'urls': [], 'user_mentions': [{'screen_name': 'RepRalphNorman', 'name': 'Rep. Ralph Norman', 'id': 880480631108644864, 'id_str': '880480631108644864', 'indices': [3, 18]}], 'symbols': []}, 'favorited': False, 'retweeted': False, 'filter_level': 'low', 'lang': 'en', 'timestamp_ms': '1646659521953'}\n",
      "{'created_at': 'Mon Mar 07 13:25:22 +0000 2022', 'id': 1500824932091052033, 'id_str': '1500824932091052033', 'text': 'RT @RepLeeZeldin: This is as bad a time as any for the Biden Admin to turn to Iran, Venezuela or any other adversary for our nation’s energ…', 'source': '<a href=\"https://mobile.twitter.com\" rel=\"nofollow\">Twitter Web App</a>', 'truncated': False, 'in_reply_to_status_id': None, 'in_reply_to_status_id_str': None, 'in_reply_to_user_id': None, 'in_reply_to_user_id_str': None, 'in_reply_to_screen_name': None, 'user': {'id': 1459263118941511682, 'id_str': '1459263118941511682', 'name': 'Real American', 'screen_name': 'Ipreferfacts1', 'location': None, 'url': None, 'description': 'Real facts tend to trample emotional opinions.', 'translator_type': 'none', 'protected': False, 'verified': False, 'followers_count': 76, 'friends_count': 261, 'listed_count': 0, 'favourites_count': 1485, 'statuses_count': 1304, 'created_at': 'Fri Nov 12 20:53:47 +0000 2021', 'utc_offset': None, 'time_zone': None, 'geo_enabled': False, 'lang': None, 'contributors_enabled': False, 'is_translator': False, 'profile_background_color': 'F5F8FA', 'profile_background_image_url': '', 'profile_background_image_url_https': '', 'profile_background_tile': False, 'profile_link_color': '1DA1F2', 'profile_sidebar_border_color': 'C0DEED', 'profile_sidebar_fill_color': 'DDEEF6', 'profile_text_color': '333333', 'profile_use_background_image': True, 'profile_image_url': 'http://pbs.twimg.com/profile_images/1466949264173580290/FfkQRyTn_normal.jpg', 'profile_image_url_https': 'https://pbs.twimg.com/profile_images/1466949264173580290/FfkQRyTn_normal.jpg', 'default_profile': True, 'default_profile_image': False, 'following': None, 'follow_request_sent': None, 'notifications': None, 'withheld_in_countries': []}, 'geo': None, 'coordinates': None, 'place': None, 'contributors': None, 'retweeted_status': {'created_at': 'Sun Mar 06 22:29:31 +0000 2022', 'id': 1500599483146588167, 'id_str': '1500599483146588167', 'text': 'This is as bad a time as any for the Biden Admin to turn to Iran, Venezuela or any other adversary for our nation’s… https://t.co/467VIgnteU', 'source': '<a href=\"http://twitter.com/download/iphone\" rel=\"nofollow\">Twitter for iPhone</a>', 'truncated': True, 'in_reply_to_status_id': None, 'in_reply_to_status_id_str': None, 'in_reply_to_user_id': None, 'in_reply_to_user_id_str': None, 'in_reply_to_screen_name': None, 'user': {'id': 2750127259, 'id_str': '2750127259', 'name': 'Lee Zeldin', 'screen_name': 'RepLeeZeldin', 'location': None, 'url': 'http://zeldin.house.gov', 'description': 'Proudly representing New York’s 1st Congressional District. Member of House Financial Services & Foreign Affairs Committees. Lieutenant Colonel in Army Reserve.', 'translator_type': 'none', 'protected': False, 'verified': True, 'followers_count': 324042, 'friends_count': 2105, 'listed_count': 1710, 'favourites_count': 46, 'statuses_count': 5090, 'created_at': 'Wed Aug 20 19:25:47 +0000 2014', 'utc_offset': None, 'time_zone': None, 'geo_enabled': False, 'lang': None, 'contributors_enabled': False, 'is_translator': False, 'profile_background_color': 'C0DEED', 'profile_background_image_url': 'http://abs.twimg.com/images/themes/theme1/bg.png', 'profile_background_image_url_https': 'https://abs.twimg.com/images/themes/theme1/bg.png', 'profile_background_tile': False, 'profile_link_color': '1DA1F2', 'profile_sidebar_border_color': 'C0DEED', 'profile_sidebar_fill_color': 'DDEEF6', 'profile_text_color': '333333', 'profile_use_background_image': True, 'profile_image_url': 'http://pbs.twimg.com/profile_images/866759502867161088/ZGcdQunZ_normal.jpg', 'profile_image_url_https': 'https://pbs.twimg.com/profile_images/866759502867161088/ZGcdQunZ_normal.jpg', 'profile_banner_url': 'https://pbs.twimg.com/profile_banners/2750127259/1522445343', 'default_profile': True, 'default_profile_image': False, 'following': None, 'follow_request_sent': None, 'notifications': None, 'withheld_in_countries': []}, 'geo': None, 'coordinates': None, 'place': None, 'contributors': None, 'is_quote_status': False, 'extended_tweet': {'full_text': 'This is as bad a time as any for the Biden Admin to turn to Iran, Venezuela or any other adversary for our nation’s energy supply. Just turn to America, ramp up domestic production, and become energy independent!', 'display_text_range': [0, 212], 'entities': {'hashtags': [], 'urls': [], 'user_mentions': [], 'symbols': []}}, 'quote_count': 72, 'reply_count': 522, 'retweet_count': 1159, 'favorite_count': 5182, 'entities': {'hashtags': [], 'urls': [{'url': 'https://t.co/467VIgnteU', 'expanded_url': 'https://twitter.com/i/web/status/1500599483146588167', 'display_url': 'twitter.com/i/web/status/1…', 'indices': [117, 140]}], 'user_mentions': [], 'symbols': []}, 'favorited': False, 'retweeted': False, 'filter_level': 'low', 'lang': 'en'}, 'is_quote_status': False, 'quote_count': 0, 'reply_count': 0, 'retweet_count': 0, 'favorite_count': 0, 'entities': {'hashtags': [], 'urls': [], 'user_mentions': [{'screen_name': 'RepLeeZeldin', 'name': 'Lee Zeldin', 'id': 2750127259, 'id_str': '2750127259', 'indices': [3, 16]}], 'symbols': []}, 'favorited': False, 'retweeted': False, 'filter_level': 'low', 'lang': 'en', 'timestamp_ms': '1646659522446'}\n"
     ]
    },
    {
     "name": "stderr",
     "output_type": "stream",
     "text": [
      "Stream connection closed by Twitter\n"
     ]
    },
    {
     "name": "stdout",
     "output_type": "stream",
     "text": [
      "{'created_at': 'Mon Mar 07 13:25:23 +0000 2022', 'id': 1500824934720888834, 'id_str': '1500824934720888834', 'text': '@RepMGriffith As the Lord said: “He that loveth not knoweth not God; for God is love”. Help us with at least anti-r… https://t.co/DgI46SrG5U', 'display_text_range': [14, 140], 'source': '<a href=\"https://mobile.twitter.com\" rel=\"nofollow\">Twitter Web App</a>', 'truncated': True, 'in_reply_to_status_id': 1499874194900856837, 'in_reply_to_status_id_str': '1499874194900856837', 'in_reply_to_user_id': 234057152, 'in_reply_to_user_id_str': '234057152', 'in_reply_to_screen_name': 'RepMGriffith', 'user': {'id': 1500765716840071169, 'id_str': '1500765716840071169', 'name': 'Severyn Skaskiv', 'screen_name': 'esevska', 'location': None, 'url': None, 'description': None, 'translator_type': 'none', 'protected': False, 'verified': False, 'followers_count': 0, 'friends_count': 12, 'listed_count': 0, 'favourites_count': 0, 'statuses_count': 35, 'created_at': 'Mon Mar 07 09:30:20 +0000 2022', 'utc_offset': None, 'time_zone': None, 'geo_enabled': False, 'lang': None, 'contributors_enabled': False, 'is_translator': False, 'profile_background_color': 'F5F8FA', 'profile_background_image_url': '', 'profile_background_image_url_https': '', 'profile_background_tile': False, 'profile_link_color': '1DA1F2', 'profile_sidebar_border_color': 'C0DEED', 'profile_sidebar_fill_color': 'DDEEF6', 'profile_text_color': '333333', 'profile_use_background_image': True, 'profile_image_url': 'http://pbs.twimg.com/profile_images/1500765783986741253/CjF4YcBY_normal.jpg', 'profile_image_url_https': 'https://pbs.twimg.com/profile_images/1500765783986741253/CjF4YcBY_normal.jpg', 'default_profile': True, 'default_profile_image': False, 'following': None, 'follow_request_sent': None, 'notifications': None, 'withheld_in_countries': []}, 'geo': None, 'coordinates': None, 'place': None, 'contributors': None, 'is_quote_status': False, 'extended_tweet': {'full_text': \"@RepMGriffith As the Lord said: “He that loveth not knoweth not God; for God is love”. Help us with at least anti-rocket and anti-aircraft defense. I'm in Ukraine right now and we need your support! 🇺🇦 #NoFlyZone #ProtectUASky #StandWithUkraine️\", 'display_text_range': [14, 245], 'entities': {'hashtags': [{'text': 'NoFlyZone', 'indices': [202, 212]}, {'text': 'ProtectUASky', 'indices': [213, 226]}, {'text': 'StandWithUkraine️', 'indices': [227, 245]}], 'urls': [], 'user_mentions': [{'screen_name': 'RepMGriffith', 'name': 'Morgan Griffith', 'id': 234057152, 'id_str': '234057152', 'indices': [0, 13]}], 'symbols': []}}, 'quote_count': 0, 'reply_count': 0, 'retweet_count': 0, 'favorite_count': 0, 'entities': {'hashtags': [], 'urls': [{'url': 'https://t.co/DgI46SrG5U', 'expanded_url': 'https://twitter.com/i/web/status/1500824934720888834', 'display_url': 'twitter.com/i/web/status/1…', 'indices': [117, 140]}], 'user_mentions': [{'screen_name': 'RepMGriffith', 'name': 'Morgan Griffith', 'id': 234057152, 'id_str': '234057152', 'indices': [0, 13]}], 'symbols': []}, 'favorited': False, 'retweeted': False, 'filter_level': 'low', 'lang': 'en', 'timestamp_ms': '1646659523073'}\n"
     ]
    }
   ],
   "source": [
    "def get_client():\n",
    "\n",
    "    with open(\"dev_keys_json.json\", \"r\") as f:\n",
    "        keys = json.load(f)\n",
    "    client = tweepy.Client(bearer_token=keys[\"Bearer_token\"],\n",
    "                           access_token = keys[\"API_key\"],\n",
    "                           access_token_secret = keys[\"API_secret_key\"],\n",
    "                           wait_on_rate_limit=True)\n",
    "    return client\n",
    "\n",
    "    \n",
    "\n",
    "def decompose_tweet(self,tweet):\n",
    "    try:\n",
    "        retweeted_status = tweet.retweeted_status\n",
    "        is_retweet = True\n",
    "        #print(self.count,is_retweet)\n",
    "        #print(retweeted_status.user.id)\n",
    "        #print(tweet.user.id)\n",
    "    except:\n",
    "        is_retweet = False\n",
    "        #print(dir(tweet))\n",
    "        #print(\"\\n\")\n",
    "        self.decompose_tweet(tweet)\n",
    "        pass\n",
    "    if is_retweet:\n",
    "        retweet = tweet\n",
    "        tweet = tweet.retweeted_status\n",
    "        #self.decompose_tweet(original)\n",
    "\n",
    "\n",
    "    user  = tweet.user\n",
    "    username = user.screen_name\n",
    "    id = user.id\n",
    "    text = tweet.text\n",
    "    print(username, text)       \n",
    "    \n",
    "\n",
    "\n",
    "class Listener(tweepy.Stream):\n",
    "    def __init__(self, keys, ids):\n",
    "        \n",
    "        os.chdir(\"./stream_out\")\n",
    "        \n",
    "        self.count = 0\n",
    "        \n",
    "        super().__init__(keys[\"API_key\"], keys[\"API_secret_key\"],\n",
    "                                keys[\"Access_token\"], keys[\"Access_token_secret\"])\n",
    "        \n",
    "\n",
    "\n",
    "    def on_status(self, tweet):\n",
    "\n",
    "        #self.decompose_tweet(tweet)\n",
    "        \n",
    "        tweet_id = tweet.id\n",
    "        \n",
    "        print(tweet._json)\n",
    "        \n",
    "        with open(f\"{tweet_id}.json\", \"w\") as f:\n",
    "  \n",
    "            json.dump(tweet._json, f, indent = 6)\n",
    "        \n",
    "\n",
    "        self.count += 1\n",
    "        #print(self.count,tweet.retweet, tweet.author)\n",
    "        \n",
    "        if self.count >= 3:\n",
    "            self.disconnect()\n",
    "\n",
    "def get_stream(ids):\n",
    "    \n",
    "    with open(\"dev_keys_api_one.json\", \"r\") as f:\n",
    "        keys = json.load(f)\n",
    "    \n",
    "    client = Listener(keys, ids)\n",
    "\n",
    "    return client\n",
    "\n",
    "stream = get_stream(ids)\n",
    "\n",
    "#stream.filter(follow=ids)\n",
    "stream.filter(languages=[\"en\"], follow=ids, filter_level = \"low\")\n",
    "\n"
   ]
  },
  {
   "cell_type": "code",
   "execution_count": null,
   "id": "1b5848e9-67f3-4f14-90ff-7d3e9d7a8b8d",
   "metadata": {},
   "outputs": [],
   "source": []
  },
  {
   "cell_type": "code",
   "execution_count": 4,
   "id": "9758c459-568a-4918-bae1-1d3b1df2ae6e",
   "metadata": {},
   "outputs": [
    {
     "name": "stdout",
     "output_type": "stream",
     "text": [
      "False\n"
     ]
    }
   ],
   "source": [
    "print(stream.running)"
   ]
  },
  {
   "cell_type": "code",
   "execution_count": 5,
   "id": "e35789c1-de36-4ba3-acce-78f2dea6323c",
   "metadata": {},
   "outputs": [
    {
     "name": "stderr",
     "output_type": "stream",
     "text": [
      "Stream connection closed by Twitter\n"
     ]
    },
    {
     "name": "stdout",
     "output_type": "stream",
     "text": [
      "{'created_at': 'Mon Mar 07 13:25:23 +0000 2022', 'id': 1500824937593978887, 'id_str': '1500824937593978887', 'text': 'RT @MarshaBlackburn: Joe Biden is reportedly set to give Iran $7 billion in frozen funds.', 'source': '<a href=\"http://twitter.com/download/android\" rel=\"nofollow\">Twitter for Android</a>', 'truncated': False, 'in_reply_to_status_id': None, 'in_reply_to_status_id_str': None, 'in_reply_to_user_id': None, 'in_reply_to_user_id_str': None, 'in_reply_to_screen_name': None, 'user': {'id': 1363567086484811776, 'id_str': '1363567086484811776', 'name': 'Rod Dixon', 'screen_name': 'RodDixo39614362', 'location': None, 'url': None, 'description': None, 'translator_type': 'none', 'protected': False, 'verified': False, 'followers_count': 103, 'friends_count': 712, 'listed_count': 0, 'favourites_count': 33432, 'statuses_count': 19769, 'created_at': 'Sun Feb 21 19:12:23 +0000 2021', 'utc_offset': None, 'time_zone': None, 'geo_enabled': False, 'lang': None, 'contributors_enabled': False, 'is_translator': False, 'profile_background_color': 'F5F8FA', 'profile_background_image_url': '', 'profile_background_image_url_https': '', 'profile_background_tile': False, 'profile_link_color': '1DA1F2', 'profile_sidebar_border_color': 'C0DEED', 'profile_sidebar_fill_color': 'DDEEF6', 'profile_text_color': '333333', 'profile_use_background_image': True, 'profile_image_url': 'http://abs.twimg.com/sticky/default_profile_images/default_profile_normal.png', 'profile_image_url_https': 'https://abs.twimg.com/sticky/default_profile_images/default_profile_normal.png', 'default_profile': True, 'default_profile_image': False, 'following': None, 'follow_request_sent': None, 'notifications': None, 'withheld_in_countries': []}, 'geo': None, 'coordinates': None, 'place': None, 'contributors': None, 'retweeted_status': {'created_at': 'Mon Mar 07 01:04:08 +0000 2022', 'id': 1500638396355592193, 'id_str': '1500638396355592193', 'text': 'Joe Biden is reportedly set to give Iran $7 billion in frozen funds.', 'source': '<a href=\"http://twitter.com/download/iphone\" rel=\"nofollow\">Twitter for iPhone</a>', 'truncated': False, 'in_reply_to_status_id': None, 'in_reply_to_status_id_str': None, 'in_reply_to_user_id': None, 'in_reply_to_user_id_str': None, 'in_reply_to_screen_name': None, 'user': {'id': 278145569, 'id_str': '278145569', 'name': 'Sen. Marsha Blackburn', 'screen_name': 'MarshaBlackburn', 'location': 'Brentwood, TN', 'url': 'http://blackburn.senate.gov', 'description': 'I am honored to serve the people of Tennessee.', 'translator_type': 'none', 'protected': False, 'verified': True, 'followers_count': 416574, 'friends_count': 2000, 'listed_count': 3062, 'favourites_count': 1886, 'statuses_count': 14003, 'created_at': 'Wed Apr 06 18:05:33 +0000 2011', 'utc_offset': None, 'time_zone': None, 'geo_enabled': False, 'lang': None, 'contributors_enabled': False, 'is_translator': False, 'profile_background_color': 'C0DEED', 'profile_background_image_url': 'http://abs.twimg.com/images/themes/theme1/bg.png', 'profile_background_image_url_https': 'https://abs.twimg.com/images/themes/theme1/bg.png', 'profile_background_tile': True, 'profile_link_color': 'EF4244', 'profile_sidebar_border_color': 'FFFFFF', 'profile_sidebar_fill_color': 'DDEEF6', 'profile_text_color': '333333', 'profile_use_background_image': True, 'profile_image_url': 'http://pbs.twimg.com/profile_images/1082735690213924864/VRFUWsuH_normal.jpg', 'profile_image_url_https': 'https://pbs.twimg.com/profile_images/1082735690213924864/VRFUWsuH_normal.jpg', 'profile_banner_url': 'https://pbs.twimg.com/profile_banners/278145569/1549925243', 'default_profile': False, 'default_profile_image': False, 'following': None, 'follow_request_sent': None, 'notifications': None, 'withheld_in_countries': []}, 'geo': None, 'coordinates': None, 'place': None, 'contributors': None, 'is_quote_status': False, 'quote_count': 294, 'reply_count': 1112, 'retweet_count': 1817, 'favorite_count': 2842, 'entities': {'hashtags': [], 'urls': [], 'user_mentions': [], 'symbols': []}, 'favorited': False, 'retweeted': False, 'filter_level': 'low', 'lang': 'en'}, 'is_quote_status': False, 'quote_count': 0, 'reply_count': 0, 'retweet_count': 0, 'favorite_count': 0, 'entities': {'hashtags': [], 'urls': [], 'user_mentions': [{'screen_name': 'MarshaBlackburn', 'name': 'Sen. Marsha Blackburn', 'id': 278145569, 'id_str': '278145569', 'indices': [3, 19]}], 'symbols': []}, 'favorited': False, 'retweeted': False, 'filter_level': 'low', 'lang': 'en', 'timestamp_ms': '1646659523758'}\n"
     ]
    }
   ],
   "source": [
    "stream.filter(follow=ids)"
   ]
  },
  {
   "cell_type": "code",
   "execution_count": null,
   "id": "43f92582-67e0-48d1-93f4-58f5de717b2b",
   "metadata": {},
   "outputs": [],
   "source": []
  },
  {
   "cell_type": "code",
   "execution_count": null,
   "id": "546f43e5-2479-48ae-b96b-2560549f581c",
   "metadata": {},
   "outputs": [],
   "source": []
  }
 ],
 "metadata": {
  "kernelspec": {
   "display_name": "Python 3 (ipykernel)",
   "language": "python",
   "name": "python3"
  },
  "language_info": {
   "codemirror_mode": {
    "name": "ipython",
    "version": 3
   },
   "file_extension": ".py",
   "mimetype": "text/x-python",
   "name": "python",
   "nbconvert_exporter": "python",
   "pygments_lexer": "ipython3",
   "version": "3.9.6"
  }
 },
 "nbformat": 4,
 "nbformat_minor": 5
}
